{
 "cells": [
  {
   "cell_type": "markdown",
   "id": "2212765c-7813-40ea-aef3-224e348ec92e",
   "metadata": {
    "tags": []
   },
   "source": [
    "# Transformer学习\n",
    "\n",
    "## 1. 理解Transformer模型\n",
    "\n",
    "Transformer模型主要由以下几个部分组成：\n",
    "\n",
    "- **输入嵌入（Input Embedding）**：将输入文本转换成固定大小的向量。\n",
    "- **位置编码（Positional Encoding）**：为模型添加关于单词在句子中位置的信息。\n",
    "- **多头自注意力机制（Multi-Head Self-Attention）**：允许模型同时关注句子中的不同部分。\n",
    "- **前馈神经网络（Feed Forward Neural Network）**：在每个Transformer层中应用。\n",
    "- **标准化层（Normalization Layer）**：用于稳定训练过程。\n",
    "- **输出层（Output Layer）**：将Transformer层的输出转换为最终的输出格式。\n",
    "\n",
    "## 2. 实现多头自注意力\n",
    "\n",
    "多头自注意力是Transformer模型的核心。这个部分包括：\n",
    "\n",
    "- **缩放点积注意力（Scaled Dot-Product Attention）**：计算键（K）、查询（Q）和值（V）之间的注意力。\n",
    "- **多头机制**：将注意力分割成多个头，独立计算后再合并。\n",
    "\n",
    "## 3. 构建Transformer层\n",
    "\n",
    "每个Transformer层都包含一个多头自注意力子层和一个简单的前馈神经网络。这两个子层都有残差连接和标准化层。\n",
    "\n",
    "## 4. 构建位置编码\n",
    "\n",
    "位置编码是Transformer的一个关键部分，因为它给出了序列中每个元素的位置信息。通常，位置编码是通过正弦和余弦函数的组合来实现的。\n",
    "\n",
    "## 5. 构建编码器和解码器\n",
    "\n",
    "- **编码器**：包含N个相同的层，每层都有多头自注意力和前馈神经网络。\n",
    "- **解码器**：也包含N个层，但每层有两个多头自注意力机制，一个是自注意力，另一个是编码器-解码器注意力，以及一个前馈神经网络。\n",
    "\n",
    "## 6. 定义输出层\n",
    "\n",
    "输出层通常是一个线性层，用于将解码器的输出转换为所需的格式，例如，用于文本生成或分类。"
   ]
  },
  {
   "cell_type": "markdown",
   "id": "0660bbcf-20da-4b4b-8adc-a88fa1648307",
   "metadata": {},
   "source": [
    "## 代码开始\n",
    "\n",
    "（这里是否需要固定种子呢？）"
   ]
  },
  {
   "cell_type": "code",
   "execution_count": 11,
   "id": "73650114-ebe7-4e70-95f6-4583aa9664aa",
   "metadata": {
    "tags": []
   },
   "outputs": [
    {
     "name": "stdout",
     "output_type": "stream",
     "text": [
      "device is cuda, cuda_device_0:NVIDIA GeForce RTX 4060 Ti\n",
      "INFO: Pandarallel will run on 6 workers.\n",
      "INFO: Pandarallel will use Memory file system to transfer data between the main process and workers.\n"
     ]
    }
   ],
   "source": [
    "import math\n",
    "import os\n",
    "import pickle\n",
    "import random\n",
    "import time\n",
    "from functools import partial\n",
    "import torch\n",
    "from torch import nn\n",
    "import torch.nn.functional as F\n",
    "from torch.utils.data import Dataset, DataLoader, random_split\n",
    "from torch.nn.utils.rnn import pad_sequence\n",
    "from torchtext.data.utils import get_tokenizer\n",
    "from torchtext.vocab import build_vocab_from_iterator\n",
    "import pandas as pd\n",
    "import numpy as np\n",
    "from matplotlib import pyplot as plt\n",
    "import jieba\n",
    "from tqdm import tqdm\n",
    "from pandarallel import pandarallel\n",
    "\n",
    "device = 'cuda' if torch.cuda.is_available() else 'cpu'\n",
    "print(f'device is {device}, cuda_device_0:{torch.cuda.get_device_name(0)}')\n",
    "\n",
    "# tqdm.pandas()\n",
    "pandarallel.initialize(progress_bar=True)"
   ]
  },
  {
   "cell_type": "markdown",
   "id": "4e8a03dd-f053-4edb-a633-bd50a64ecf6e",
   "metadata": {
    "tags": []
   },
   "source": [
    "## 数据预处理\n",
    "\n",
    "使用pandas读取数据集，并输出基本情况"
   ]
  },
  {
   "cell_type": "code",
   "execution_count": 2,
   "id": "53846568-1a7a-4a1a-98cc-68bc892e5546",
   "metadata": {
    "tags": []
   },
   "outputs": [],
   "source": [
    "DATA_PATH = \"./dataset/DMSC_2M.csv\"\n",
    "df1 = pd.read_csv(DATA_PATH)"
   ]
  },
  {
   "cell_type": "code",
   "execution_count": 3,
   "id": "e08f9c8b-fc29-4717-9476-a782b981f9ce",
   "metadata": {
    "tags": []
   },
   "outputs": [
    {
     "name": "stdout",
     "output_type": "stream",
     "text": [
      "总数: 2125056\n",
      "每列包含的内容: ['ID', 'Movie_Name_EN', 'Movie_Name_CN', 'Crawl_Date', 'Number', 'Username', 'Date', 'Star', 'Comment', 'Like']\n",
      "缺失元素: {'ID': 0, 'Movie_Name_EN': 0, 'Movie_Name_CN': 0, 'Crawl_Date': 0, 'Number': 0, 'Username': 173, 'Date': 0, 'Star': 0, 'Comment': 0, 'Like': 0}\n"
     ]
    },
    {
     "data": {
      "text/html": [
       "<div>\n",
       "<style scoped>\n",
       "    .dataframe tbody tr th:only-of-type {\n",
       "        vertical-align: middle;\n",
       "    }\n",
       "\n",
       "    .dataframe tbody tr th {\n",
       "        vertical-align: top;\n",
       "    }\n",
       "\n",
       "    .dataframe thead th {\n",
       "        text-align: right;\n",
       "    }\n",
       "</style>\n",
       "<table border=\"1\" class=\"dataframe\">\n",
       "  <thead>\n",
       "    <tr style=\"text-align: right;\">\n",
       "      <th></th>\n",
       "      <th>ID</th>\n",
       "      <th>Movie_Name_EN</th>\n",
       "      <th>Movie_Name_CN</th>\n",
       "      <th>Crawl_Date</th>\n",
       "      <th>Number</th>\n",
       "      <th>Username</th>\n",
       "      <th>Date</th>\n",
       "      <th>Star</th>\n",
       "      <th>Comment</th>\n",
       "      <th>Like</th>\n",
       "    </tr>\n",
       "  </thead>\n",
       "  <tbody>\n",
       "    <tr>\n",
       "      <th>0</th>\n",
       "      <td>0</td>\n",
       "      <td>Avengers Age of Ultron</td>\n",
       "      <td>复仇者联盟2</td>\n",
       "      <td>2017-01-22</td>\n",
       "      <td>1</td>\n",
       "      <td>然潘</td>\n",
       "      <td>2015-05-13</td>\n",
       "      <td>3</td>\n",
       "      <td>连奥创都知道整容要去韩国。</td>\n",
       "      <td>2404</td>\n",
       "    </tr>\n",
       "    <tr>\n",
       "      <th>1</th>\n",
       "      <td>1</td>\n",
       "      <td>Avengers Age of Ultron</td>\n",
       "      <td>复仇者联盟2</td>\n",
       "      <td>2017-01-22</td>\n",
       "      <td>2</td>\n",
       "      <td>更深的白色</td>\n",
       "      <td>2015-04-24</td>\n",
       "      <td>2</td>\n",
       "      <td>非常失望，剧本完全敷衍了事，主线剧情没突破大家可以理解，可所有的人物都缺乏动机，正邪之间、...</td>\n",
       "      <td>1231</td>\n",
       "    </tr>\n",
       "    <tr>\n",
       "      <th>2</th>\n",
       "      <td>2</td>\n",
       "      <td>Avengers Age of Ultron</td>\n",
       "      <td>复仇者联盟2</td>\n",
       "      <td>2017-01-22</td>\n",
       "      <td>3</td>\n",
       "      <td>有意识的贱民</td>\n",
       "      <td>2015-04-26</td>\n",
       "      <td>2</td>\n",
       "      <td>2015年度最失望作品。以为面面俱到，实则画蛇添足；以为主题深刻，实则老调重弹；以为推陈出...</td>\n",
       "      <td>1052</td>\n",
       "    </tr>\n",
       "    <tr>\n",
       "      <th>3</th>\n",
       "      <td>3</td>\n",
       "      <td>Avengers Age of Ultron</td>\n",
       "      <td>复仇者联盟2</td>\n",
       "      <td>2017-01-22</td>\n",
       "      <td>4</td>\n",
       "      <td>不老的李大爷耶</td>\n",
       "      <td>2015-04-23</td>\n",
       "      <td>4</td>\n",
       "      <td>《铁人2》中勾引钢铁侠，《妇联1》中勾引鹰眼，《美队2》中勾引美国队长，在《妇联2》中终于...</td>\n",
       "      <td>1045</td>\n",
       "    </tr>\n",
       "    <tr>\n",
       "      <th>4</th>\n",
       "      <td>4</td>\n",
       "      <td>Avengers Age of Ultron</td>\n",
       "      <td>复仇者联盟2</td>\n",
       "      <td>2017-01-22</td>\n",
       "      <td>5</td>\n",
       "      <td>ZephyrO</td>\n",
       "      <td>2015-04-22</td>\n",
       "      <td>2</td>\n",
       "      <td>虽然从头打到尾，但是真的很无聊啊。</td>\n",
       "      <td>723</td>\n",
       "    </tr>\n",
       "  </tbody>\n",
       "</table>\n",
       "</div>"
      ],
      "text/plain": [
       "   ID           Movie_Name_EN Movie_Name_CN  Crawl_Date  Number Username  \\\n",
       "0   0  Avengers Age of Ultron        复仇者联盟2  2017-01-22       1       然潘   \n",
       "1   1  Avengers Age of Ultron        复仇者联盟2  2017-01-22       2    更深的白色   \n",
       "2   2  Avengers Age of Ultron        复仇者联盟2  2017-01-22       3   有意识的贱民   \n",
       "3   3  Avengers Age of Ultron        复仇者联盟2  2017-01-22       4  不老的李大爷耶   \n",
       "4   4  Avengers Age of Ultron        复仇者联盟2  2017-01-22       5  ZephyrO   \n",
       "\n",
       "         Date  Star                                            Comment  Like  \n",
       "0  2015-05-13     3                                      连奥创都知道整容要去韩国。  2404  \n",
       "1  2015-04-24     2   非常失望，剧本完全敷衍了事，主线剧情没突破大家可以理解，可所有的人物都缺乏动机，正邪之间、...  1231  \n",
       "2  2015-04-26     2   2015年度最失望作品。以为面面俱到，实则画蛇添足；以为主题深刻，实则老调重弹；以为推陈出...  1052  \n",
       "3  2015-04-23     4   《铁人2》中勾引钢铁侠，《妇联1》中勾引鹰眼，《美队2》中勾引美国队长，在《妇联2》中终于...  1045  \n",
       "4  2015-04-22     2                                  虽然从头打到尾，但是真的很无聊啊。   723  "
      ]
     },
     "execution_count": 3,
     "metadata": {},
     "output_type": "execute_result"
    }
   ],
   "source": [
    "print(\"总数:\", len(df1))\n",
    "print(\"每列包含的内容:\", df1.columns.tolist())\n",
    "print(\"缺失元素:\", df1.isnull().sum().to_dict())\n",
    "df1.head()\n",
    "\n",
    "# 总数: 2125056\n",
    "# 每列包含的内容: ['ID', 'Movie_Name_EN', 'Movie_Name_CN', 'Crawl_Date', 'Number', 'Username', 'Date', 'Star', 'Comment', 'Like']\n",
    "# 缺失元素: {'ID': 0, 'Movie_Name_EN': 0, 'Movie_Name_CN': 0, 'Crawl_Date': 0, 'Number': 0, 'Username': 173, 'Date': 0, 'Star': 0, 'Comment': 0, 'Like': 0}"
   ]
  },
  {
   "cell_type": "code",
   "execution_count": 4,
   "id": "ea86f432-0943-48ae-806b-7a47c2cb74d6",
   "metadata": {
    "tags": []
   },
   "outputs": [],
   "source": [
    "DATA_PATH = \"./dataset/DMSC_10M.csv\"\n",
    "df2 = pd.read_csv(DATA_PATH)"
   ]
  },
  {
   "cell_type": "code",
   "execution_count": 5,
   "id": "15370a90-199d-4758-92f0-1ed37e30f1e1",
   "metadata": {
    "tags": []
   },
   "outputs": [
    {
     "name": "stdout",
     "output_type": "stream",
     "text": [
      "总数: 10310989\n",
      "每列包含的内容: ['ID', 'Movie_Name', 'Score', 'Review_People', 'Star_Distribution', 'Craw_Date', 'Username', 'Date', 'Star', 'Comment', 'Comment_Distribution', 'Like']\n",
      "缺失元素: {'ID': 0, 'Movie_Name': 0, 'Score': 0, 'Review_People': 0, 'Star_Distribution': 0, 'Craw_Date': 0, 'Username': 1876, 'Date': 0, 'Star': 0, 'Comment': 7, 'Comment_Distribution': 0, 'Like': 0}\n"
     ]
    },
    {
     "data": {
      "text/html": [
       "<div>\n",
       "<style scoped>\n",
       "    .dataframe tbody tr th:only-of-type {\n",
       "        vertical-align: middle;\n",
       "    }\n",
       "\n",
       "    .dataframe tbody tr th {\n",
       "        vertical-align: top;\n",
       "    }\n",
       "\n",
       "    .dataframe thead th {\n",
       "        text-align: right;\n",
       "    }\n",
       "</style>\n",
       "<table border=\"1\" class=\"dataframe\">\n",
       "  <thead>\n",
       "    <tr style=\"text-align: right;\">\n",
       "      <th></th>\n",
       "      <th>ID</th>\n",
       "      <th>Movie_Name</th>\n",
       "      <th>Score</th>\n",
       "      <th>Review_People</th>\n",
       "      <th>Star_Distribution</th>\n",
       "      <th>Craw_Date</th>\n",
       "      <th>Username</th>\n",
       "      <th>Date</th>\n",
       "      <th>Star</th>\n",
       "      <th>Comment</th>\n",
       "      <th>Comment_Distribution</th>\n",
       "      <th>Like</th>\n",
       "    </tr>\n",
       "  </thead>\n",
       "  <tbody>\n",
       "    <tr>\n",
       "      <th>0</th>\n",
       "      <td>0</td>\n",
       "      <td>1988年的妮可 Nico, 1988</td>\n",
       "      <td>7.5</td>\n",
       "      <td>565</td>\n",
       "      <td>15.2%48.2%32.3%3.4%0.8%</td>\n",
       "      <td>2019-10-05</td>\n",
       "      <td>尾黑</td>\n",
       "      <td>2018-06-23</td>\n",
       "      <td>3</td>\n",
       "      <td>成本低廉的PPT电影，用Nico生命中最后一年发生的事给Nico的歌配上情节，倒不算尴尬。女...</td>\n",
       "      <td>66%31%3%</td>\n",
       "      <td>4</td>\n",
       "    </tr>\n",
       "    <tr>\n",
       "      <th>1</th>\n",
       "      <td>1</td>\n",
       "      <td>1988年的妮可 Nico, 1988</td>\n",
       "      <td>7.5</td>\n",
       "      <td>565</td>\n",
       "      <td>15.2%48.2%32.3%3.4%0.8%</td>\n",
       "      <td>2019-10-05</td>\n",
       "      <td>大奇特(Grinch)</td>\n",
       "      <td>2018-06-28</td>\n",
       "      <td>3</td>\n",
       "      <td>传记片能做到半真半假的真实，就成功一半了，然后就是走进人物的内心世界。这部影片做到了纪录片般...</td>\n",
       "      <td>66%31%3%</td>\n",
       "      <td>4</td>\n",
       "    </tr>\n",
       "    <tr>\n",
       "      <th>2</th>\n",
       "      <td>2</td>\n",
       "      <td>1988年的妮可 Nico, 1988</td>\n",
       "      <td>7.5</td>\n",
       "      <td>565</td>\n",
       "      <td>15.2%48.2%32.3%3.4%0.8%</td>\n",
       "      <td>2019-10-05</td>\n",
       "      <td>西楼尘</td>\n",
       "      <td>2018-07-01</td>\n",
       "      <td>3</td>\n",
       "      <td>意大利房东记得他的嚣张，岔开大腿抽着烟说，我的计划是成为优雅的老女人。总念错名字的劳拉记得她...</td>\n",
       "      <td>66%31%3%</td>\n",
       "      <td>2</td>\n",
       "    </tr>\n",
       "    <tr>\n",
       "      <th>3</th>\n",
       "      <td>3</td>\n",
       "      <td>1988年的妮可 Nico, 1988</td>\n",
       "      <td>7.5</td>\n",
       "      <td>565</td>\n",
       "      <td>15.2%48.2%32.3%3.4%0.8%</td>\n",
       "      <td>2019-10-05</td>\n",
       "      <td>张晚禾</td>\n",
       "      <td>2018-06-28</td>\n",
       "      <td>3</td>\n",
       "      <td>意大利电影周开幕片</td>\n",
       "      <td>66%31%3%</td>\n",
       "      <td>0</td>\n",
       "    </tr>\n",
       "    <tr>\n",
       "      <th>4</th>\n",
       "      <td>4</td>\n",
       "      <td>1988年的妮可 Nico, 1988</td>\n",
       "      <td>7.5</td>\n",
       "      <td>565</td>\n",
       "      <td>15.2%48.2%32.3%3.4%0.8%</td>\n",
       "      <td>2019-10-05</td>\n",
       "      <td>汪金卫</td>\n",
       "      <td>2018-06-29</td>\n",
       "      <td>3</td>\n",
       "      <td>【中国电影资料馆展映】歌星Nico的最后三年，青春不再，人气不再，衰老暴躁，在漂泊不定的巡回...</td>\n",
       "      <td>66%31%3%</td>\n",
       "      <td>1</td>\n",
       "    </tr>\n",
       "  </tbody>\n",
       "</table>\n",
       "</div>"
      ],
      "text/plain": [
       "   ID           Movie_Name  Score  Review_People        Star_Distribution  \\\n",
       "0   0  1988年的妮可 Nico, 1988    7.5            565  15.2%48.2%32.3%3.4%0.8%   \n",
       "1   1  1988年的妮可 Nico, 1988    7.5            565  15.2%48.2%32.3%3.4%0.8%   \n",
       "2   2  1988年的妮可 Nico, 1988    7.5            565  15.2%48.2%32.3%3.4%0.8%   \n",
       "3   3  1988年的妮可 Nico, 1988    7.5            565  15.2%48.2%32.3%3.4%0.8%   \n",
       "4   4  1988年的妮可 Nico, 1988    7.5            565  15.2%48.2%32.3%3.4%0.8%   \n",
       "\n",
       "    Craw_Date     Username        Date  Star  \\\n",
       "0  2019-10-05           尾黑  2018-06-23     3   \n",
       "1  2019-10-05  大奇特(Grinch)  2018-06-28     3   \n",
       "2  2019-10-05          西楼尘  2018-07-01     3   \n",
       "3  2019-10-05          张晚禾  2018-06-28     3   \n",
       "4  2019-10-05          汪金卫  2018-06-29     3   \n",
       "\n",
       "                                             Comment Comment_Distribution  \\\n",
       "0  成本低廉的PPT电影，用Nico生命中最后一年发生的事给Nico的歌配上情节，倒不算尴尬。女...             66%31%3%   \n",
       "1  传记片能做到半真半假的真实，就成功一半了，然后就是走进人物的内心世界。这部影片做到了纪录片般...             66%31%3%   \n",
       "2  意大利房东记得他的嚣张，岔开大腿抽着烟说，我的计划是成为优雅的老女人。总念错名字的劳拉记得她...             66%31%3%   \n",
       "3                                          意大利电影周开幕片             66%31%3%   \n",
       "4  【中国电影资料馆展映】歌星Nico的最后三年，青春不再，人气不再，衰老暴躁，在漂泊不定的巡回...             66%31%3%   \n",
       "\n",
       "   Like  \n",
       "0     4  \n",
       "1     4  \n",
       "2     2  \n",
       "3     0  \n",
       "4     1  "
      ]
     },
     "execution_count": 5,
     "metadata": {},
     "output_type": "execute_result"
    }
   ],
   "source": [
    "print(\"总数:\", len(df2))\n",
    "print(\"每列包含的内容:\", df2.columns.tolist())\n",
    "print(\"缺失元素:\", df2.isnull().sum().to_dict())\n",
    "df2.head()\n",
    "\n",
    "# 总数: 10310989\n",
    "# 每列包含的内容: ['ID', 'Movie_Name', 'Score', 'Review_People', 'Star_Distribution', 'Craw_Date', 'Username', 'Date', 'Star', 'Comment', 'Comment_Distribution', 'Like']\n",
    "# 缺失元素: {'ID': 0, 'Movie_Name': 0, 'Score': 0, 'Review_People': 0, 'Star_Distribution': 0, 'Craw_Date': 0, 'Username': 1876, 'Date': 0, 'Star': 0, 'Comment': 7, 'Comment_Distribution': 0, 'Like': 0}"
   ]
  },
  {
   "cell_type": "code",
   "execution_count": 6,
   "id": "10c253ff-395b-4f29-a7ee-3aea1ca13f33",
   "metadata": {
    "tags": []
   },
   "outputs": [
    {
     "name": "stdout",
     "output_type": "stream",
     "text": [
      "总数: 11494120\n"
     ]
    }
   ],
   "source": [
    "combined_comment = pd.concat([df1[\"Comment\"], df2[\"Comment\"]])\n",
    "combined_star = pd.concat([df1[\"Star\"], df2[\"Star\"]])\n",
    "\n",
    "combined_df = pd.DataFrame({\"Comment\": combined_comment, \"Star\": combined_star}).dropna()\n",
    "del df1, df2\n",
    "\n",
    "combined_df_unique = combined_df.drop_duplicates().reset_index(drop=True) # 删除重复行，重置索引并覆盖原索引\n",
    "print(\"总数:\", len(combined_df_unique)) # 总数: 11494120\n",
    "combined_df_unique.head()"
   ]
  },
  {
   "cell_type": "markdown",
   "id": "b215e7e6-8b9c-40f0-b4b9-61c660a00adf",
   "metadata": {},
   "source": [
    "### 绘制星级的分布条形图"
   ]
  },
  {
   "cell_type": "code",
   "execution_count": 7,
   "id": "4125082b-392d-4fcb-b98a-d2dd2a9b5da4",
   "metadata": {
    "tags": []
   },
   "outputs": [
    {
     "data": {
      "image/png": "[encoded data removed]",
      "text/plain": [
       "<Figure size 640x480 with 1 Axes>"
      ]
     },
     "metadata": {},
     "output_type": "display_data"
    }
   ],
   "source": [
    "plt.hist(combined_df_unique['Star'], bins=[0.5, 1.5, 2.5, 3.5, 4.5, 5.5], edgecolor='black')\n",
    "plt.xlabel('Star Rating')\n",
    "plt.ylabel('Frequency')\n",
    "plt.xticks([1, 2, 3, 4, 5])\n",
    "plt.show()"
   ]
  },
  {
   "cell_type": "markdown",
   "id": "c3378192-986b-4ab0-838f-cf82774c5603",
   "metadata": {},
   "source": [
    "### 创建词典\n",
    "\n",
    "首先需要使用jieba库进行中文分词，并结合停用词表过滤不需要的词。\n",
    "\n",
    "同时统一句子长度，超过指定值的截断，小于指定值的使用\"\\<pad\\>\"补全。"
   ]
  },
  {
   "cell_type": "code",
   "execution_count": 8,
   "id": "52b900f3-0ad4-4a22-8c75-073abb5d0dc3",
   "metadata": {
    "tags": []
   },
   "outputs": [],
   "source": [
    "# 读取停用词表\n",
    "stopwords_list_path = [\n",
    "    \"./stopwords/baidu_stopwords.txt\",\n",
    "    \"./stopwords/cn_stopwords.txt\",\n",
    "    \"./stopwords/hit_stopwords.txt\",\n",
    "    \"./stopwords/scu_stopwords.txt\",\n",
    "]\n",
    "\n",
    "def load_stopwords(paths:list[str]) -> set[str]:\n",
    "    stopwords = []\n",
    "    for path in paths:\n",
    "        with open(path, \"r\", encoding=\"utf-8\") as f_obj:\n",
    "            stopwords += [line.strip() for line in f_obj]\n",
    "            \n",
    "    return set(stopwords)\n",
    "\n",
    "stopwords = load_stopwords(stopwords_list_path)"
   ]
  },
  {
   "cell_type": "code",
   "execution_count": 9,
   "id": "b628df53-0576-48cf-a245-43305fe22bac",
   "metadata": {
    "tags": []
   },
   "outputs": [
    {
     "data": {
      "application/vnd.jupyter.widget-view+json": {
       "model_id": "17b015ec62854872b2294a13347f7b2e",
       "version_major": 2,
       "version_minor": 0
      },
      "text/plain": [
       "VBox(children=(HBox(children=(IntProgress(value=0, description='0.00%', max=1915687), Label(value='0 / 1915687…"
      ]
     },
     "metadata": {},
     "output_type": "display_data"
    },
    {
     "name": "stderr",
     "output_type": "stream",
     "text": [
      "Building prefix dict from the default dictionary ...\n",
      "Building prefix dict from the default dictionary ...\n",
      "Building prefix dict from the default dictionary ...\n",
      "Building prefix dict from the default dictionary ...\n",
      "Building prefix dict from the default dictionary ...\n",
      "Building prefix dict from the default dictionary ...\n",
      "Dumping model to file cache /tmp/jieba.cache\n",
      "Dumping model to file cache /tmp/jieba.cache\n",
      "Dumping model to file cache /tmp/jieba.cache\n",
      "Dumping model to file cache /tmp/jieba.cache\n",
      "Loading model cost 0.491 seconds.\n",
      "Prefix dict has been built successfully.\n",
      "Loading model cost 0.503 seconds.\n",
      "Prefix dict has been built successfully.\n",
      "Dumping model to file cache /tmp/jieba.cache\n",
      "Loading model cost 0.497 seconds.\n",
      "Prefix dict has been built successfully.\n",
      "Loading model cost 0.515 seconds.\n",
      "Dumping model to file cache /tmp/jieba.cache\n",
      "Prefix dict has been built successfully.\n",
      "Loading model cost 0.515 seconds.\n",
      "Prefix dict has been built successfully.\n",
      "Loading model cost 0.517 seconds.\n",
      "Prefix dict has been built successfully.\n"
     ]
    },
    {
     "name": "stdout",
     "output_type": "stream",
     "text": [
      "finished in 441.174844284s!\n"
     ]
    },
    {
     "data": {
      "text/plain": [
       "0                      [连, 奥创, 都, 知道, 整容, 要, 去, 韩国, 。]\n",
       "1    [非常, 失望, ，, 剧本, 完全, 敷衍了事, ，, 主线, 剧情, 没, 突破, 大家...\n",
       "2    [2015, 年度, 最, 失望, 作品, 。, 以为, 面面俱到, ，, 实则, 画蛇添足...\n",
       "3    [《, 铁人, 2, 》, 中, 勾引, 钢铁, 侠, ，, 《, 妇联, 1, 》, 中,...\n",
       "4              [虽然, 从头, 打到, 尾, ，, 但是, 真的, 很, 无聊, 啊, 。]\n",
       "Name: Comment, dtype: object"
      ]
     },
     "execution_count": 9,
     "metadata": {},
     "output_type": "execute_result"
    }
   ],
   "source": [
    "# 使用jieba分词，可选用停用词表进行筛选\n",
    "def tokenize_str(sentence:str, use_stopwords:bool=False) -> list[str]:\n",
    "    seg_list = list(jieba.cut(sentence.strip(), cut_all=False))\n",
    "    if use_stopwords == False:\n",
    "        return seg_list\n",
    "    \n",
    "    filtered_words = [word for word in seg_list if word not in stopwords]\n",
    "    return filtered_words\n",
    "\n",
    "tokenize_str = partial(tokenize_str, use_stopwords=False) # 是否启用停用词表\n",
    "tokenizer = get_tokenizer(tokenize_str)\n",
    "\n",
    "start_time = time.perf_counter()\n",
    "# tokenized = df['Comment'].progress_apply(tokenizer)\n",
    "tokenized = combined_df_unique['Comment'].parallel_apply(tokenizer)\n",
    "print(f\"finished in {time.perf_counter() - start_time}s!\")\n",
    "\n",
    "tokenized.head()"
   ]
  },
  {
   "cell_type": "code",
   "execution_count": 10,
   "id": "f44cf693-e256-47ab-bbe7-3c93fcfcb941",
   "metadata": {
    "tags": []
   },
   "outputs": [
    {
     "name": "stdout",
     "output_type": "stream",
     "text": [
      "vocab len:578378\n"
     ]
    }
   ],
   "source": [
    "# 构建词汇表\n",
    "vocab = build_vocab_from_iterator(tokenized, min_freq=2, specials=('<unk>', '<pad>'))\n",
    "vocab.set_default_index(vocab[\"<unk>\"]) # 将不在词汇表中的词语设置为\"<unk>\"\n",
    "print(f\"vocab len:{len(vocab)}\")"
   ]
  },
  {
   "cell_type": "code",
   "execution_count": null,
   "id": "d3cb60b7-ed20-4e7b-9214-49b5d757f5ba",
   "metadata": {},
   "outputs": [],
   "source": [
    "with open('./12M_vocab_freq2.pkl', 'wb') as f:\n",
    "    pickle.dump(vocab, f)"
   ]
  },
  {
   "cell_type": "markdown",
   "id": "4b4c413c-ae7c-41c1-a06b-f006b9b42502",
   "metadata": {
    "tags": []
   },
   "source": [
    "### 统一句子长度\n",
    "\n",
    "绘制电影评论长度分布图像，用于之后进行pad_sequence统一句子长度时参考"
   ]
  },
  {
   "cell_type": "code",
   "execution_count": 12,
   "id": "264e3f72-81e3-4fda-8511-de91727050f7",
   "metadata": {
    "tags": []
   },
   "outputs": [
    {
     "data": {
      "image/png": "[encoded data removed]",
      "text/plain": [
       "<Figure size 1000x600 with 1 Axes>"
      ]
     },
     "metadata": {},
     "output_type": "display_data"
    }
   ],
   "source": [
    "df_length = tokenized.apply(len)\n",
    "plt.figure(figsize=(10, 6))\n",
    "plt.hist(df_length, bins=30, edgecolor='black')\n",
    "plt.xlabel('sentence length (number of character)')\n",
    "plt.ylabel('Frequency')\n",
    "plt.show()"
   ]
  },
  {
   "cell_type": "code",
   "execution_count": 16,
   "id": "25ebcb9c-518b-4821-b5c4-9059055cce1f",
   "metadata": {
    "tags": []
   },
   "outputs": [
    {
     "name": "stdout",
     "output_type": "stream",
     "text": [
      "10494859 91.30632880116094%\n"
     ]
    }
   ],
   "source": [
    "filtered_df = tokenized[df_length < 64]\n",
    "num_sentences_less_than = filtered_df.shape[0]\n",
    "print(num_sentences_less_than, f'{num_sentences_less_than / len(tokenized) * 100}%')\n",
    "# 长度小于64的评论有10494859条，占比91.31%"
   ]
  },
  {
   "cell_type": "code",
   "execution_count": null,
   "id": "df0298d6-ca01-48bd-bfe4-8252e8e06163",
   "metadata": {
    "tags": []
   },
   "outputs": [],
   "source": [
    "# 统一句子长度\n",
    "indexed_sequences = [torch.tensor([vocab[token] for token in seq]) for seq in tokenized]\n",
    "padded_sequences = pad_sequence(indexed_sequences, batch_first=True, padding_value=vocab['<pad>'])\n",
    "target_length = 64\n",
    "padded_sequences = padded_sequences[:, :target_length]\n",
    "\n",
    "print(tokenized[:5], len(tokenized))\n",
    "print(padded_sequences[:5], len(padded_sequences))"
   ]
  },
  {
   "cell_type": "markdown",
   "id": "6f960d7a-85cc-47d1-ac57-28424648c7ac",
   "metadata": {},
   "source": [
    "### 创建Dataset和DataLoader\n",
    "\n",
    "将前面的数据预处理部分放入Dataset，1-2星为负面，3星中性，4-5星正面"
   ]
  },
  {
   "cell_type": "code",
   "execution_count": 33,
   "id": "e785b29e-18a8-4178-83ad-33cf9c3acc9a",
   "metadata": {
    "tags": []
   },
   "outputs": [],
   "source": [
    "class CommentSet(Dataset):\n",
    "    def __init__(self, Comments:torch.Tensor, Stars:pd.Series) -> None:\n",
    "        assert Stars.min() >= 1 and Stars.max() <= 5, \"Label out of range\"\n",
    "        assert len(Comments) == len(Stars), \"The number of comments and stars is not the same!\"\n",
    "        self.Comments = Comments.long()\n",
    "        self.Stars = torch.tensor(Stars, dtype=torch.long)\n",
    "        \n",
    "    def __len__(self):\n",
    "        return len(self.Comments)\n",
    "\n",
    "    def __getitem__(self, idx:int) -> tuple:\n",
    "        star = self.Stars[idx] - 1\n",
    "        # assert 0 <= star < 5, \"The converted label is out of range\"\n",
    "        if star <= 2:  # 1 and 2 stars are considered negative reviews\n",
    "            label = 0\n",
    "        elif star == 3:  # 3 stars are considered neutral reviews\n",
    "            label = 1\n",
    "        else:  # 4 and 5 stars are considered positive reviews\n",
    "            label = 2\n",
    "        return self.Comments[idx], label\n",
    "    \n",
    "comment_set = CommentSet(padded_sequences, df[\"Star\"])"
   ]
  },
  {
   "cell_type": "code",
   "execution_count": 34,
   "id": "b94dd3f8-77e4-44c1-8842-e44beb4dd5ed",
   "metadata": {
    "tags": []
   },
   "outputs": [
    {
     "name": "stdout",
     "output_type": "stream",
     "text": [
      "tensor([[32414,  1343,  1521,  ...,     1,     1,     1],\n",
      "        [ 4437,   165,  1024,  ...,     1,     1,     1],\n",
      "        [ 3023,   900,   197,  ...,     1,     1,     1],\n",
      "        ...,\n",
      "        [   12,   521,   130,  ...,     1,     1,     1],\n",
      "        [  540,   424,     1,  ...,     1,     1,     1],\n",
      "        [    5,    13,  1219,  ...,     1,     1,     1]]) torch.int64\n",
      "tensor([3, 4, 3, 0, 4, 1, 3, 4, 0, 4, 2, 3, 4, 1, 4, 3, 1, 2, 3, 4, 2, 3, 2, 3,\n",
      "        4, 4, 4, 3, 4, 3, 3, 4, 3, 1, 2, 4, 2, 3, 2, 1, 3, 2, 2, 3, 2, 2, 3, 0,\n",
      "        0, 2, 3, 3, 4, 3, 1, 3, 4, 4, 0, 2, 2, 4, 4, 2, 3, 0, 0, 3, 3, 3, 0, 4,\n",
      "        4, 2, 3, 0, 2, 0, 3, 3, 4, 1, 0, 2, 2, 3, 4, 3, 3, 2, 0, 3, 3, 4, 4, 2,\n",
      "        4, 4, 3, 0, 3, 0, 2, 4, 4, 2, 1, 4, 0, 1, 3, 4, 2, 2, 2, 0, 4, 4, 4, 2,\n",
      "        2, 2, 3, 1, 4, 0, 2, 1]) torch.int64\n",
      "128 128\n"
     ]
    }
   ],
   "source": [
    "# 创建DataLoader\n",
    "data_loader = DataLoader(comment_set, batch_size=128, shuffle=True, num_workers=6, pin_memory=True)\n",
    "comment, star = next(iter(data_loader))\n",
    "print(comment, comment.dtype)\n",
    "print(star, star.dtype)\n",
    "print(len(comment), len(star))"
   ]
  },
  {
   "cell_type": "markdown",
   "id": "ea02ae08-1ce3-452f-996b-14d5c17b6a26",
   "metadata": {
    "tags": []
   },
   "source": [
    "## 模型构造\n",
    "\n",
    "<img src=\"./images/transformer.png\" title=\"transformer\" width=\"600\" alt=\"transformer基本架构 图片来自论文https://arxiv.org/abs/2106.04554\">\n",
    "<p>transformer基本架构</p>\n",
    "\n",
    "图片来自论文：https://arxiv.org/abs/2106.04554\n",
    "\n",
    "讲解视频：https://www.bilibili.com/video/BV1cP4y1V7GF/\n",
    "\n",
    "大致分为几部分：\n",
    "* 词嵌入\n",
    "* 位置编码\n",
    "* 多头注意力\n",
    "    * 多头机制\n",
    "    * 缩放点积自注意力(Scaled Dot-Product Attention)\n",
    "    * 带掩码的多头注意力(mask)\n",
    "* 编码器和解码器\n",
    "    * 基于位置的前馈神经网络 (Position-Wise Feed-Forward Network)    \n",
    "    * 多头注意力    \n",
    "    * Add & Norm\n",
    "    \n",
    "***注***：在transformer模型中，模型维度d_model一般指的是词嵌入维度"
   ]
  },
  {
   "cell_type": "code",
   "execution_count": 35,
   "id": "cf496d07-9889-431c-9e3a-16430144ff4b",
   "metadata": {
    "tags": []
   },
   "outputs": [],
   "source": [
    "# 模型超参数\n",
    "batch_size = 128\n",
    "max_len = 32\n",
    "d_model = 512\n",
    "num_heads = 8\n",
    "d_ff = 2048\n",
    "n_layers = 6\n",
    "d_k = d_model // num_heads"
   ]
  },
  {
   "cell_type": "markdown",
   "id": "2668cdc7-006f-43c4-a7d7-9f36a997a0ff",
   "metadata": {},
   "source": [
    "### 词嵌入\n",
    "\n",
    "使用pytorch自带的nn.Embedding()层\n",
    "\n",
    "* 官方文档：https://pytorch.org/docs/stable/generated/torch.nn.Embedding.html\n",
    "\n",
    "在 PyTorch 中，`torch.nn.Embedding` 类是一个用于存储固定字典和大小的嵌入（embeddings）的简单查找表。这个模块通常用于存储单词嵌入，并使用索引来检索它们。该模块的输入是索引列表，输出是相应的单词嵌入。\n",
    "\n",
    "| 参数名称 | 类型 | 描述 |\n",
    "|----------|------|------|\n",
    "| num_embeddings | int | 嵌入字典的大小 |\n",
    "| embedding_dim | int | 每个嵌入向量的维度大小 |\n",
    "| padding_idx | int, 可选 | 如果指定，padding_idx 的条目不会对梯度产生影响；因此，训练期间 padding_idx 的嵌入向量不会更新，即它保持为固定的“填充”（默认为全零，但可以更新为其他值） |\n",
    "| max_norm | float, 可选 | 如果给定，每个嵌入向量的范数大于 max_norm 时，会被重新标准化为 max_norm |\n",
    "| norm_type | float, 可选 | 用于 max_norm 选项的 p-范数的 p 值（默认为2） |\n",
    "| scale_grad_by_freq | bool, 可选 | 如果给定，将通过单词在小批量中的频率的逆来缩放梯度（默认为 False） |\n",
    "| sparse | bool, 可选 | 如果为 True，权重矩阵相对的梯度将是一个稀疏张量（参见备注了解有关稀疏梯度的更多细节） |\n",
    "\n",
    "变量：\n",
    "- weight (Tensor)：模块的可学习权重，形状为 (num_embeddings, embedding_dim)，从 N(0,1) 分布初始化。"
   ]
  },
  {
   "cell_type": "code",
   "execution_count": 36,
   "id": "ab7fb944-e7f5-461b-a406-2d85a7124fc1",
   "metadata": {
    "tags": []
   },
   "outputs": [
    {
     "name": "stdout",
     "output_type": "stream",
     "text": [
      "tensor([[  99,    1,    1,  ...,    1,    1,    1],\n",
      "        [1057,    0, 6747,  ...,    1,    1,    1],\n",
      "        [  87,  884,  102,  ...,    1,    1,    1],\n",
      "        ...,\n",
      "        [1280,  142,    1,  ...,    1,    1,    1],\n",
      "        [1585,   54, 2702,  ...,    1,    1,    1],\n",
      "        [4307, 2055, 2886,  ..., 5798,   17,  207]]) torch.Size([128, 32])\n",
      "tensor([[[ 0.1671, -0.5303,  0.2925,  ...,  0.4999, -0.9852, -1.0923],\n",
      "         [ 0.2681, -1.0434,  1.6845,  ...,  0.2032, -0.1511,  0.5267],\n",
      "         [ 0.2681, -1.0434,  1.6845,  ...,  0.2032, -0.1511,  0.5267],\n",
      "         ...,\n",
      "         [ 0.2681, -1.0434,  1.6845,  ...,  0.2032, -0.1511,  0.5267],\n",
      "         [ 0.2681, -1.0434,  1.6845,  ...,  0.2032, -0.1511,  0.5267],\n",
      "         [ 0.2681, -1.0434,  1.6845,  ...,  0.2032, -0.1511,  0.5267]],\n",
      "\n",
      "        [[ 1.5045, -0.1059, -1.2406,  ..., -1.2170, -0.5601, -0.7029],\n",
      "         [-0.1495, -0.1070,  0.3412,  ..., -1.6158, -0.3277,  1.9798],\n",
      "         [ 0.0872,  0.5031,  0.6048,  ..., -0.7230, -1.6140, -1.0487],\n",
      "         ...,\n",
      "         [ 0.2681, -1.0434,  1.6845,  ...,  0.2032, -0.1511,  0.5267],\n",
      "         [ 0.2681, -1.0434,  1.6845,  ...,  0.2032, -0.1511,  0.5267],\n",
      "         [ 0.2681, -1.0434,  1.6845,  ...,  0.2032, -0.1511,  0.5267]],\n",
      "\n",
      "        [[ 0.1623,  0.0815,  0.2669,  ...,  0.0476,  1.3831,  0.4743],\n",
      "         [ 0.9305,  0.0971, -0.7839,  ..., -1.6467,  1.6741, -0.8465],\n",
      "         [-1.8958,  0.0586, -0.4414,  ...,  1.6225,  1.1731, -0.7783],\n",
      "         ...,\n",
      "         [ 0.2681, -1.0434,  1.6845,  ...,  0.2032, -0.1511,  0.5267],\n",
      "         [ 0.2681, -1.0434,  1.6845,  ...,  0.2032, -0.1511,  0.5267],\n",
      "         [ 0.2681, -1.0434,  1.6845,  ...,  0.2032, -0.1511,  0.5267]],\n",
      "\n",
      "        ...,\n",
      "\n",
      "        [[-0.2827,  0.4836, -0.3199,  ...,  1.2045, -0.8863,  1.7605],\n",
      "         [ 1.2652,  1.5400, -0.4674,  ..., -0.2567, -0.4800, -0.7335],\n",
      "         [ 0.2681, -1.0434,  1.6845,  ...,  0.2032, -0.1511,  0.5267],\n",
      "         ...,\n",
      "         [ 0.2681, -1.0434,  1.6845,  ...,  0.2032, -0.1511,  0.5267],\n",
      "         [ 0.2681, -1.0434,  1.6845,  ...,  0.2032, -0.1511,  0.5267],\n",
      "         [ 0.2681, -1.0434,  1.6845,  ...,  0.2032, -0.1511,  0.5267]],\n",
      "\n",
      "        [[ 0.1020,  0.0820, -1.8269,  ..., -0.6085, -0.8817,  1.1266],\n",
      "         [ 0.4014,  0.2673, -1.7100,  ..., -0.8215, -1.7845,  0.5395],\n",
      "         [-0.2667, -0.6878, -0.8545,  ..., -1.8069,  0.1807, -0.3752],\n",
      "         ...,\n",
      "         [ 0.2681, -1.0434,  1.6845,  ...,  0.2032, -0.1511,  0.5267],\n",
      "         [ 0.2681, -1.0434,  1.6845,  ...,  0.2032, -0.1511,  0.5267],\n",
      "         [ 0.2681, -1.0434,  1.6845,  ...,  0.2032, -0.1511,  0.5267]],\n",
      "\n",
      "        [[ 0.9957, -0.2674, -1.0998,  ..., -0.8115,  0.7391, -0.4108],\n",
      "         [ 0.0549, -0.1218, -0.1789,  ...,  1.0093, -0.3666, -1.0930],\n",
      "         [-0.3978,  0.3984, -0.5028,  ...,  0.1422,  0.5495, -0.3339],\n",
      "         ...,\n",
      "         [ 0.7279,  1.4997,  0.8556,  ...,  0.8540,  0.5768,  0.5205],\n",
      "         [ 0.9778,  0.2862, -0.0186,  ..., -0.7769, -0.6017, -0.5819],\n",
      "         [ 0.5856,  0.3995, -0.0471,  ...,  0.5192, -0.1495, -0.2552]]],\n",
      "       grad_fn=<EmbeddingBackward0>) torch.Size([128, 32, 512])\n"
     ]
    }
   ],
   "source": [
    "embedding_dim = d_model\n",
    "embedding = nn.Embedding(len(vocab), embedding_dim)\n",
    "comment, star = next(iter(data_loader))\n",
    "print(comment, comment.shape)\n",
    "\n",
    "em_result = embedding(comment)\n",
    "print(em_result, em_result.shape)"
   ]
  },
  {
   "cell_type": "markdown",
   "id": "78e87ca8-d715-4d35-97d0-fa64790460cb",
   "metadata": {},
   "source": [
    "### 位置编码\n",
    "\n",
    "参考资料：https://blog.csdn.net/m0_37605642/article/details/132866365\n",
    "\n",
    "#### 为什么需要位置编码\n",
    "\n",
    "1. **捕捉序列顺序信息**：Transformer模型本身通过自注意力机制处理输入，但这种机制本质上是顺序不变的（sequence-agnostic）。也就是说，如果没有额外的信息，模型无法区分词序。位置编码的引入就是为了提供这种序列中词的相对或绝对位置信息。\n",
    "\n",
    "2. **区分相同词汇在不同位置的语义**：在语言中，相同的词汇在不同的位置可能具有不同的含义或重要性。位置编码帮助模型理解这种区别。\n",
    "\n",
    "#### 位置编码的原理\n",
    "\n",
    "理想的位置编码应该满足：\n",
    "\n",
    "* 为每个字输出唯一的编码；\n",
    "* 不同长度的句子之间，任何两个字之间的差值应该保持一致；\n",
    "* 编码值应该是有界的。\n",
    "\n",
    "使用正余弦函数这样的周期函数可以很好地满足上面的要求：\n",
    "\n",
    "* 一个词语的位置编码是由不同频率的余弦函数组成的，从低位到高位，余弦函数对应的频率由$1$降低到 $\\frac{1}{10000}$，波长从 $2\\pi$ 增加到 $10000\\cdot2\\pi$\n",
    "\n",
    "$$PE_{(pos,2i)} = \\sin\\Bigg(\\frac{pos}{10000^{2i/d_{\\text{model}}}}\\Bigg)$$\n",
    "\n",
    "$$PE_{(pos,2i+1)} = \\cos\\Bigg(\\frac{pos}{10000^{2i/d_{\\text{model}}}}\\Bigg)$$\n",
    "\n",
    "* 所以需要生成的位置编码的矩阵为$[sentence\\_len, d_{model}]$，第一个维度为最大句子长度，第二个维度为词嵌入模型的维度\n",
    "\n",
    "* $pos = 0, 1, ..., N - 1$，$i = 0, 1, ..., \\frac{d_{model}}{2} - 1$。简单来说就是pos和句子长度相关，每个位置的词都有$d_{model}$个正余弦函数，奇数行为正弦，偶数行为余弦\n",
    "\n",
    "* 输入经过embedding后的结果$X$，输出添加位置信息后的结果$X + PE$。\n",
    "\n",
    "#### 代码说明\n",
    "\n",
    "参考OpenNMT中的代码实现\n",
    "\n",
    "```python\n",
    "class PositionalEncoding(nn.Module):\n",
    "\n",
    "    def __init__(self, d_model, max_len=5000):\n",
    "        super(PositionalEncoding, self).__init__()       \n",
    "        pe = torch.zeros(max_len, d_model)\n",
    "        position = torch.arange(0, max_len, dtype=torch.float).unsqueeze(1)\n",
    "        div_term = torch.exp(torch.arange(0, d_model, 2).float() * (-math.log(10000.0) / d_model))\n",
    "        pe[:, 0::2] = torch.sin(position * div_term)\n",
    "        pe[:, 1::2] = torch.cos(position * div_term)\n",
    "        pe = pe.unsqueeze(0).transpose(0, 1)\n",
    "        #pe.requires_grad = False\n",
    "        self.register_buffer('pe', pe)\n",
    "\n",
    "    def forward(self, x):\n",
    "        return x + self.pe[:x.size(0), :]\n",
    "```\n",
    "\n",
    "`pe`：该矩阵为全为0的，形状为$[max\\_len, d\\_model]$的张量，会在之后进行处理。\n",
    "\n",
    "`position`：生成值为$[0, max\\_len)$的序列，并且添加一个维度，将其从一维$[max\\_len]$的形状变为二维$[1, max\\_len]$。\n",
    "\n",
    "`div_term`：`torch.arange(0, d_model, 2)`先生成值为$[0, d\\_model), step=2$，形状为$[\\frac{d\\_model}{2}]$的张量，然后进行下一步处理。\n",
    "\n",
    "`-math.log(10000.0)`：为了在代码中简化计算，可以只计算 $\\ln{(10000)}$ 的一部分，并且用负号来处理指数的递减特性（原公式中是除以这个指数，而在代码中是乘以它）。因此，$-\\ln{(10000)}$ 就是为了在代码实现中简化和直接应用 $10000^{2i/d\\_model}$ 的计算。由于这个负号，值不相同但性质相同，$div\\_term$也可以实现和$\\frac{1}{10000^{2i/d\\_model}}$一样的效果，随着$2i$增加而递减。"
   ]
  },
  {
   "cell_type": "code",
   "execution_count": 37,
   "id": "ec87d8d6-dc89-4260-9d06-3c74f1792486",
   "metadata": {},
   "outputs": [
    {
     "name": "stdout",
     "output_type": "stream",
     "text": [
      "x:torch.Size([128, 32, 512]), self.pe:torch.Size([32, 512])\n",
      "tensor([[[ 0.1856,  0.5218,  0.3250,  ...,  1.6666, -1.0947, -0.1025],\n",
      "         [ 1.2329, -0.5590,  2.7849,  ...,  1.3369, -0.1678,  1.6963],\n",
      "         [ 1.3083, -1.6218,  2.9121,  ...,  1.3369, -0.1677,  1.6963],\n",
      "         ...,\n",
      "         [-0.4394, -0.0000,  2.1991,  ...,  1.3369, -0.1646,  1.6963],\n",
      "         [-0.7999, -0.9880,  1.1856,  ...,  0.0000, -0.1645,  1.6963],\n",
      "         [-0.1510, -0.1430,  0.7625,  ...,  1.3369, -0.0000,  1.6963]],\n",
      "\n",
      "        [[ 1.6716,  0.9935, -1.3784,  ..., -0.2411, -0.6224,  0.3301],\n",
      "         [ 0.7689,  0.4814,  1.2923,  ..., -0.6842, -0.3640,  3.3109],\n",
      "         [ 0.0000,  0.0966,  1.7125,  ...,  0.3078, -1.7931, -0.0541],\n",
      "         ...,\n",
      "         [-0.4394, -1.9905,  2.1991,  ...,  1.3369, -0.1646,  1.6963],\n",
      "         [-0.7999, -0.9880,  1.1856,  ...,  1.3369, -0.1645,  1.6963],\n",
      "         [-0.1510, -0.0000,  0.7625,  ...,  1.3369, -0.1644,  1.6963]],\n",
      "\n",
      "        [[ 0.1804,  1.2016,  0.2966,  ...,  1.1640,  1.5367,  1.6382],\n",
      "         [ 1.9689,  0.7082,  0.0421,  ..., -0.7185,  0.0000,  0.1706],\n",
      "         [-1.0961, -0.3973,  0.5501,  ...,  2.9139,  1.3037,  0.2463],\n",
      "         ...,\n",
      "         [-0.4394, -1.9905,  2.1991,  ...,  0.0000, -0.1646,  1.6963],\n",
      "         [-0.7999, -0.9880,  1.1856,  ...,  1.3369, -0.1645,  1.6963],\n",
      "         [-0.1510, -0.1430,  0.7625,  ...,  0.0000, -0.1644,  0.0000]],\n",
      "\n",
      "        ...,\n",
      "\n",
      "        [[-0.3142,  1.6484, -0.0000,  ...,  2.4495, -0.9848,  3.0672],\n",
      "         [ 2.3408,  2.3114,  0.3938,  ...,  0.8259, -0.5332,  0.0000],\n",
      "         [ 1.3083, -1.6218,  2.9121,  ...,  1.3369, -0.1677,  1.6963],\n",
      "         ...,\n",
      "         [-0.4394, -0.0000,  2.1991,  ...,  1.3369, -0.1646,  0.0000],\n",
      "         [-0.7999, -0.9880,  1.1856,  ...,  1.3369, -0.1645,  1.6963],\n",
      "         [-0.1510, -0.0000,  0.7625,  ...,  1.3369, -0.1644,  1.6963]],\n",
      "\n",
      "        [[ 0.1134,  1.2022, -2.0298,  ...,  0.4350, -0.9797,  2.3628],\n",
      "         [ 1.3809,  0.8974, -0.9868,  ...,  0.1983, -1.9826,  1.7106],\n",
      "         [ 0.0000, -1.2266,  0.0910,  ..., -0.8965,  0.0000,  0.0000],\n",
      "         ...,\n",
      "         [-0.4394, -1.9905,  2.1991,  ...,  1.3369, -0.1646,  1.6963],\n",
      "         [-0.7999, -0.9880,  1.1856,  ...,  1.3369, -0.1645,  1.6963],\n",
      "         [-0.1510, -0.1430,  0.7625,  ...,  1.3369, -0.1644,  1.6963]],\n",
      "\n",
      "        [[ 1.1063,  0.8140, -1.2220,  ...,  0.2094,  0.8212,  0.6546],\n",
      "         [ 0.9959,  0.4650,  0.7144,  ...,  2.2326, -0.4072, -0.1033],\n",
      "         [ 0.5684, -0.0197,  0.4818,  ...,  1.2691,  0.6108,  0.7401],\n",
      "         ...,\n",
      "         [ 0.0714,  0.8352,  1.2781,  ...,  2.0599,  0.6443,  1.6895],\n",
      "         [-0.0000,  0.4894, -0.7067,  ...,  0.2479, -0.6651,  0.4646],\n",
      "         [ 0.2018,  0.0000, -1.1615,  ...,  0.0000, -0.0000,  0.0000]]],\n",
      "       grad_fn=<MulBackward0>) torch.Size([128, 32, 512])\n"
     ]
    }
   ],
   "source": [
    "class PositionalEncoding(nn.Module):\n",
    "    def __init__(self, max_len:int, embed_dim:int, dropout:float=0.1) -> None:\n",
    "        super(PositionalEncoding, self).__init__()\n",
    "        self.dropout = nn.Dropout(dropout)\n",
    "        pe = torch.zeros(max_len, embed_dim)\n",
    "        position = torch.arange(0, max_len, dtype=torch.float).unsqueeze(1) # 分子部分，生成[0, max_len)的序列，并且添加一个维度\n",
    "        _2i = torch.arange(0, embed_dim, step=2).float() # 生成_2序列\n",
    "        \n",
    "        # 奇数列为正弦，偶数列为余弦\n",
    "        pe[:, 0::2] = torch.sin(position / (10000 ** (_2i / embed_dim)))\n",
    "        pe[:, 1::2] = torch.cos(position / (10000 ** (_2i / embed_dim)))\n",
    "        \n",
    "        # 将位置编码矩阵 pe 注册为一个 buffer，被认为是持久的值，不会作为模型参数，可添加到gpu中\n",
    "        self.register_buffer('pe', pe)\n",
    "    \n",
    "    def forward(self, x:torch.Tensor) -> torch.Tensor:\n",
    "        # x形状为[btach_size, sentence_len, embed_dim]，x.size(1)为句子长度，即位置编码张量的句子长度应该大于等于输入的句子长度，也是pos的范围\n",
    "        # print(f'x:{x.shape}, self.pe:{self.pe.shape}')\n",
    "        x = x + self.pe[:x.size(1), :]\n",
    "        return self.dropout(x)\n",
    "        \n",
    "\n",
    "pe_layer = PositionalEncoding(max_len, embedding_dim)\n",
    "pe_result = pe_layer(em_result)\n",
    "print(pe_result, pe_result.shape)"
   ]
  },
  {
   "cell_type": "code",
   "execution_count": 38,
   "id": "0ef9f716-a979-488c-b807-1e7c872494f7",
   "metadata": {
    "tags": []
   },
   "outputs": [
    {
     "data": {
      "image/png": "[encoded data removed]",
      "text/plain": [
       "<Figure size 2000x800 with 2 Axes>"
      ]
     },
     "metadata": {},
     "output_type": "display_data"
    }
   ],
   "source": [
    "# 绘制位置编码图像\n",
    "_max_len = 128\n",
    "_embed_dim = 256\n",
    "_pos_encoding = PositionalEncoding(_max_len, _embed_dim, dropout=0)\n",
    "_pe = _pos_encoding.pe.squeeze(0)\n",
    "\n",
    "plt.figure(figsize=(20, 8))\n",
    "plt.imshow(_pe)\n",
    "plt.colorbar()\n",
    "plt.title(\"Positional Encoding\")\n",
    "plt.xlabel(\"Embedding Dimensions\")\n",
    "plt.ylabel(\"Position\")\n",
    "plt.show()"
   ]
  },
  {
   "cell_type": "markdown",
   "id": "ec58f016-a428-45d3-837a-6f628ef3fac9",
   "metadata": {},
   "source": [
    "### 注意力机制\n",
    "\n",
    "<img src=\"./images/Scaled Dot-Product Attention.png\" title=\"Scaled Dot-Product Attention\" width=\"300\" alt=\"Scaled Dot-Product Attention 图片来自论文https://arxiv.org/abs/1706.03762\">\n",
    "<p>Scaled Dot-Product Attention</p>\n",
    "\n",
    "图片来自论文https://arxiv.org/abs/1706.03762\n",
    "\n",
    "参考文章：\n",
    "\n",
    "* https://jalammar.github.io/illustrated-transformer/\n",
    "\n",
    "* https://www.zhihu.com/tardis/zm/art/414084879\n",
    "\n",
    "#### Scaled Dot-Product Attention\n",
    "\n",
    "Scaled Dot-Product Attention 是 Transformer 模型中自注意力机制的核心组成部分。这种注意力机制是通过计算查询（Queries）、键（Keys）和值（Values）之间的关系来实现的。它的基本思想是，对于每个查询，计算它与所有键的点积，然后对这些点积应用一个缩放因子，接着使用 softmax 函数来获取权重分布，最后用这些权重来加权对应的值。\n",
    "\n",
    "#### 自注意力的特点\n",
    "\n",
    "- **同一输入**：在自注意力中，查询（Q）、键（K）和值（V）都来自于同一个输入（例如，同一句话中的不同词汇）。\n",
    "- **序列内关联**：自注意力关注输入序列内部的关联，即一个元素如何与序列中的其他元素相关联。\n",
    "\n",
    "#### 举例\n",
    "\n",
    "假设有一个简单的句子 \"Thinking machines\"。在自注意力机制中，\"Thinking\" 和 \"machines\" 同时作为查询、键和值。模型将计算 \"Thinking\" 与 \"Thinking\" 和 \"machines\" 的关联，以及 \"machines\" 与 \"Thinking\" 和 \"machines\" 的关联。通过这种方式，模型能够捕捉序列中不同元素之间的关系。\n",
    "\n",
    "#### 查询（Queries）、键（Keys）和值（Values）\n",
    "\n",
    "1. **查询（Queries）**：\n",
    "   - 代表当前正在处理的目标元素。\n",
    "   - 在自注意力中，每个序列中的元素都会被当作查询来考察与其他元素的关系。\n",
    "\n",
    "2. **键（Keys）**：\n",
    "   - 与查询配对，用于计算注意力得分。\n",
    "   - 在自注意力中，序列中的每个元素都会被转换成一个键，与每个查询配对，以评估它们之间的关联程度。\n",
    "\n",
    "3. **值（Values）**：\n",
    "   - 与键相关联的实际内容。\n",
    "   - 在自注意力中，序列中的每个元素也会被转换成一个值。注意力得分用于加权这些值，得到加权的输出，这些输出反映了输入序列中元素的聚合信息。\n",
    "\n",
    "#### Scaled Dot-Product Attention 的计算过程\n",
    "\n",
    "**公式表示**：$$\\text{Attention}(Q, K, V) = \\text{softmax}\\left(\\frac{QK^T}{\\sqrt{d_{model}}}\\right)V$$\n",
    "其中，$Q$, $K$, $V$ 分别是查询、键和值的矩阵，$d_{model}$ 是键向量的维度。\n",
    "\n",
    "1. 点积注意力计算\n",
    "\n",
    "- 首先，计算每个查询与所有键的点积。这个操作实际上在评估每个查询与每个键之间的相似度或关联程度。注意力分数的计算公式为：$$\\text{Attention Score}(Q, K)=\\frac{QK^T}{\\sqrt{d_{model}}}$$\n",
    "\n",
    "2. 缩放\n",
    "\n",
    "- 点积通常会随着维度的增加而变大，可能导致 softmax 函数进入梯度较小的区域，从而影响模型学习效率。\n",
    "- 为了缓解这个问题，将点积的结果除以$\\sqrt{d_{model}}$（即键向量维度的平方根）进行缩放。\n",
    "\n",
    "3. 应用 Softmax\n",
    "\n",
    "- 使用 softmax 函数将缩放后的点积转换为概率分布。这一步骤确保了输出的注意力得分总和为 1，即将注意力分布在不同的键上。\n",
    "\n",
    "4. 加权和\n",
    "\n",
    "- 将 softmax 得分应用于值，得到加权和。这样，每个查询的输出都是值的加权组合，其中的权重反映了输入序列中不同元素对当前查询元素的重要性。\n",
    "\n",
    "在 Scaled Dot-Product Attention 中，查询、键和值共同协作，使模型能够专注于输入序列中与当前元素最相关的部分。通过这种方式，模型能够捕捉序列内部的复杂依赖关系，无论这些依赖是长期的还是短期的。这种注意力机制是 Transformer 强大性能的关键，使其在处理各种序列数据（如自然语言、音频信号等）时表现出色。\n",
    "\n",
    "#### 代码说明\n",
    "\n",
    "* $Q$、$K$、$V$的转换通常是在 Transformer 模型的编码器或解码器层中进行的，而不是直接在自注意力机制内部。这是因为自注意力层通常被设计为一个更通用的模块，可以接受已经转换好的$Q$、$K$、$V$作为输入。\n",
    "\n",
    "* 在解码器中，存在mask掩码，是为了控制或限制某些元素在注意力机制计算中的影响。掩码通常用于实现以下目的：\n",
    "    1. **屏蔽无关的或非法的位置**：\n",
    "        - 在处理带有填充（padding）的序列时，掩码用于确保模型在注意力计算中不考虑填充位置（`[PAD]`）。\n",
    "    2. **实现因果关系（Causal）或顺序遮蔽**：\n",
    "        - 在一些任务中，如语言模型训练，当前词汇的预测只应依赖于前面的词汇（而不是后面的），以保持信息流的单向性。只有该位置之前的位置（包括当前位置）被考虑，而之后的位置被掩蔽掉。\n",
    "    3. **掩码的技术实现**\n",
    "        - 掩码一般是一个与注意力得分矩阵形状相同的张量，其中要被忽略的位置上的值设为负无穷（或非常小的值），而其余位置上的值设为 0。\n",
    "        - 当这个掩码加到未经 softmax 的注意力得分上时，被掩蔽的位置上的得分变得非常小（接近于负无穷），因此在经过 softmax 后，这些位置的注意力权重（即概率）变为接近于零，从而在注意力加权和计算中不起作用。\n",
    "\n",
    "* 在多头注意力机制中，$d_{model}$ 会被分割成多个较小的部分，每个部分对应一个“头”。例如，如果 $d_{model} = 512$ 且使用了 8 个头，那么每个头处理的维度就是 64。这些小的头独立工作，最后其输出通常会被连接起来，再通过一个线性层，使其维度恢复为$d_{model}$。\n",
    "\n",
    "* 维度变化：\n",
    "    1. **输入嵌入**\n",
    "        - 形状：`[batch_size, seq_length, d_model]`\n",
    "    2. **通过线性层生成 Q, K, V**\n",
    "        - Q, K, V 形状：`[batch_size, seq_length, d_model]`\n",
    "    3. **应用多头注意力**\n",
    "        - 分割 Q, K, V 为多个头\n",
    "        - 每个头的 Q, K, V 形状：`[batch_size, seq_length, d_k]` \n",
    "         (其中 `d_k = d_model / num_heads`)\n",
    "    4. **计算 Scores**\n",
    "        - 执行 `matmul(Q, K.transpose(-2, -1))`\n",
    "        - Scores 形状：`[batch_size, seq_length, seq_length]`\n",
    "    5. **应用 Scores 到 V**\n",
    "        - 执行 `matmul(Scores, V)`\n",
    "        - 输出形状：`[batch_size, seq_length, d_k]`\n",
    "    6. **合并多头输出并通过线性层**\n",
    "        - 合并后形状：`[batch_size, seq_length, d_model]`\n"
   ]
  },
  {
   "cell_type": "code",
   "execution_count": 39,
   "id": "90f17f14-7f0b-4279-b04f-2462748bfae5",
   "metadata": {
    "tags": []
   },
   "outputs": [
    {
     "name": "stdout",
     "output_type": "stream",
     "text": [
      "Output Shape: torch.Size([128, 32, 512])\n",
      "Attention Shape: torch.Size([128, 32, 32])\n"
     ]
    }
   ],
   "source": [
    "class ScaledDotProductAttention(nn.Module):\n",
    "    def __init__(self, dim_k:int, dropout:float=0.1) -> None:\n",
    "        super(ScaledDotProductAttention, self).__init__()\n",
    "        self.d_k = dim_k\n",
    "        self.sqrt_dk = torch.sqrt(torch.tensor(dim_k, dtype=torch.float32))\n",
    "        self.softmax = nn.Softmax(dim=-1)\n",
    "        self.dropout = nn.Dropout(dropout)\n",
    "        \n",
    "    def forward(self, query:torch.Tensor, key:torch.Tensor, value:torch.Tensor, mask:torch.Tensor=None) -> (torch.Tensor, torch.Tensor):\n",
    "        # q和k维度相同，所以需要将k转置一下\n",
    "        scores = torch.matmul(query, key.transpose(-2, -1)) / self.sqrt_dk\n",
    "        \n",
    "        if mask is not None: # 不直接if mask是为了避免张量全为0而跳过掩码处理的可能\n",
    "            scores = scores.masked_fill(mask == 0, torch.finfo(scores.dtype).min) # torch.finfo(scores.dtype).min是dtype类型的最小值\n",
    "            \n",
    "        # 计算 softmax 得到注意力权重\n",
    "        attention = self.softmax(scores)\n",
    "        attention = self.dropout(attention)\n",
    "        output = torch.matmul(attention, value)\n",
    "        \n",
    "        return output, attention\n",
    "    \n",
    "\n",
    "# 生成随机值进行测试\n",
    "sdpa_layer = ScaledDotProductAttention(d_model)\n",
    "Q = torch.randn(batch_size, max_len, d_model)\n",
    "K = torch.randn(batch_size, max_len, d_model)\n",
    "V = torch.randn(batch_size, max_len, d_model)\n",
    "\n",
    "# 假设全为 1，表示没有掩码\n",
    "mask = torch.ones(batch_size, max_len, max_len)\n",
    "\n",
    "# 测试 ScaledDotProductAttention 层\n",
    "output, attention = sdpa_layer(Q, K, V, mask)\n",
    "\n",
    "print(\"Output Shape:\", output.shape)\n",
    "print(\"Attention Shape:\", attention.shape)"
   ]
  },
  {
   "cell_type": "markdown",
   "id": "a13bfebe-9d83-4745-9b4d-e13e4253bfff",
   "metadata": {},
   "source": [
    "### Mask\n",
    "\n",
    "在Transformer模型中，编码器（Encoder）和解码器（Decoder）使用掩码（mask）的目的和方式有所不同。\n",
    "\n",
    "#### 编码器中的掩码\n",
    "\n",
    "在编码器中，掩码主要用于屏蔽（masking）掉填充（padding）部分的影响。由于在处理自然语言数据时，不同的句子或文本序列往往长度不一，因此常常需要在较短的句子末尾添加填充标记，以使所有输入序列的长度一致。\n",
    "\n",
    "- **目的**：避免模型在自注意力计算中考虑填充的部分，因为这些部分是无意义的，并不属于原始输入序列的一部分。\n",
    "- **实现**：通常，编码器的掩码是一个二维的布尔张量（或等效的实现），其中填充位置被标记为`True`（或一个非常大的负数，以便在应用softmax时接近于零）。这个掩码被用于修改自注意力层的注意力分数，使得模型不会将注意力放在填充的词上。\n",
    "\n",
    "#### 解码器中的掩码\n",
    "\n",
    "解码器中的掩码有两种：一种是类似于编码器中的填充掩码，另一种是查找掩码（look-ahead mask，也称为因果掩码或解码器自注意力掩码）。\n",
    "\n",
    "1. **填充掩码**：\n",
    "   - 与编码器中的填充掩码类似，用于屏蔽掉填充部分的影响。\n",
    "\n",
    "2. **查找掩码**：\n",
    "   - **目的**：在训练阶段，防止解码器的自注意力层“偷看”未来的词。在自然语言处理的序列生成任务中，模型在生成当前词时应该只能依赖于之前的词。\n",
    "   - **实现**：通过一个三角形的掩码（上三角为`True`或一个非常大的负数），确保在计算自注意力时，每个词只能与它之前的词（包括自己）进行交互，而不能与之后的词进行交互。\n",
    "\n",
    "#### 情感分析任务的mask\n",
    "\n",
    "* 情感分析任务为分类任务，输出为1-5的评分，所以仅仅需要encoder的mask"
   ]
  },
  {
   "cell_type": "code",
   "execution_count": 40,
   "id": "0c84174f-7a55-4e06-ad28-504c49e5665e",
   "metadata": {
    "tags": []
   },
   "outputs": [
    {
     "name": "stdout",
     "output_type": "stream",
     "text": [
      "tensor([[99,  1,  1,  1,  1,  1,  1,  1,  1,  1,  1,  1,  1,  1,  1,  1,  1,  1,\n",
      "          1,  1,  1,  1,  1,  1,  1,  1,  1,  1,  1,  1,  1,  1]]) torch.Size([1, 32])\n",
      "tensor([[[ True, False, False,  ..., False, False, False],\n",
      "         [ True, False, False,  ..., False, False, False],\n",
      "         [ True, False, False,  ..., False, False, False],\n",
      "         ...,\n",
      "         [ True, False, False,  ..., False, False, False],\n",
      "         [ True, False, False,  ..., False, False, False],\n",
      "         [ True, False, False,  ..., False, False, False]]]) torch.Size([1, 32, 32])\n",
      "tensor([ True, False, False, False, False, False, False, False, False, False,\n",
      "        False, False, False, False, False, False, False, False, False, False,\n",
      "        False, False, False, False, False, False, False, False, False, False,\n",
      "        False, False])\n"
     ]
    }
   ],
   "source": [
    "def create_padding_mask(seq_q:torch.Tensor, seq_k:torch.Tensor, pad_idx:int) -> torch.Tensor:\n",
    "    \"\"\" 创建注意力掩码以识别序列中的<pad>占位符\n",
    "    Args:\n",
    "        seq_q (Tensor): query序列，shape = [batch size, query len]\n",
    "        seq_k (Tensor): key序列，shape = [batch size, key len]\n",
    "        pad_idx (int): key序列<pad>占位符对应的数字索引\n",
    "    \"\"\"\n",
    "    # 创建一个掩码，其中seq_k等于pad_idx的位置为True\n",
    "    pad_attn_mask = (seq_k == pad_idx)\n",
    "\n",
    "    # 调整掩码的形状以匹配注意力权重矩阵的形状\n",
    "    pad_attn_mask = pad_attn_mask.unsqueeze(1).expand(-1, seq_q.size(1), -1)\n",
    "\n",
    "    return pad_attn_mask == False\n",
    "\n",
    "temp = comment[0].unsqueeze(0)\n",
    "print(temp, temp.shape)\n",
    "temp_mask_result = create_padding_mask(temp, temp, pad_idx=vocab['<pad>'])\n",
    "print(temp_mask_result, temp_mask_result.shape)\n",
    "print(temp_mask_result[0][0])"
   ]
  },
  {
   "cell_type": "markdown",
   "id": "2899e8b5-0791-4ba3-9aad-0067298100f2",
   "metadata": {},
   "source": [
    "### 多头注意力(Multi-Head Attention)\n",
    "\n",
    "多头注意力（Multi-Head Attention）是 Transformer 模型中的一个核心组件，它允许模型在不同的表示子空间中并行地关注输入序列的不同部分。这种机制提高了模型捕获各种不同特征的能力，从而增强了整体性能。\n",
    "\n",
    "#### 多头注意力的工作原理\n",
    "\n",
    "多头注意力的关键在于将原始的注意力机制（如缩放点积注意力）分割成多个头部（head），每个头部独立地进行注意力计算。这样做的优势在于：\n",
    "\n",
    "1. **多角度学习**：每个头部可以从不同的角度学习输入数据的特征，捕捉不同层次的信息。\n",
    "2. **并行处理**：所有的头部可以并行地执行，提高计算效率。\n",
    "3. **增强表达能力**：通过将多个头部的结果组合起来，模型可以获得更丰富、更综合的信息表示。\n",
    "\n",
    "#### 多头注意力的实现\n",
    "\n",
    "每个头部独立执行以下操作：\n",
    "\n",
    "1. **线性映射**：输入的 Q（查询），K（键）和 V（值）通过不同的线性层（权重矩阵 $W^Q_i$、$W^K_i$ 和 $W^V_i$）映射到不同的子空间。\n",
    "   \n",
    "   $$\n",
    "   \\text{head}_i = \\text{Attention}(QW^Q_i, KW^K_i, VW^V_i) = \\text{softmax}\\left(\\frac{QW^Q_i (KW^K_i)^T}{\\sqrt{d_{k}}}\\right)VW^V_i\n",
    "   $$\n",
    "   \n",
    "   其中，$W^Q_i \\in \\mathbb{R}^{d_{model}\\times d_{k}}$、$W^K_i \\in \\mathbb{R}^{d_{model}\\times d_{k}}$ 和 $W^V_i \\in \\mathbb{R}^{d_{model}\\times d_{v}}$ 是可学习的权重参数。一般来说，$d_k = d_v = d_{model} / n_{head}$。\n",
    "\n",
    "2. **计算自注意力**：在每个子空间内，独立计算自注意力分数和输出。\n",
    "\n",
    "3. **合并头部输出**：将所有头部的输出拼接到一起，并通过另一个线性层 $W^O$ 映射回原始维度。\n",
    "   \n",
    "   $$\n",
    "   \\text{MultiHead}(Q, K, V) = \\text{Concat}(\\text{head}_1, ..., \\text{head}_h)W^O\n",
    "   $$\n",
    "   \n",
    "#### 代码说明\n",
    "\n",
    "- `batch_size`: 批次大小\n",
    "- `max_len`: 序列长度\n",
    "- `d_model`: 模型维度\n",
    "- `num_heads`: 注意力头数\n",
    "- `d_k`: 每个头的维度，这里是 `d_model / num_heads`\n",
    "\n",
    "1. **输入嵌入 (Embedding Input):**\n",
    "    - 形状：`[batch_size, max_len, d_model]`\n",
    "2. **通过线性层生成 Q, K, V (Linear Transformation for Q, K, V):**\n",
    "    - 对于Q, K, V，每个的形状在通过`W_q`, `W_k`, `W_v`后保持不变：`[batch_size, max_len, d_model]`\n",
    "3. **应用多头注意力 (Applying Multi-Head Attention):**\n",
    "    - 分割Q, K, V为多个头，每个头的维度为`d_k`，`[batch_size, max_len, num_heads, d_k]`\n",
    "    - transpose后每个头的Q, K, V形状：`[batch_size, num_heads, max_len, d_k]`\n",
    "    - mask维度为`[batch_size, max_len, max_len]`，经过unsqueeze后变为`[batch_size, 1, max_len, max_len]`，expand后变为`[batch_size, num_heads, max_len, max_len]`\n",
    "    - 返回的矩阵形状为`[batch_size, num_heads, max_len, d_k]`\n",
    "4. **合并多头输出并通过线性层 (Concatenating and Linear Transformation):**\n",
    "    - transpose后的维度为`[batch_size, max_len, num_heads, d_k]`\n",
    "    - contiguous()类似深拷贝，transpose并不会生成新的张量，修改会修改到原变量\n",
    "    - 经过view(batch_size, -1, self.d_model)后： 维度变为`[batch_size, seq_length, d_model]`\n",
    "    - 合并后的形状：`[batch_size, max_len, num_heads * d_k]`，然后通过`W_o`恢复到`[batch_size, max_len, d_model]`"
   ]
  },
  {
   "cell_type": "code",
   "execution_count": 41,
   "id": "bd331f80-f9ee-4356-b266-fd3536b89a36",
   "metadata": {},
   "outputs": [
    {
     "name": "stdout",
     "output_type": "stream",
     "text": [
      "Output Shape: torch.Size([128, 32, 512])\n",
      "Attention Shape: torch.Size([128, 8, 32, 32])\n"
     ]
    }
   ],
   "source": [
    "class MultiHeadAttention(nn.Module):\n",
    "    def __init__(self, d_model:int, num_heads:int, dropout:float=0.1):\n",
    "        super(MultiHeadAttention, self).__init__()\n",
    "        self.d_model = d_model\n",
    "        self.num_heads = num_heads\n",
    "        self.d_k = d_model // num_heads\n",
    "        self.attention = ScaledDotProductAttention(self.d_k, dropout=dropout)\n",
    "\n",
    "        # 定义线性层\n",
    "        self.W_q = nn.Linear(d_model, d_model)\n",
    "        self.W_k = nn.Linear(d_model, d_model)\n",
    "        self.W_v = nn.Linear(d_model, d_model)\n",
    "        self.W_o = nn.Linear(d_model, d_model)\n",
    "\n",
    "\n",
    "    def forward(self, query:torch.Tensor, key:torch.Tensor, value:torch.Tensor, mask:torch.Tensor) -> (torch.Tensor, torch.Tensor):\n",
    "        # Q K V的形状为[batch_size, seq_len, d_model]\n",
    "        batch_size = query.size(0)\n",
    "        seq_len = query.size(1)\n",
    "\n",
    "        query = self.W_q(query).view(batch_size, -1, self.num_heads, self.d_k).transpose(1, 2)\n",
    "        key = self.W_k(key).view(batch_size, -1, self.num_heads, self.d_k).transpose(1, 2)\n",
    "        value = self.W_v(value).view(batch_size, -1, self.num_heads, self.d_k).transpose(1, 2)\n",
    "\n",
    "        # 计算多头注意力\n",
    "        mask = mask.unsqueeze(1)  # 添加一个维度\n",
    "        mask = mask.expand(batch_size, self.num_heads, seq_len, seq_len)  # 扩展mask以匹配多头注意力\n",
    "        output, attention = self.attention(query, key, value, mask)\n",
    "\n",
    "        # 拼接头部并应用最终线性层\n",
    "        # contiguous()类似深拷贝，transpose并不会生成新的张量，修改会修改到原变量\n",
    "        output = output.transpose(1, 2).contiguous().view(batch_size, -1, self.d_model)\n",
    "        output = self.W_o(output)\n",
    "\n",
    "        return output, attention\n",
    "    \n",
    "\n",
    "ma_layer = MultiHeadAttention(d_model, num_heads)\n",
    "output, attention = ma_layer(Q, K, V, mask)\n",
    "print(\"Output Shape:\", output.shape)\n",
    "print(\"Attention Shape:\", attention.shape)"
   ]
  },
  {
   "cell_type": "markdown",
   "id": "3a64a17c-6241-477a-a010-92b29c7039a6",
   "metadata": {},
   "source": [
    "### 基于位置的前馈神经网络（Position-Wise Feed-Forward Network）\n",
    "\n",
    "PFF网络包含以下主要组成部分：\n",
    "\n",
    "$$\\mathrm{FFN}(x) = \\mathrm{ReLU}(xW_1 + b_1)W_2 + b_2$$\n",
    "\n",
    "1. **两个线性层**：它们是全连接层，作用是对输入数据进行线性变换。\n",
    "2. **激活函数**：通常在这两个线性层之间。常用的激活函数是ReLU（Rectified Linear Unit）或GELU（Gaussian Error Linear Unit）。激活函数的作用是引入非线性，使模型能够学习到更复杂的特征。\n",
    "3. **Dropout**：可选的，用于减少过拟合。\n",
    "\n",
    "#### PFF网络的作用\n",
    "\n",
    "1. **非线性变换**：虽然Transformer的注意力机制非常强大，但它本质上是一种线性操作。PFF网络通过引入非线性激活函数，使模型能够学习更复杂的特征表示。\n",
    "2. **增加模型容量**：PFF网络通过增加参数数量，增加了模型的容量。这使得模型能够学习更多的特征，并提高了其在复杂任务上的性能。\n",
    "3. **独立处理每个位置**：PFF网络对序列中的每个位置独立地应用相同的操作，这有助于保持模型对输入顺序的敏感度。\n",
    "\n",
    "#### 代码说明\n",
    "\n",
    "- `d_model` 是输入和输出的维度，通常与Transformer模型中的嵌入维度相同。\n",
    "- `d_ff` 是内部层的维度，它通常大于`d_model`，以便在网络中引入更多的参数和非线性。\n",
    "- 使用ReLU作为激活函数。\n",
    "- 在两个线性层之间应用了激活函数和dropout。"
   ]
  },
  {
   "cell_type": "code",
   "execution_count": 42,
   "id": "a619f90d-aa50-4dca-b44c-81644626df39",
   "metadata": {
    "tags": []
   },
   "outputs": [
    {
     "name": "stdout",
     "output_type": "stream",
     "text": [
      "torch.Size([128, 32, 512])\n"
     ]
    }
   ],
   "source": [
    "class PositionWiseFeedForward(nn.Module):\n",
    "    def __init__(self, d_model:int, d_ff:int, dropout:float=0.1) -> None:\n",
    "        super(PositionWiseFeedForward, self).__init__()\n",
    "        self.FFN = nn.Sequential(\n",
    "            nn.Linear(d_model, d_ff),\n",
    "            nn.ReLU(),\n",
    "            nn.Dropout(dropout),\n",
    "            nn.Linear(d_ff, d_model),\n",
    "        )\n",
    "        \n",
    "    def forward(self, X:torch.Tensor) -> torch.Tensor:\n",
    "        return self.FFN(X)\n",
    "    \n",
    "    \n",
    "pwff_layer = PositionWiseFeedForward(d_model, 2048)\n",
    "pwff_result = pwff_layer(pe_result)\n",
    "print(pwff_result.shape)"
   ]
  },
  {
   "cell_type": "markdown",
   "id": "99eeee5c-6dc8-4c55-845d-ea41239d60ec",
   "metadata": {},
   "source": [
    "### Add & Norm\n",
    "\n",
    "包含两个主要部分：残差连接（Add）和层归一化（Norm）。这一步骤出现在自注意力（Self-Attention）和前馈全连接网络（Pointwise Feedforward Network）的每一个模块之后。\n",
    "\n",
    "1. **残差连接（Add）**\n",
    "   - **快速训练**：残差连接帮助解决了深度网络中的梯度消失问题，使得更深的网络能够更有效地训练。\n",
    "   - **信息保持**：它允许模型在每一层中保持输入信息的一部分，从而提高了信息流动和网络的学习能力。\n",
    "\n",
    "2. **层归一化（Norm）**\n",
    "   - **稳定训练**：归一化过程可以稳定训练过程，使得各层的学习速率相近，避免某些层过快或过慢地学习。\n",
    "   - **加快收敛**：通过规范化输入，层归一化有助于加快模型的收敛速度。\n",
    "\n",
    "#### 处理过程\n",
    "\n",
    "在每个自注意力和前馈全连接网络模块后，都会有一个Add & Norm步骤。处理过程可以描述如下：\n",
    "\n",
    "1. **残差连接（Add）**：\n",
    "   - 输入通过自注意力或前馈全连接网络得到输出。\n",
    "   - 将此输出与相应模块的原始输入相加（残差连接）。\n",
    "   - 公式：$\\text{Output}_{\\text{residual}} = \\text{Input} + \\text{Sublayer}(\\text{Input})$\n",
    "     其中，Sublayer表示自注意力或前馈全连接网络。\n",
    "2. **层归一化（Norm）**：\n",
    "   - 对残差连接的结果进行层归一化。\n",
    "   - 公式：$\\text{Output}_{\\text{norm}} = \\text{LayerNorm}(\\text{Output}_{\\text{residual}})$\n",
    "     层归一化公式是：$\\text{LayerNorm}(x) = \\gamma \\frac{x - \\mu}{\\sqrt{\\sigma^2 + \\epsilon}} + \\beta$\n",
    "     其中，$\\mu$和$\\sigma^2$分别是输入x的均值和方差，$\\gamma$和$\\beta$是可学习的参数，$\\epsilon$是一个很小的数，防止除以0。\n",
    "     \n",
    "####  代码说明\n",
    "\n",
    "* 通过transformer encoder的流程图可以看到，第一个Add&Norm部分的子层即为嵌入后的输入，第二个Add&Norm部分的子层为第一个Add&Norm的输出。`MultiHeadAttention`和`PoswiseFeedForward`是专门为Transformer设计的复杂子层。"
   ]
  },
  {
   "cell_type": "code",
   "execution_count": 43,
   "id": "a6182fb4-0f98-4d74-bf4c-d168b3c3d1bd",
   "metadata": {
    "tags": []
   },
   "outputs": [],
   "source": [
    "class AddNorm(nn.Module):\n",
    "    def __init__(self, size:int, dropout:float=0.1) -> None:\n",
    "        super(AddNorm, self).__init__()\n",
    "        self.norm = nn.LayerNorm(size)\n",
    "        self.dropout = nn.Dropout(dropout)\n",
    "        \n",
    "    def forward(self, x:torch.Tensor, sublayer:torch.Tensor) -> torch.Tensor:\n",
    "        # print(f'x:{x.shape}, sublayer:{sublayer.shape}')\n",
    "        return self.norm(self.dropout(x) + sublayer)"
   ]
  },
  {
   "cell_type": "markdown",
   "id": "3d69d55b-75d5-48f0-a5ab-139bc2d8d371",
   "metadata": {},
   "source": [
    "### Encoder Layer\n",
    "\n",
    "通过以上的组件，已经可以实现编码器的一个层了"
   ]
  },
  {
   "cell_type": "code",
   "execution_count": 44,
   "id": "639738a8-e0e2-4bec-a106-44433a62b5ca",
   "metadata": {
    "tags": []
   },
   "outputs": [
    {
     "name": "stdout",
     "output_type": "stream",
     "text": [
      "torch.Size([128, 32, 512]) torch.Size([128, 8, 32, 32])\n"
     ]
    }
   ],
   "source": [
    "class EncoderLayer(nn.Module):\n",
    "    def __init__(self, d_model:int, n_heads:int, d_ff:int, dropout:float=0.1) -> None:\n",
    "        super(EncoderLayer, self).__init__()\n",
    "        self.d_k = d_model // n_heads\n",
    "        \n",
    "        if self.d_k * n_heads != d_model:\n",
    "            raise ValueError(f\"`d_model` {d_model} can not be divisible by `num_heads` {n_heads}!\")\n",
    "            \n",
    "        self.attention = MultiHeadAttention(d_model, n_heads, dropout)\n",
    "        self.pos_ffn = PositionWiseFeedForward(d_model, d_ff, dropout)\n",
    "        self.add_norm1 = AddNorm(d_model, dropout)\n",
    "        self.add_norm2 = AddNorm(d_model, dropout)\n",
    "        \n",
    "    def forward(self, encoder_inputs:torch.Tensor, encoder_attention_mask:torch.Tensor) -> (torch.Tensor, torch.Tensor):\n",
    "        \"\"\"\n",
    "        encoder_inputs: [batch_size, src_len, d_model]\n",
    "        encoder_attention_mask: [batch_size, src_len, src_len]\n",
    "        \"\"\"\n",
    "        residual = encoder_inputs\n",
    "        # print(f'residual:{residual.shape}')\n",
    "        enc_outputs, attn = self.attention(encoder_inputs, encoder_inputs, encoder_inputs, encoder_attention_mask)\n",
    "        # print(f'enc_outputs:{enc_outputs.shape}, residual:{residual.shape}')\n",
    "        enc_outputs = self.add_norm1(enc_outputs, residual)\n",
    "        \n",
    "        residual = enc_outputs\n",
    "        enc_outputs = self.pos_ffn(enc_outputs)\n",
    "        enc_outputs = self.add_norm2(enc_outputs, residual)\n",
    "\n",
    "        return enc_outputs, attn\n",
    "    \n",
    "    \n",
    "x = torch.ones((128, 32, 512), dtype=torch.float32)\n",
    "mask = torch.tensor([False]).expand((128, 32, 32))\n",
    "encoder_layer = EncoderLayer(512, 8, 2048)\n",
    "output, attn = encoder_layer(x, mask)\n",
    "print(output.shape, attn.shape)"
   ]
  },
  {
   "cell_type": "markdown",
   "id": "15bcbb8b-382c-4e2e-ad43-744d90873f49",
   "metadata": {},
   "source": [
    "### 编码器\n",
    "\n",
    "将上面实现的EncoderLayer堆叠n次，即可实现编码器\n",
    "\n",
    "#### 代码说明\n",
    "\n",
    "* `nn.ModuleList`和`nn.Sequential`的区别\n",
    "\n",
    "    * `nn.ModuleList`\n",
    "        - **功能**: `nn.ModuleList` 是一个包含任意数量的 `nn.Module` 子模块的列表。它主要用于存储模块的列表，但不会自动处理前向传播。\n",
    "        - **使用方式**: 当需要一个模块的列表，而这些模块可能会在不同的上下文或以不规则的方式被调用时，可以使用 `nn.ModuleList`。\n",
    "        - **访问和使用**: 子模块可以通过索引访问，但每个模块的应用（例如在前向传播中）需要明确编写。\n",
    "    * `nn.Sequential`\n",
    "        - **功能**: `nn.Sequential` 是一个按顺序执行包含的每个模块的容器。它自动处理前向传播，按照它们被添加的顺序逐个调用每个模块。\n",
    "        - **使用方式**: 当你有一系列需要按顺序执行的模块时，使用 `nn.Sequential` 是非常方便的。这简化了前向传播的实现，因为不需要显式地编写数据通过每个模块的流程。\n",
    "        - **访问和使用**: 子模块将按照它们被添加的顺序自动执行，但不容易进行条件执行或访问中间层的输出。"
   ]
  },
  {
   "cell_type": "code",
   "execution_count": 45,
   "id": "6fd37b10-bc60-4a1b-a417-e9db1ed1a6c1",
   "metadata": {
    "tags": []
   },
   "outputs": [
    {
     "name": "stdout",
     "output_type": "stream",
     "text": [
      "x:torch.Size([128, 32, 512]), self.pe:torch.Size([32, 512])\n",
      "torch.Size([128, 32, 512])\n",
      "6\n"
     ]
    }
   ],
   "source": [
    "class Encoder(nn.Module):\n",
    "    def __init__(self, src_vocab_size:int, max_len:int, d_model:int, n_heads:int, d_ff:int, n_layers:int, src_pad_idx:int, dropout_p:float=0.1):\n",
    "        super(Encoder, self).__init__()\n",
    "        self.src_pad_idx = src_pad_idx\n",
    "        self.src_emb = nn.Embedding(src_vocab_size, d_model)\n",
    "        self.pos_ffn = PositionalEncoding(max_len, d_model, dropout_p)\n",
    "        self.layers = nn.ModuleList([EncoderLayer(d_model, n_heads, d_ff, dropout_p) for _ in range(n_layers)])\n",
    "        self.scaling_factor = math.sqrt(d_model)\n",
    "\n",
    "    def forward(self, enc_inputs:torch.Tensor) -> torch.Tensor:\n",
    "        enc_outputs = self.src_emb(enc_inputs)\n",
    "        enc_outputs = self.pos_ffn(enc_outputs * self.scaling_factor)\n",
    "\n",
    "        enc_self_attn_mask = create_padding_mask(enc_inputs, enc_inputs, self.src_pad_idx)\n",
    "\n",
    "        enc_self_attns = []\n",
    "        for layer in self.layers:\n",
    "            enc_outputs, enc_self_attn = layer(enc_outputs, enc_self_attn_mask)\n",
    "            enc_self_attns.append(enc_self_attn)\n",
    "        return enc_outputs, enc_self_attns \n",
    "    \n",
    "\n",
    "encoder = Encoder(len(vocab), max_len, d_model, num_heads, d_ff, n_layers, vocab['<pad>'])\n",
    "enc_outputs, enc_self_attns = encoder(comment)\n",
    "print(enc_outputs.shape)\n",
    "print(len(enc_self_attns))"
   ]
  },
  {
   "cell_type": "markdown",
   "id": "b6731bc9-c511-46f6-841d-ba3d67f91013",
   "metadata": {},
   "source": [
    "### 解码器\n",
    "\n",
    "对于翻译等文本生成任务，还需要解码器，以及解码器对应的根据时间序列生成的掩码"
   ]
  },
  {
   "cell_type": "code",
   "execution_count": 46,
   "id": "e81df03d-5a2c-4aa0-afd6-4efc76476639",
   "metadata": {
    "tags": []
   },
   "outputs": [],
   "source": [
    "def create_subsequent_mask(seq_q:torch.Tensor, seq_k:torch.Tensor) -> torch.Tensor:\n",
    "    pass\n"
   ]
  },
  {
   "cell_type": "code",
   "execution_count": 47,
   "id": "389ec191-d0a5-4436-9d7b-af00667f2a60",
   "metadata": {
    "tags": []
   },
   "outputs": [],
   "source": [
    "class DecoderLayer(nn.Module):\n",
    "    def __init__(self):\n",
    "        pass"
   ]
  },
  {
   "cell_type": "markdown",
   "id": "6467a255-de34-4812-abdd-215bc879475f",
   "metadata": {},
   "source": [
    "### Transformer\n",
    "\n",
    "将编码器和解码器组合起来"
   ]
  },
  {
   "cell_type": "code",
   "execution_count": 48,
   "id": "eeb37d70-3b05-4452-9f53-40decd402cf8",
   "metadata": {
    "tags": []
   },
   "outputs": [],
   "source": [
    "class Transformer(nn.Module):\n",
    "    def __init__(self):\n",
    "        pass"
   ]
  },
  {
   "cell_type": "markdown",
   "id": "3602157c-3006-4646-8532-644127505977",
   "metadata": {},
   "source": [
    "### 情感分析任务\n",
    "\n",
    "对于情感分析任务（分类任务），仅仅使用encoder即可，将encoder的输出经过线性层得到1-5的评分预测"
   ]
  },
  {
   "cell_type": "code",
   "execution_count": 49,
   "id": "3afb89f4-02cd-446a-9ccb-2535d62668be",
   "metadata": {
    "tags": []
   },
   "outputs": [],
   "source": [
    "class TransformerForSentimentAnalysis(nn.Module):\n",
    "    def __init__(self, \n",
    "                 src_vocab_size:int, max_len:int, d_model:int, \n",
    "                 n_heads:int, d_ff:int, n_layers:int, \n",
    "                 src_pad_idx:int, num_classes:int, dropout_p=0.1) -> None:\n",
    "        super(TransformerForSentimentAnalysis, self).__init__()\n",
    "        self.encoder = Encoder(src_vocab_size, max_len, d_model, n_heads, d_ff, n_layers, src_pad_idx, dropout_p)\n",
    "        self.fc = nn.Linear(d_model, num_classes)\n",
    "\n",
    "    def forward(self, src) -> torch.Tensor:\n",
    "        # 通过编码器获取编码序列\n",
    "        enc_outputs, _ = self.encoder(src)\n",
    "\n",
    "        # 使用编码序列的第一个元素（对应于起始标记）来进行分类\n",
    "        # 从编码器输出的每个批次中提取全局表示，通常是序列的第一个元素\n",
    "        # out维度为[batch_size, num_classes]\n",
    "        out = self.fc(enc_outputs[:, 0, :])\n",
    "\n",
    "        return out"
   ]
  },
  {
   "cell_type": "markdown",
   "id": "2c45cbdc-0f52-41ff-86ff-264e11e963ae",
   "metadata": {},
   "source": [
    "## 训练过程\n",
    "\n",
    "定义超参数和优化器，开始训练迭代"
   ]
  },
  {
   "cell_type": "code",
   "execution_count": 50,
   "id": "242fc002-0a9e-49d7-8561-08e8cf3a1ce0",
   "metadata": {
    "tags": []
   },
   "outputs": [],
   "source": [
    "num_epochs = 3\n",
    "num_classes = 5\n",
    "learning_rate = 0.0001\n",
    "batch_size = 128\n",
    "vocab_len = len(vocab)\n",
    "src_pad_idx = vocab['<pad>']\n",
    "max_len = 32\n",
    "d_model = 512\n",
    "num_heads = 8\n",
    "d_ff = 2048\n",
    "n_layers = 6\n",
    "d_k = d_model // num_heads\n",
    "\n",
    "model = TransformerForSentimentAnalysis(vocab_len, max_len, d_model, num_heads, d_ff, n_layers, src_pad_idx, num_classes).to(device)\n",
    "\n",
    "loss = nn.CrossEntropyLoss()\n",
    "optimizer = torch.optim.Adam(model.parameters(), lr=learning_rate)"
   ]
  },
  {
   "cell_type": "code",
   "execution_count": 51,
   "id": "c89f7097-97b7-4b73-8f35-99159600dbbf",
   "metadata": {
    "tags": []
   },
   "outputs": [
    {
     "name": "stderr",
     "output_type": "stream",
     "text": [
      "  0%|                                                                                         | 0/16602 [00:00<?, ?it/s]"
     ]
    },
    {
     "name": "stdout",
     "output_type": "stream",
     "text": [
      "x:torch.Size([128, 32, 512]), self.pe:torch.Size([32, 512])\n"
     ]
    },
    {
     "name": "stderr",
     "output_type": "stream",
     "text": [
      "  0%|                                                                               | 3/16602 [00:01<1:46:59,  2.59it/s]"
     ]
    },
    {
     "name": "stdout",
     "output_type": "stream",
     "text": [
      "x:torch.Size([128, 32, 512]), self.pe:torch.Size([32, 512])\n",
      "x:torch.Size([128, 32, 512]), self.pe:torch.Size([32, 512])\n",
      "x:torch.Size([128, 32, 512]), self.pe:torch.Size([32, 512])\n"
     ]
    },
    {
     "name": "stderr",
     "output_type": "stream",
     "text": [
      "  0%|                                                                                 | 6/16602 [00:01<53:35,  5.16it/s]"
     ]
    },
    {
     "name": "stdout",
     "output_type": "stream",
     "text": [
      "x:torch.Size([128, 32, 512]), self.pe:torch.Size([32, 512])\n",
      "x:torch.Size([128, 32, 512]), self.pe:torch.Size([32, 512])\n",
      "x:torch.Size([128, 32, 512]), self.pe:torch.Size([32, 512])\n"
     ]
    },
    {
     "name": "stderr",
     "output_type": "stream",
     "text": [
      "  0%|                                                                                 | 8/16602 [00:01<42:33,  6.50it/s]"
     ]
    },
    {
     "name": "stdout",
     "output_type": "stream",
     "text": [
      "x:torch.Size([128, 32, 512]), self.pe:torch.Size([32, 512])\n",
      "x:torch.Size([128, 32, 512]), self.pe:torch.Size([32, 512])\n",
      "x:torch.Size([128, 32, 512]), self.pe:torch.Size([32, 512])\n"
     ]
    },
    {
     "name": "stderr",
     "output_type": "stream",
     "text": [
      "  0%|                                                                                | 12/16602 [00:02<33:21,  8.29it/s]"
     ]
    },
    {
     "name": "stdout",
     "output_type": "stream",
     "text": [
      "x:torch.Size([128, 32, 512]), self.pe:torch.Size([32, 512])\n",
      "x:torch.Size([128, 32, 512]), self.pe:torch.Size([32, 512])\n",
      "x:torch.Size([128, 32, 512]), self.pe:torch.Size([32, 512])\n"
     ]
    },
    {
     "name": "stderr",
     "output_type": "stream",
     "text": [
      "  0%|                                                                                | 14/16602 [00:02<31:30,  8.77it/s]"
     ]
    },
    {
     "name": "stdout",
     "output_type": "stream",
     "text": [
      "x:torch.Size([128, 32, 512]), self.pe:torch.Size([32, 512])\n",
      "x:torch.Size([128, 32, 512]), self.pe:torch.Size([32, 512])\n",
      "x:torch.Size([128, 32, 512]), self.pe:torch.Size([32, 512])\n"
     ]
    },
    {
     "name": "stderr",
     "output_type": "stream",
     "text": [
      "  0%|                                                                                | 18/16602 [00:02<29:24,  9.40it/s]"
     ]
    },
    {
     "name": "stdout",
     "output_type": "stream",
     "text": [
      "x:torch.Size([128, 32, 512]), self.pe:torch.Size([32, 512])\n",
      "x:torch.Size([128, 32, 512]), self.pe:torch.Size([32, 512])\n"
     ]
    },
    {
     "name": "stderr",
     "output_type": "stream",
     "text": [
      "  0%|                                                                                | 20/16602 [00:03<28:44,  9.62it/s]"
     ]
    },
    {
     "name": "stdout",
     "output_type": "stream",
     "text": [
      "x:torch.Size([128, 32, 512]), self.pe:torch.Size([32, 512])\n",
      "x:torch.Size([128, 32, 512]), self.pe:torch.Size([32, 512])\n",
      "x:torch.Size([128, 32, 512]), self.pe:torch.Size([32, 512])\n"
     ]
    },
    {
     "name": "stderr",
     "output_type": "stream",
     "text": [
      "  0%|                                                                                | 23/16602 [00:03<28:17,  9.77it/s]"
     ]
    },
    {
     "name": "stdout",
     "output_type": "stream",
     "text": [
      "x:torch.Size([128, 32, 512]), self.pe:torch.Size([32, 512])\n",
      "x:torch.Size([128, 32, 512]), self.pe:torch.Size([32, 512])\n"
     ]
    },
    {
     "name": "stderr",
     "output_type": "stream",
     "text": [
      "  0%|                                                                                | 24/16602 [00:03<28:25,  9.72it/s]"
     ]
    },
    {
     "name": "stdout",
     "output_type": "stream",
     "text": [
      "x:torch.Size([128, 32, 512]), self.pe:torch.Size([32, 512])\n",
      "x:torch.Size([128, 32, 512]), self.pe:torch.Size([32, 512])\n",
      "x:torch.Size([128, 32, 512]), self.pe:torch.Size([32, 512])\n"
     ]
    },
    {
     "name": "stderr",
     "output_type": "stream",
     "text": [
      "  0%|▏                                                                               | 28/16602 [00:03<27:46,  9.94it/s]"
     ]
    },
    {
     "name": "stdout",
     "output_type": "stream",
     "text": [
      "x:torch.Size([128, 32, 512]), self.pe:torch.Size([32, 512])\n",
      "x:torch.Size([128, 32, 512]), self.pe:torch.Size([32, 512])\n",
      "x:torch.Size([128, 32, 512]), self.pe:torch.Size([32, 512])\n"
     ]
    },
    {
     "name": "stderr",
     "output_type": "stream",
     "text": [
      "  0%|▏                                                                               | 31/16602 [00:04<27:41,  9.97it/s]"
     ]
    },
    {
     "name": "stdout",
     "output_type": "stream",
     "text": [
      "x:torch.Size([128, 32, 512]), self.pe:torch.Size([32, 512])\n",
      "x:torch.Size([128, 32, 512]), self.pe:torch.Size([32, 512])\n",
      "x:torch.Size([128, 32, 512]), self.pe:torch.Size([32, 512])\n"
     ]
    },
    {
     "name": "stderr",
     "output_type": "stream",
     "text": [
      "  0%|▏                                                                               | 34/16602 [00:04<27:43,  9.96it/s]"
     ]
    },
    {
     "name": "stdout",
     "output_type": "stream",
     "text": [
      "x:torch.Size([128, 32, 512]), self.pe:torch.Size([32, 512])\n",
      "x:torch.Size([128, 32, 512]), self.pe:torch.Size([32, 512])\n"
     ]
    },
    {
     "name": "stderr",
     "output_type": "stream",
     "text": [
      "  0%|▏                                                                               | 36/16602 [00:04<27:23, 10.08it/s]"
     ]
    },
    {
     "name": "stdout",
     "output_type": "stream",
     "text": [
      "x:torch.Size([128, 32, 512]), self.pe:torch.Size([32, 512])\n",
      "x:torch.Size([128, 32, 512]), self.pe:torch.Size([32, 512])\n",
      "x:torch.Size([128, 32, 512]), self.pe:torch.Size([32, 512])\n"
     ]
    },
    {
     "name": "stderr",
     "output_type": "stream",
     "text": [
      "  0%|▏                                                                               | 38/16602 [00:04<27:18, 10.11it/s]"
     ]
    },
    {
     "name": "stdout",
     "output_type": "stream",
     "text": [
      "x:torch.Size([128, 32, 512]), self.pe:torch.Size([32, 512])\n",
      "x:torch.Size([128, 32, 512]), self.pe:torch.Size([32, 512])\n",
      "x:torch.Size([128, 32, 512]), self.pe:torch.Size([32, 512])\n"
     ]
    },
    {
     "name": "stderr",
     "output_type": "stream",
     "text": [
      "  0%|▏                                                                               | 42/16602 [00:05<27:04, 10.19it/s]"
     ]
    },
    {
     "name": "stdout",
     "output_type": "stream",
     "text": [
      "x:torch.Size([128, 32, 512]), self.pe:torch.Size([32, 512])\n",
      "x:torch.Size([128, 32, 512]), self.pe:torch.Size([32, 512])\n",
      "x:torch.Size([128, 32, 512]), self.pe:torch.Size([32, 512])\n"
     ]
    },
    {
     "name": "stderr",
     "output_type": "stream",
     "text": [
      "  0%|▏                                                                               | 44/16602 [00:05<27:10, 10.15it/s]"
     ]
    },
    {
     "name": "stdout",
     "output_type": "stream",
     "text": [
      "x:torch.Size([128, 32, 512]), self.pe:torch.Size([32, 512])\n",
      "x:torch.Size([128, 32, 512]), self.pe:torch.Size([32, 512])\n",
      "x:torch.Size([128, 32, 512]), self.pe:torch.Size([32, 512])\n"
     ]
    },
    {
     "name": "stderr",
     "output_type": "stream",
     "text": [
      "  0%|▏                                                                               | 48/16602 [00:05<27:02, 10.20it/s]"
     ]
    },
    {
     "name": "stdout",
     "output_type": "stream",
     "text": [
      "x:torch.Size([128, 32, 512]), self.pe:torch.Size([32, 512])\n",
      "x:torch.Size([128, 32, 512]), self.pe:torch.Size([32, 512])\n",
      "x:torch.Size([128, 32, 512]), self.pe:torch.Size([32, 512])\n"
     ]
    },
    {
     "name": "stderr",
     "output_type": "stream",
     "text": [
      "  0%|▏                                                                               | 50/16602 [00:06<27:09, 10.16it/s]"
     ]
    },
    {
     "name": "stdout",
     "output_type": "stream",
     "text": [
      "x:torch.Size([128, 32, 512]), self.pe:torch.Size([32, 512])\n",
      "x:torch.Size([128, 32, 512]), self.pe:torch.Size([32, 512])\n",
      "x:torch.Size([128, 32, 512]), self.pe:torch.Size([32, 512])\n"
     ]
    },
    {
     "name": "stderr",
     "output_type": "stream",
     "text": [
      "  0%|▎                                                                               | 54/16602 [00:06<27:27, 10.04it/s]"
     ]
    },
    {
     "name": "stdout",
     "output_type": "stream",
     "text": [
      "x:torch.Size([128, 32, 512]), self.pe:torch.Size([32, 512])\n",
      "x:torch.Size([128, 32, 512]), self.pe:torch.Size([32, 512])\n"
     ]
    },
    {
     "name": "stderr",
     "output_type": "stream",
     "text": [
      "  0%|▎                                                                               | 56/16602 [00:06<27:26, 10.05it/s]"
     ]
    },
    {
     "name": "stdout",
     "output_type": "stream",
     "text": [
      "x:torch.Size([128, 32, 512]), self.pe:torch.Size([32, 512])\n",
      "x:torch.Size([128, 32, 512]), self.pe:torch.Size([32, 512])\n",
      "x:torch.Size([128, 32, 512]), self.pe:torch.Size([32, 512])\n"
     ]
    },
    {
     "name": "stderr",
     "output_type": "stream",
     "text": [
      "  0%|▎                                                                               | 58/16602 [00:06<27:25, 10.05it/s]"
     ]
    },
    {
     "name": "stdout",
     "output_type": "stream",
     "text": [
      "x:torch.Size([128, 32, 512]), self.pe:torch.Size([32, 512])\n",
      "x:torch.Size([128, 32, 512]), self.pe:torch.Size([32, 512])\n",
      "x:torch.Size([128, 32, 512]), self.pe:torch.Size([32, 512])\n"
     ]
    },
    {
     "name": "stderr",
     "output_type": "stream",
     "text": [
      "  0%|▎                                                                               | 62/16602 [00:07<27:30, 10.02it/s]"
     ]
    },
    {
     "name": "stdout",
     "output_type": "stream",
     "text": [
      "x:torch.Size([128, 32, 512]), self.pe:torch.Size([32, 512])\n",
      "x:torch.Size([128, 32, 512]), self.pe:torch.Size([32, 512])\n",
      "x:torch.Size([128, 32, 512]), self.pe:torch.Size([32, 512])\n"
     ]
    },
    {
     "name": "stderr",
     "output_type": "stream",
     "text": [
      "  0%|▎                                                                               | 64/16602 [00:07<27:32, 10.01it/s]"
     ]
    },
    {
     "name": "stdout",
     "output_type": "stream",
     "text": [
      "x:torch.Size([128, 32, 512]), self.pe:torch.Size([32, 512])\n",
      "x:torch.Size([128, 32, 512]), self.pe:torch.Size([32, 512])\n",
      "x:torch.Size([128, 32, 512]), self.pe:torch.Size([32, 512])\n"
     ]
    },
    {
     "name": "stderr",
     "output_type": "stream",
     "text": [
      "  0%|▎                                                                               | 68/16602 [00:07<27:35,  9.99it/s]"
     ]
    },
    {
     "name": "stdout",
     "output_type": "stream",
     "text": [
      "x:torch.Size([128, 32, 512]), self.pe:torch.Size([32, 512])\n",
      "x:torch.Size([128, 32, 512]), self.pe:torch.Size([32, 512])\n",
      "x:torch.Size([128, 32, 512]), self.pe:torch.Size([32, 512])\n"
     ]
    },
    {
     "name": "stderr",
     "output_type": "stream",
     "text": [
      "  0%|▎                                                                               | 70/16602 [00:08<27:35,  9.98it/s]"
     ]
    },
    {
     "name": "stdout",
     "output_type": "stream",
     "text": [
      "x:torch.Size([128, 32, 512]), self.pe:torch.Size([32, 512])\n",
      "x:torch.Size([128, 32, 512]), self.pe:torch.Size([32, 512])\n",
      "x:torch.Size([128, 32, 512]), self.pe:torch.Size([32, 512])\n"
     ]
    },
    {
     "name": "stderr",
     "output_type": "stream",
     "text": [
      "  0%|▎                                                                               | 74/16602 [00:08<27:14, 10.11it/s]"
     ]
    },
    {
     "name": "stdout",
     "output_type": "stream",
     "text": [
      "x:torch.Size([128, 32, 512]), self.pe:torch.Size([32, 512])\n",
      "x:torch.Size([128, 32, 512]), self.pe:torch.Size([32, 512])\n",
      "x:torch.Size([128, 32, 512]), self.pe:torch.Size([32, 512])\n"
     ]
    },
    {
     "name": "stderr",
     "output_type": "stream",
     "text": [
      "  0%|▎                                                                               | 76/16602 [00:08<27:07, 10.16it/s]"
     ]
    },
    {
     "name": "stdout",
     "output_type": "stream",
     "text": [
      "x:torch.Size([128, 32, 512]), self.pe:torch.Size([32, 512])\n",
      "x:torch.Size([128, 32, 512]), self.pe:torch.Size([32, 512])\n",
      "x:torch.Size([128, 32, 512]), self.pe:torch.Size([32, 512])\n"
     ]
    },
    {
     "name": "stderr",
     "output_type": "stream",
     "text": [
      "  0%|▍                                                                               | 80/16602 [00:09<26:59, 10.20it/s]"
     ]
    },
    {
     "name": "stdout",
     "output_type": "stream",
     "text": [
      "x:torch.Size([128, 32, 512]), self.pe:torch.Size([32, 512])\n",
      "x:torch.Size([128, 32, 512]), self.pe:torch.Size([32, 512])\n",
      "x:torch.Size([128, 32, 512]), self.pe:torch.Size([32, 512])\n"
     ]
    },
    {
     "name": "stderr",
     "output_type": "stream",
     "text": [
      "  0%|▍                                                                               | 82/16602 [00:09<26:59, 10.20it/s]"
     ]
    },
    {
     "name": "stdout",
     "output_type": "stream",
     "text": [
      "x:torch.Size([128, 32, 512]), self.pe:torch.Size([32, 512])\n",
      "x:torch.Size([128, 32, 512]), self.pe:torch.Size([32, 512])\n",
      "x:torch.Size([128, 32, 512]), self.pe:torch.Size([32, 512])\n"
     ]
    },
    {
     "name": "stderr",
     "output_type": "stream",
     "text": [
      "  1%|▍                                                                               | 86/16602 [00:09<26:58, 10.20it/s]"
     ]
    },
    {
     "name": "stdout",
     "output_type": "stream",
     "text": [
      "x:torch.Size([128, 32, 512]), self.pe:torch.Size([32, 512])\n",
      "x:torch.Size([128, 32, 512]), self.pe:torch.Size([32, 512])\n",
      "x:torch.Size([128, 32, 512]), self.pe:torch.Size([32, 512])\n"
     ]
    },
    {
     "name": "stderr",
     "output_type": "stream",
     "text": [
      "  1%|▍                                                                               | 88/16602 [00:09<27:07, 10.15it/s]"
     ]
    },
    {
     "name": "stdout",
     "output_type": "stream",
     "text": [
      "x:torch.Size([128, 32, 512]), self.pe:torch.Size([32, 512])\n",
      "x:torch.Size([128, 32, 512]), self.pe:torch.Size([32, 512])\n"
     ]
    },
    {
     "name": "stderr",
     "output_type": "stream",
     "text": [
      "  1%|▍                                                                               | 90/16602 [00:10<27:18, 10.08it/s]"
     ]
    },
    {
     "name": "stdout",
     "output_type": "stream",
     "text": [
      "x:torch.Size([128, 32, 512]), self.pe:torch.Size([32, 512])\n",
      "x:torch.Size([128, 32, 512]), self.pe:torch.Size([32, 512])\n",
      "x:torch.Size([128, 32, 512]), self.pe:torch.Size([32, 512])\n"
     ]
    },
    {
     "name": "stderr",
     "output_type": "stream",
     "text": [
      "  1%|▍                                                                               | 94/16602 [00:10<27:20, 10.06it/s]"
     ]
    },
    {
     "name": "stdout",
     "output_type": "stream",
     "text": [
      "x:torch.Size([128, 32, 512]), self.pe:torch.Size([32, 512])\n",
      "x:torch.Size([128, 32, 512]), self.pe:torch.Size([32, 512])\n",
      "x:torch.Size([128, 32, 512]), self.pe:torch.Size([32, 512])\n"
     ]
    },
    {
     "name": "stderr",
     "output_type": "stream",
     "text": [
      "  1%|▍                                                                               | 96/16602 [00:10<27:21, 10.05it/s]"
     ]
    },
    {
     "name": "stdout",
     "output_type": "stream",
     "text": [
      "x:torch.Size([128, 32, 512]), self.pe:torch.Size([32, 512])\n",
      "x:torch.Size([128, 32, 512]), self.pe:torch.Size([32, 512])\n",
      "x:torch.Size([128, 32, 512]), self.pe:torch.Size([32, 512])\n"
     ]
    },
    {
     "name": "stderr",
     "output_type": "stream",
     "text": [
      "  1%|▍                                                                              | 100/16602 [00:11<27:27, 10.02it/s]"
     ]
    },
    {
     "name": "stdout",
     "output_type": "stream",
     "text": [
      "x:torch.Size([128, 32, 512]), self.pe:torch.Size([32, 512])\n",
      "x:torch.Size([128, 32, 512]), self.pe:torch.Size([32, 512])\n",
      "x:torch.Size([128, 32, 512]), self.pe:torch.Size([32, 512])\n"
     ]
    },
    {
     "name": "stderr",
     "output_type": "stream",
     "text": [
      "  1%|▍                                                                              | 102/16602 [00:11<27:27, 10.02it/s]"
     ]
    },
    {
     "name": "stdout",
     "output_type": "stream",
     "text": [
      "x:torch.Size([128, 32, 512]), self.pe:torch.Size([32, 512])\n",
      "x:torch.Size([128, 32, 512]), self.pe:torch.Size([32, 512])\n",
      "x:torch.Size([128, 32, 512]), self.pe:torch.Size([32, 512])\n"
     ]
    },
    {
     "name": "stderr",
     "output_type": "stream",
     "text": [
      "  1%|▌                                                                              | 106/16602 [00:11<27:28, 10.00it/s]"
     ]
    },
    {
     "name": "stdout",
     "output_type": "stream",
     "text": [
      "x:torch.Size([128, 32, 512]), self.pe:torch.Size([32, 512])\n",
      "x:torch.Size([128, 32, 512]), self.pe:torch.Size([32, 512])\n",
      "x:torch.Size([128, 32, 512]), self.pe:torch.Size([32, 512])\n"
     ]
    },
    {
     "name": "stderr",
     "output_type": "stream",
     "text": [
      "  1%|▌                                                                              | 109/16602 [00:11<27:36,  9.96it/s]"
     ]
    },
    {
     "name": "stdout",
     "output_type": "stream",
     "text": [
      "x:torch.Size([128, 32, 512]), self.pe:torch.Size([32, 512])\n",
      "x:torch.Size([128, 32, 512]), self.pe:torch.Size([32, 512])\n"
     ]
    },
    {
     "name": "stderr",
     "output_type": "stream",
     "text": [
      "  1%|▌                                                                              | 111/16602 [00:12<27:41,  9.92it/s]"
     ]
    },
    {
     "name": "stdout",
     "output_type": "stream",
     "text": [
      "x:torch.Size([128, 32, 512]), self.pe:torch.Size([32, 512])\n",
      "x:torch.Size([128, 32, 512]), self.pe:torch.Size([32, 512])\n"
     ]
    },
    {
     "name": "stderr",
     "output_type": "stream",
     "text": [
      "  1%|▌                                                                              | 112/16602 [00:12<27:50,  9.87it/s]"
     ]
    },
    {
     "name": "stdout",
     "output_type": "stream",
     "text": [
      "x:torch.Size([128, 32, 512]), self.pe:torch.Size([32, 512])\n",
      "x:torch.Size([128, 32, 512]), self.pe:torch.Size([32, 512])\n"
     ]
    },
    {
     "name": "stderr",
     "output_type": "stream",
     "text": [
      "  1%|▌                                                                              | 115/16602 [00:12<27:34,  9.97it/s]"
     ]
    },
    {
     "name": "stdout",
     "output_type": "stream",
     "text": [
      "x:torch.Size([128, 32, 512]), self.pe:torch.Size([32, 512])\n",
      "x:torch.Size([128, 32, 512]), self.pe:torch.Size([32, 512])\n",
      "x:torch.Size([128, 32, 512]), self.pe:torch.Size([32, 512])\n"
     ]
    },
    {
     "name": "stderr",
     "output_type": "stream",
     "text": [
      "  1%|▌                                                                              | 117/16602 [00:12<27:27, 10.00it/s]"
     ]
    },
    {
     "name": "stdout",
     "output_type": "stream",
     "text": [
      "x:torch.Size([128, 32, 512]), self.pe:torch.Size([32, 512])\n",
      "x:torch.Size([128, 32, 512]), self.pe:torch.Size([32, 512])\n",
      "x:torch.Size([128, 32, 512]), self.pe:torch.Size([32, 512])\n"
     ]
    },
    {
     "name": "stderr",
     "output_type": "stream",
     "text": [
      "  1%|▌                                                                              | 120/16602 [00:13<27:29,  9.99it/s]"
     ]
    },
    {
     "name": "stdout",
     "output_type": "stream",
     "text": [
      "x:torch.Size([128, 32, 512]), self.pe:torch.Size([32, 512])\n",
      "x:torch.Size([128, 32, 512]), self.pe:torch.Size([32, 512])\n",
      "x:torch.Size([128, 32, 512]), self.pe:torch.Size([32, 512])\n"
     ]
    },
    {
     "name": "stderr",
     "output_type": "stream",
     "text": [
      "  1%|▌                                                                              | 124/16602 [00:13<27:23, 10.03it/s]"
     ]
    },
    {
     "name": "stdout",
     "output_type": "stream",
     "text": [
      "x:torch.Size([128, 32, 512]), self.pe:torch.Size([32, 512])\n",
      "x:torch.Size([128, 32, 512]), self.pe:torch.Size([32, 512])\n",
      "x:torch.Size([128, 32, 512]), self.pe:torch.Size([32, 512])\n"
     ]
    },
    {
     "name": "stderr",
     "output_type": "stream",
     "text": [
      "  1%|▌                                                                              | 126/16602 [00:13<27:21, 10.04it/s]"
     ]
    },
    {
     "name": "stdout",
     "output_type": "stream",
     "text": [
      "x:torch.Size([128, 32, 512]), self.pe:torch.Size([32, 512])\n",
      "x:torch.Size([128, 32, 512]), self.pe:torch.Size([32, 512])\n",
      "x:torch.Size([128, 32, 512]), self.pe:torch.Size([32, 512])\n"
     ]
    },
    {
     "name": "stderr",
     "output_type": "stream",
     "text": [
      "  1%|▌                                                                              | 130/16602 [00:14<27:23, 10.02it/s]"
     ]
    },
    {
     "name": "stdout",
     "output_type": "stream",
     "text": [
      "x:torch.Size([128, 32, 512]), self.pe:torch.Size([32, 512])\n",
      "x:torch.Size([128, 32, 512]), self.pe:torch.Size([32, 512])\n",
      "x:torch.Size([128, 32, 512]), self.pe:torch.Size([32, 512])\n"
     ]
    },
    {
     "name": "stderr",
     "output_type": "stream",
     "text": [
      "  1%|▋                                                                              | 133/16602 [00:14<27:30,  9.98it/s]"
     ]
    },
    {
     "name": "stdout",
     "output_type": "stream",
     "text": [
      "x:torch.Size([128, 32, 512]), self.pe:torch.Size([32, 512])\n",
      "x:torch.Size([128, 32, 512]), self.pe:torch.Size([32, 512])\n"
     ]
    },
    {
     "name": "stderr",
     "output_type": "stream",
     "text": [
      "  1%|▋                                                                              | 135/16602 [00:14<27:30,  9.98it/s]"
     ]
    },
    {
     "name": "stdout",
     "output_type": "stream",
     "text": [
      "x:torch.Size([128, 32, 512]), self.pe:torch.Size([32, 512])\n",
      "x:torch.Size([128, 32, 512]), self.pe:torch.Size([32, 512])\n",
      "x:torch.Size([128, 32, 512]), self.pe:torch.Size([32, 512])\n"
     ]
    },
    {
     "name": "stderr",
     "output_type": "stream",
     "text": [
      "  1%|▋                                                                              | 138/16602 [00:14<27:28,  9.99it/s]"
     ]
    },
    {
     "name": "stdout",
     "output_type": "stream",
     "text": [
      "x:torch.Size([128, 32, 512]), self.pe:torch.Size([32, 512])\n",
      "x:torch.Size([128, 32, 512]), self.pe:torch.Size([32, 512])\n"
     ]
    },
    {
     "name": "stderr",
     "output_type": "stream",
     "text": [
      "  1%|▋                                                                              | 139/16602 [00:14<27:31,  9.97it/s]"
     ]
    },
    {
     "name": "stdout",
     "output_type": "stream",
     "text": [
      "x:torch.Size([128, 32, 512]), self.pe:torch.Size([32, 512])\n",
      "x:torch.Size([128, 32, 512]), self.pe:torch.Size([32, 512])\n",
      "x:torch.Size([128, 32, 512]), self.pe:torch.Size([32, 512])\n"
     ]
    },
    {
     "name": "stderr",
     "output_type": "stream",
     "text": [
      "  1%|▋                                                                              | 143/16602 [00:15<27:29,  9.98it/s]"
     ]
    },
    {
     "name": "stdout",
     "output_type": "stream",
     "text": [
      "x:torch.Size([128, 32, 512]), self.pe:torch.Size([32, 512])\n",
      "x:torch.Size([128, 32, 512]), self.pe:torch.Size([32, 512])\n",
      "x:torch.Size([128, 32, 512]), self.pe:torch.Size([32, 512])\n"
     ]
    },
    {
     "name": "stderr",
     "output_type": "stream",
     "text": [
      "  1%|▋                                                                              | 145/16602 [00:15<27:23, 10.01it/s]"
     ]
    },
    {
     "name": "stdout",
     "output_type": "stream",
     "text": [
      "x:torch.Size([128, 32, 512]), self.pe:torch.Size([32, 512])\n",
      "x:torch.Size([128, 32, 512]), self.pe:torch.Size([32, 512])\n",
      "x:torch.Size([128, 32, 512]), self.pe:torch.Size([32, 512])\n"
     ]
    },
    {
     "name": "stderr",
     "output_type": "stream",
     "text": [
      "  1%|▋                                                                              | 149/16602 [00:15<27:15, 10.06it/s]"
     ]
    },
    {
     "name": "stdout",
     "output_type": "stream",
     "text": [
      "x:torch.Size([128, 32, 512]), self.pe:torch.Size([32, 512])\n",
      "x:torch.Size([128, 32, 512]), self.pe:torch.Size([32, 512])\n",
      "x:torch.Size([128, 32, 512]), self.pe:torch.Size([32, 512])\n"
     ]
    },
    {
     "name": "stderr",
     "output_type": "stream",
     "text": [
      "  1%|▋                                                                              | 151/16602 [00:16<27:13, 10.07it/s]"
     ]
    },
    {
     "name": "stdout",
     "output_type": "stream",
     "text": [
      "x:torch.Size([128, 32, 512]), self.pe:torch.Size([32, 512])\n",
      "x:torch.Size([128, 32, 512]), self.pe:torch.Size([32, 512])\n",
      "x:torch.Size([128, 32, 512]), self.pe:torch.Size([32, 512])\n"
     ]
    },
    {
     "name": "stderr",
     "output_type": "stream",
     "text": [
      "  1%|▋                                                                              | 155/16602 [00:16<27:00, 10.15it/s]"
     ]
    },
    {
     "name": "stdout",
     "output_type": "stream",
     "text": [
      "x:torch.Size([128, 32, 512]), self.pe:torch.Size([32, 512])\n",
      "x:torch.Size([128, 32, 512]), self.pe:torch.Size([32, 512])\n",
      "x:torch.Size([128, 32, 512]), self.pe:torch.Size([32, 512])\n"
     ]
    },
    {
     "name": "stderr",
     "output_type": "stream",
     "text": [
      "  1%|▋                                                                              | 157/16602 [00:16<26:55, 10.18it/s]"
     ]
    },
    {
     "name": "stdout",
     "output_type": "stream",
     "text": [
      "x:torch.Size([128, 32, 512]), self.pe:torch.Size([32, 512])\n",
      "x:torch.Size([128, 32, 512]), self.pe:torch.Size([32, 512])\n",
      "x:torch.Size([128, 32, 512]), self.pe:torch.Size([32, 512])\n"
     ]
    },
    {
     "name": "stderr",
     "output_type": "stream",
     "text": [
      "  1%|▊                                                                              | 161/16602 [00:17<26:52, 10.20it/s]"
     ]
    },
    {
     "name": "stdout",
     "output_type": "stream",
     "text": [
      "x:torch.Size([128, 32, 512]), self.pe:torch.Size([32, 512])\n",
      "x:torch.Size([128, 32, 512]), self.pe:torch.Size([32, 512])\n",
      "x:torch.Size([128, 32, 512]), self.pe:torch.Size([32, 512])\n"
     ]
    },
    {
     "name": "stderr",
     "output_type": "stream",
     "text": [
      "  1%|▊                                                                              | 163/16602 [00:17<26:49, 10.21it/s]"
     ]
    },
    {
     "name": "stdout",
     "output_type": "stream",
     "text": [
      "x:torch.Size([128, 32, 512]), self.pe:torch.Size([32, 512])\n",
      "x:torch.Size([128, 32, 512]), self.pe:torch.Size([32, 512])\n",
      "x:torch.Size([128, 32, 512]), self.pe:torch.Size([32, 512])\n"
     ]
    },
    {
     "name": "stderr",
     "output_type": "stream",
     "text": [
      "  1%|▊                                                                              | 167/16602 [00:17<26:44, 10.24it/s]"
     ]
    },
    {
     "name": "stdout",
     "output_type": "stream",
     "text": [
      "x:torch.Size([128, 32, 512]), self.pe:torch.Size([32, 512])\n",
      "x:torch.Size([128, 32, 512]), self.pe:torch.Size([32, 512])\n",
      "x:torch.Size([128, 32, 512]), self.pe:torch.Size([32, 512])\n"
     ]
    },
    {
     "name": "stderr",
     "output_type": "stream",
     "text": [
      "  1%|▊                                                                              | 169/16602 [00:17<26:58, 10.15it/s]"
     ]
    },
    {
     "name": "stdout",
     "output_type": "stream",
     "text": [
      "x:torch.Size([128, 32, 512]), self.pe:torch.Size([32, 512])\n",
      "x:torch.Size([128, 32, 512]), self.pe:torch.Size([32, 512])\n",
      "x:torch.Size([128, 32, 512]), self.pe:torch.Size([32, 512])\n"
     ]
    },
    {
     "name": "stderr",
     "output_type": "stream",
     "text": [
      "  1%|▊                                                                              | 173/16602 [00:18<27:08, 10.09it/s]"
     ]
    },
    {
     "name": "stdout",
     "output_type": "stream",
     "text": [
      "x:torch.Size([128, 32, 512]), self.pe:torch.Size([32, 512])\n",
      "x:torch.Size([128, 32, 512]), self.pe:torch.Size([32, 512])\n",
      "x:torch.Size([128, 32, 512]), self.pe:torch.Size([32, 512])\n"
     ]
    },
    {
     "name": "stderr",
     "output_type": "stream",
     "text": [
      "  1%|▊                                                                              | 175/16602 [00:18<27:10, 10.07it/s]"
     ]
    },
    {
     "name": "stdout",
     "output_type": "stream",
     "text": [
      "x:torch.Size([128, 32, 512]), self.pe:torch.Size([32, 512])\n",
      "x:torch.Size([128, 32, 512]), self.pe:torch.Size([32, 512])\n",
      "x:torch.Size([128, 32, 512]), self.pe:torch.Size([32, 512])\n"
     ]
    },
    {
     "name": "stderr",
     "output_type": "stream",
     "text": [
      "  1%|▊                                                                              | 179/16602 [00:18<27:11, 10.06it/s]"
     ]
    },
    {
     "name": "stdout",
     "output_type": "stream",
     "text": [
      "x:torch.Size([128, 32, 512]), self.pe:torch.Size([32, 512])\n",
      "x:torch.Size([128, 32, 512]), self.pe:torch.Size([32, 512])\n",
      "x:torch.Size([128, 32, 512]), self.pe:torch.Size([32, 512])\n"
     ]
    },
    {
     "name": "stderr",
     "output_type": "stream",
     "text": [
      "  1%|▊                                                                              | 181/16602 [00:19<27:13, 10.05it/s]"
     ]
    },
    {
     "name": "stdout",
     "output_type": "stream",
     "text": [
      "x:torch.Size([128, 32, 512]), self.pe:torch.Size([32, 512])\n",
      "x:torch.Size([128, 32, 512]), self.pe:torch.Size([32, 512])\n",
      "x:torch.Size([128, 32, 512]), self.pe:torch.Size([32, 512])\n"
     ]
    },
    {
     "name": "stderr",
     "output_type": "stream",
     "text": [
      "  1%|▉                                                                              | 185/16602 [00:19<26:59, 10.14it/s]"
     ]
    },
    {
     "name": "stdout",
     "output_type": "stream",
     "text": [
      "x:torch.Size([128, 32, 512]), self.pe:torch.Size([32, 512])\n",
      "x:torch.Size([128, 32, 512]), self.pe:torch.Size([32, 512])\n",
      "x:torch.Size([128, 32, 512]), self.pe:torch.Size([32, 512])\n"
     ]
    },
    {
     "name": "stderr",
     "output_type": "stream",
     "text": [
      "  1%|▉                                                                              | 187/16602 [00:19<26:53, 10.18it/s]"
     ]
    },
    {
     "name": "stdout",
     "output_type": "stream",
     "text": [
      "x:torch.Size([128, 32, 512]), self.pe:torch.Size([32, 512])\n",
      "x:torch.Size([128, 32, 512]), self.pe:torch.Size([32, 512])\n",
      "x:torch.Size([128, 32, 512]), self.pe:torch.Size([32, 512])\n"
     ]
    },
    {
     "name": "stderr",
     "output_type": "stream",
     "text": [
      "  1%|▉                                                                              | 191/16602 [00:20<26:43, 10.23it/s]"
     ]
    },
    {
     "name": "stdout",
     "output_type": "stream",
     "text": [
      "x:torch.Size([128, 32, 512]), self.pe:torch.Size([32, 512])\n",
      "x:torch.Size([128, 32, 512]), self.pe:torch.Size([32, 512])\n",
      "x:torch.Size([128, 32, 512]), self.pe:torch.Size([32, 512])\n"
     ]
    },
    {
     "name": "stderr",
     "output_type": "stream",
     "text": [
      "  1%|▉                                                                              | 193/16602 [00:20<26:43, 10.24it/s]"
     ]
    },
    {
     "name": "stdout",
     "output_type": "stream",
     "text": [
      "x:torch.Size([128, 32, 512]), self.pe:torch.Size([32, 512])\n",
      "x:torch.Size([128, 32, 512]), self.pe:torch.Size([32, 512])\n",
      "x:torch.Size([128, 32, 512]), self.pe:torch.Size([32, 512])\n"
     ]
    },
    {
     "name": "stderr",
     "output_type": "stream",
     "text": [
      "  1%|▉                                                                              | 197/16602 [00:20<26:41, 10.24it/s]"
     ]
    },
    {
     "name": "stdout",
     "output_type": "stream",
     "text": [
      "x:torch.Size([128, 32, 512]), self.pe:torch.Size([32, 512])\n",
      "x:torch.Size([128, 32, 512]), self.pe:torch.Size([32, 512])\n",
      "x:torch.Size([128, 32, 512]), self.pe:torch.Size([32, 512])\n"
     ]
    },
    {
     "name": "stderr",
     "output_type": "stream",
     "text": [
      "  1%|▉                                                                              | 199/16602 [00:20<26:49, 10.19it/s]"
     ]
    },
    {
     "name": "stdout",
     "output_type": "stream",
     "text": [
      "x:torch.Size([128, 32, 512]), self.pe:torch.Size([32, 512])\n",
      "x:torch.Size([128, 32, 512]), self.pe:torch.Size([32, 512])\n",
      "x:torch.Size([128, 32, 512]), self.pe:torch.Size([32, 512])\n"
     ]
    },
    {
     "name": "stderr",
     "output_type": "stream",
     "text": [
      "  1%|▉                                                                              | 203/16602 [00:21<26:58, 10.13it/s]"
     ]
    },
    {
     "name": "stdout",
     "output_type": "stream",
     "text": [
      "x:torch.Size([128, 32, 512]), self.pe:torch.Size([32, 512])\n",
      "x:torch.Size([128, 32, 512]), self.pe:torch.Size([32, 512])\n",
      "x:torch.Size([128, 32, 512]), self.pe:torch.Size([32, 512])\n"
     ]
    },
    {
     "name": "stderr",
     "output_type": "stream",
     "text": [
      "  1%|▉                                                                              | 205/16602 [00:21<26:54, 10.16it/s]"
     ]
    },
    {
     "name": "stdout",
     "output_type": "stream",
     "text": [
      "x:torch.Size([128, 32, 512]), self.pe:torch.Size([32, 512])\n",
      "x:torch.Size([128, 32, 512]), self.pe:torch.Size([32, 512])\n",
      "x:torch.Size([128, 32, 512]), self.pe:torch.Size([32, 512])\n"
     ]
    },
    {
     "name": "stderr",
     "output_type": "stream",
     "text": [
      "  1%|▉                                                                              | 209/16602 [00:21<26:45, 10.21it/s]"
     ]
    },
    {
     "name": "stdout",
     "output_type": "stream",
     "text": [
      "x:torch.Size([128, 32, 512]), self.pe:torch.Size([32, 512])\n",
      "x:torch.Size([128, 32, 512]), self.pe:torch.Size([32, 512])\n",
      "x:torch.Size([128, 32, 512]), self.pe:torch.Size([32, 512])\n"
     ]
    },
    {
     "name": "stderr",
     "output_type": "stream",
     "text": [
      "  1%|█                                                                              | 211/16602 [00:22<26:46, 10.21it/s]"
     ]
    },
    {
     "name": "stdout",
     "output_type": "stream",
     "text": [
      "x:torch.Size([128, 32, 512]), self.pe:torch.Size([32, 512])\n",
      "x:torch.Size([128, 32, 512]), self.pe:torch.Size([32, 512])\n",
      "x:torch.Size([128, 32, 512]), self.pe:torch.Size([32, 512])\n"
     ]
    },
    {
     "name": "stderr",
     "output_type": "stream",
     "text": [
      "  1%|█                                                                              | 215/16602 [00:22<26:41, 10.23it/s]"
     ]
    },
    {
     "name": "stdout",
     "output_type": "stream",
     "text": [
      "x:torch.Size([128, 32, 512]), self.pe:torch.Size([32, 512])\n",
      "x:torch.Size([128, 32, 512]), self.pe:torch.Size([32, 512])\n",
      "x:torch.Size([128, 32, 512]), self.pe:torch.Size([32, 512])\n"
     ]
    },
    {
     "name": "stderr",
     "output_type": "stream",
     "text": [
      "  1%|█                                                                              | 217/16602 [00:22<26:38, 10.25it/s]"
     ]
    },
    {
     "name": "stdout",
     "output_type": "stream",
     "text": [
      "x:torch.Size([128, 32, 512]), self.pe:torch.Size([32, 512])\n",
      "x:torch.Size([128, 32, 512]), self.pe:torch.Size([32, 512])\n",
      "x:torch.Size([128, 32, 512]), self.pe:torch.Size([32, 512])\n"
     ]
    },
    {
     "name": "stderr",
     "output_type": "stream",
     "text": [
      "  1%|█                                                                              | 221/16602 [00:23<26:54, 10.15it/s]"
     ]
    },
    {
     "name": "stdout",
     "output_type": "stream",
     "text": [
      "x:torch.Size([128, 32, 512]), self.pe:torch.Size([32, 512])\n",
      "x:torch.Size([128, 32, 512]), self.pe:torch.Size([32, 512])\n",
      "x:torch.Size([128, 32, 512]), self.pe:torch.Size([32, 512])\n"
     ]
    },
    {
     "name": "stderr",
     "output_type": "stream",
     "text": [
      "  1%|█                                                                              | 223/16602 [00:23<27:05, 10.08it/s]"
     ]
    },
    {
     "name": "stdout",
     "output_type": "stream",
     "text": [
      "x:torch.Size([128, 32, 512]), self.pe:torch.Size([32, 512])\n",
      "x:torch.Size([128, 32, 512]), self.pe:torch.Size([32, 512])\n",
      "x:torch.Size([128, 32, 512]), self.pe:torch.Size([32, 512])\n"
     ]
    },
    {
     "name": "stderr",
     "output_type": "stream",
     "text": [
      "  1%|█                                                                              | 227/16602 [00:23<26:50, 10.17it/s]"
     ]
    },
    {
     "name": "stdout",
     "output_type": "stream",
     "text": [
      "x:torch.Size([128, 32, 512]), self.pe:torch.Size([32, 512])\n",
      "x:torch.Size([128, 32, 512]), self.pe:torch.Size([32, 512])\n",
      "x:torch.Size([128, 32, 512]), self.pe:torch.Size([32, 512])\n"
     ]
    },
    {
     "name": "stderr",
     "output_type": "stream",
     "text": [
      "  1%|█                                                                              | 229/16602 [00:23<26:44, 10.21it/s]"
     ]
    },
    {
     "name": "stdout",
     "output_type": "stream",
     "text": [
      "x:torch.Size([128, 32, 512]), self.pe:torch.Size([32, 512])\n",
      "x:torch.Size([128, 32, 512]), self.pe:torch.Size([32, 512])\n",
      "x:torch.Size([128, 32, 512]), self.pe:torch.Size([32, 512])\n"
     ]
    },
    {
     "name": "stderr",
     "output_type": "stream",
     "text": [
      "  1%|█                                                                              | 233/16602 [00:24<26:39, 10.23it/s]"
     ]
    },
    {
     "name": "stdout",
     "output_type": "stream",
     "text": [
      "x:torch.Size([128, 32, 512]), self.pe:torch.Size([32, 512])\n",
      "x:torch.Size([128, 32, 512]), self.pe:torch.Size([32, 512])\n",
      "x:torch.Size([128, 32, 512]), self.pe:torch.Size([32, 512])\n"
     ]
    },
    {
     "name": "stderr",
     "output_type": "stream",
     "text": [
      "  1%|█                                                                              | 235/16602 [00:24<26:41, 10.22it/s]"
     ]
    },
    {
     "name": "stdout",
     "output_type": "stream",
     "text": [
      "x:torch.Size([128, 32, 512]), self.pe:torch.Size([32, 512])\n",
      "x:torch.Size([128, 32, 512]), self.pe:torch.Size([32, 512])\n",
      "x:torch.Size([128, 32, 512]), self.pe:torch.Size([32, 512])\n"
     ]
    },
    {
     "name": "stderr",
     "output_type": "stream",
     "text": [
      "  1%|█▏                                                                             | 239/16602 [00:24<26:40, 10.22it/s]"
     ]
    },
    {
     "name": "stdout",
     "output_type": "stream",
     "text": [
      "x:torch.Size([128, 32, 512]), self.pe:torch.Size([32, 512])\n",
      "x:torch.Size([128, 32, 512]), self.pe:torch.Size([32, 512])\n",
      "x:torch.Size([128, 32, 512]), self.pe:torch.Size([32, 512])\n"
     ]
    },
    {
     "name": "stderr",
     "output_type": "stream",
     "text": [
      "  1%|█▏                                                                             | 241/16602 [00:24<26:51, 10.15it/s]"
     ]
    },
    {
     "name": "stdout",
     "output_type": "stream",
     "text": [
      "x:torch.Size([128, 32, 512]), self.pe:torch.Size([32, 512])\n",
      "x:torch.Size([128, 32, 512]), self.pe:torch.Size([32, 512])\n",
      "x:torch.Size([128, 32, 512]), self.pe:torch.Size([32, 512])\n"
     ]
    },
    {
     "name": "stderr",
     "output_type": "stream",
     "text": [
      "  1%|█▏                                                                             | 245/16602 [00:25<26:46, 10.18it/s]"
     ]
    },
    {
     "name": "stdout",
     "output_type": "stream",
     "text": [
      "x:torch.Size([128, 32, 512]), self.pe:torch.Size([32, 512])\n",
      "x:torch.Size([128, 32, 512]), self.pe:torch.Size([32, 512])\n",
      "x:torch.Size([128, 32, 512]), self.pe:torch.Size([32, 512])\n"
     ]
    },
    {
     "name": "stderr",
     "output_type": "stream",
     "text": [
      "  1%|█▏                                                                             | 247/16602 [00:25<26:44, 10.19it/s]"
     ]
    },
    {
     "name": "stdout",
     "output_type": "stream",
     "text": [
      "x:torch.Size([128, 32, 512]), self.pe:torch.Size([32, 512])\n",
      "x:torch.Size([128, 32, 512]), self.pe:torch.Size([32, 512])\n",
      "x:torch.Size([128, 32, 512]), self.pe:torch.Size([32, 512])\n"
     ]
    },
    {
     "name": "stderr",
     "output_type": "stream",
     "text": [
      "  2%|█▏                                                                             | 251/16602 [00:25<26:43, 10.20it/s]"
     ]
    },
    {
     "name": "stdout",
     "output_type": "stream",
     "text": [
      "x:torch.Size([128, 32, 512]), self.pe:torch.Size([32, 512])\n",
      "x:torch.Size([128, 32, 512]), self.pe:torch.Size([32, 512])\n",
      "x:torch.Size([128, 32, 512]), self.pe:torch.Size([32, 512])\n"
     ]
    },
    {
     "name": "stderr",
     "output_type": "stream",
     "text": [
      "  2%|█▏                                                                             | 253/16602 [00:26<26:41, 10.21it/s]"
     ]
    },
    {
     "name": "stdout",
     "output_type": "stream",
     "text": [
      "x:torch.Size([128, 32, 512]), self.pe:torch.Size([32, 512])\n",
      "x:torch.Size([128, 32, 512]), self.pe:torch.Size([32, 512])\n",
      "x:torch.Size([128, 32, 512]), self.pe:torch.Size([32, 512])\n"
     ]
    },
    {
     "name": "stderr",
     "output_type": "stream",
     "text": [
      "  2%|█▏                                                                             | 257/16602 [00:26<26:42, 10.20it/s]"
     ]
    },
    {
     "name": "stdout",
     "output_type": "stream",
     "text": [
      "x:torch.Size([128, 32, 512]), self.pe:torch.Size([32, 512])\n",
      "x:torch.Size([128, 32, 512]), self.pe:torch.Size([32, 512])\n",
      "x:torch.Size([128, 32, 512]), self.pe:torch.Size([32, 512])\n"
     ]
    },
    {
     "name": "stderr",
     "output_type": "stream",
     "text": [
      "  2%|█▏                                                                             | 259/16602 [00:26<26:54, 10.13it/s]"
     ]
    },
    {
     "name": "stdout",
     "output_type": "stream",
     "text": [
      "x:torch.Size([128, 32, 512]), self.pe:torch.Size([32, 512])\n",
      "x:torch.Size([128, 32, 512]), self.pe:torch.Size([32, 512])\n",
      "x:torch.Size([128, 32, 512]), self.pe:torch.Size([32, 512])\n"
     ]
    },
    {
     "name": "stderr",
     "output_type": "stream",
     "text": [
      "  2%|█▎                                                                             | 263/16602 [00:27<27:05, 10.05it/s]"
     ]
    },
    {
     "name": "stdout",
     "output_type": "stream",
     "text": [
      "x:torch.Size([128, 32, 512]), self.pe:torch.Size([32, 512])\n",
      "x:torch.Size([128, 32, 512]), self.pe:torch.Size([32, 512])\n",
      "x:torch.Size([128, 32, 512]), self.pe:torch.Size([32, 512])\n"
     ]
    },
    {
     "name": "stderr",
     "output_type": "stream",
     "text": [
      "  2%|█▎                                                                             | 265/16602 [00:27<27:04, 10.06it/s]"
     ]
    },
    {
     "name": "stdout",
     "output_type": "stream",
     "text": [
      "x:torch.Size([128, 32, 512]), self.pe:torch.Size([32, 512])\n",
      "x:torch.Size([128, 32, 512]), self.pe:torch.Size([32, 512])\n",
      "x:torch.Size([128, 32, 512]), self.pe:torch.Size([32, 512])\n"
     ]
    },
    {
     "name": "stderr",
     "output_type": "stream",
     "text": [
      "  2%|█▎                                                                             | 269/16602 [00:27<26:50, 10.14it/s]"
     ]
    },
    {
     "name": "stdout",
     "output_type": "stream",
     "text": [
      "x:torch.Size([128, 32, 512]), self.pe:torch.Size([32, 512])\n",
      "x:torch.Size([128, 32, 512]), self.pe:torch.Size([32, 512])\n",
      "x:torch.Size([128, 32, 512]), self.pe:torch.Size([32, 512])\n"
     ]
    },
    {
     "name": "stderr",
     "output_type": "stream",
     "text": [
      "  2%|█▎                                                                             | 271/16602 [00:27<26:50, 10.14it/s]"
     ]
    },
    {
     "name": "stdout",
     "output_type": "stream",
     "text": [
      "x:torch.Size([128, 32, 512]), self.pe:torch.Size([32, 512])\n",
      "x:torch.Size([128, 32, 512]), self.pe:torch.Size([32, 512])\n",
      "x:torch.Size([128, 32, 512]), self.pe:torch.Size([32, 512])\n"
     ]
    },
    {
     "name": "stderr",
     "output_type": "stream",
     "text": [
      "  2%|█▎                                                                             | 275/16602 [00:28<26:43, 10.18it/s]"
     ]
    },
    {
     "name": "stdout",
     "output_type": "stream",
     "text": [
      "x:torch.Size([128, 32, 512]), self.pe:torch.Size([32, 512])\n",
      "x:torch.Size([128, 32, 512]), self.pe:torch.Size([32, 512])\n",
      "x:torch.Size([128, 32, 512]), self.pe:torch.Size([32, 512])\n"
     ]
    },
    {
     "name": "stderr",
     "output_type": "stream",
     "text": [
      "  2%|█▎                                                                             | 277/16602 [00:28<26:38, 10.21it/s]"
     ]
    },
    {
     "name": "stdout",
     "output_type": "stream",
     "text": [
      "x:torch.Size([128, 32, 512]), self.pe:torch.Size([32, 512])\n",
      "x:torch.Size([128, 32, 512]), self.pe:torch.Size([32, 512])\n",
      "x:torch.Size([128, 32, 512]), self.pe:torch.Size([32, 512])\n"
     ]
    },
    {
     "name": "stderr",
     "output_type": "stream",
     "text": [
      "  2%|█▎                                                                             | 281/16602 [00:28<26:45, 10.16it/s]"
     ]
    },
    {
     "name": "stdout",
     "output_type": "stream",
     "text": [
      "x:torch.Size([128, 32, 512]), self.pe:torch.Size([32, 512])\n",
      "x:torch.Size([128, 32, 512]), self.pe:torch.Size([32, 512])\n",
      "x:torch.Size([128, 32, 512]), self.pe:torch.Size([32, 512])\n"
     ]
    },
    {
     "name": "stderr",
     "output_type": "stream",
     "text": [
      "  2%|█▎                                                                             | 283/16602 [00:29<26:51, 10.12it/s]"
     ]
    },
    {
     "name": "stdout",
     "output_type": "stream",
     "text": [
      "x:torch.Size([128, 32, 512]), self.pe:torch.Size([32, 512])\n",
      "x:torch.Size([128, 32, 512]), self.pe:torch.Size([32, 512])\n"
     ]
    },
    {
     "name": "stderr",
     "output_type": "stream",
     "text": [
      "  2%|█▎                                                                             | 285/16602 [00:29<27:01, 10.06it/s]"
     ]
    },
    {
     "name": "stdout",
     "output_type": "stream",
     "text": [
      "x:torch.Size([128, 32, 512]), self.pe:torch.Size([32, 512])\n",
      "x:torch.Size([128, 32, 512]), self.pe:torch.Size([32, 512])\n",
      "x:torch.Size([128, 32, 512]), self.pe:torch.Size([32, 512])\n"
     ]
    },
    {
     "name": "stderr",
     "output_type": "stream",
     "text": [
      "  2%|█▍                                                                             | 289/16602 [00:29<27:06, 10.03it/s]"
     ]
    },
    {
     "name": "stdout",
     "output_type": "stream",
     "text": [
      "x:torch.Size([128, 32, 512]), self.pe:torch.Size([32, 512])\n",
      "x:torch.Size([128, 32, 512]), self.pe:torch.Size([32, 512])\n",
      "x:torch.Size([128, 32, 512]), self.pe:torch.Size([32, 512])\n"
     ]
    },
    {
     "name": "stderr",
     "output_type": "stream",
     "text": [
      "  2%|█▍                                                                             | 291/16602 [00:29<27:09, 10.01it/s]"
     ]
    },
    {
     "name": "stdout",
     "output_type": "stream",
     "text": [
      "x:torch.Size([128, 32, 512]), self.pe:torch.Size([32, 512])\n",
      "x:torch.Size([128, 32, 512]), self.pe:torch.Size([32, 512])\n"
     ]
    },
    {
     "name": "stderr",
     "output_type": "stream",
     "text": [
      "  2%|█▍                                                                             | 294/16602 [00:30<27:19,  9.95it/s]"
     ]
    },
    {
     "name": "stdout",
     "output_type": "stream",
     "text": [
      "x:torch.Size([128, 32, 512]), self.pe:torch.Size([32, 512])\n",
      "x:torch.Size([128, 32, 512]), self.pe:torch.Size([32, 512])\n"
     ]
    },
    {
     "name": "stderr",
     "output_type": "stream",
     "text": [
      "  2%|█▍                                                                             | 296/16602 [00:30<27:18,  9.95it/s]"
     ]
    },
    {
     "name": "stdout",
     "output_type": "stream",
     "text": [
      "x:torch.Size([128, 32, 512]), self.pe:torch.Size([32, 512])\n",
      "x:torch.Size([128, 32, 512]), self.pe:torch.Size([32, 512])\n",
      "x:torch.Size([128, 32, 512]), self.pe:torch.Size([32, 512])\n"
     ]
    },
    {
     "name": "stderr",
     "output_type": "stream",
     "text": [
      "  2%|█▍                                                                             | 299/16602 [00:30<27:20,  9.94it/s]"
     ]
    },
    {
     "name": "stdout",
     "output_type": "stream",
     "text": [
      "x:torch.Size([128, 32, 512]), self.pe:torch.Size([32, 512])\n",
      "x:torch.Size([128, 32, 512]), self.pe:torch.Size([32, 512])\n"
     ]
    },
    {
     "name": "stderr",
     "output_type": "stream",
     "text": [
      "  2%|█▍                                                                             | 301/16602 [00:30<27:14,  9.97it/s]"
     ]
    },
    {
     "name": "stdout",
     "output_type": "stream",
     "text": [
      "x:torch.Size([128, 32, 512]), self.pe:torch.Size([32, 512])\n",
      "x:torch.Size([128, 32, 512]), self.pe:torch.Size([32, 512])\n",
      "x:torch.Size([128, 32, 512]), self.pe:torch.Size([32, 512])\n"
     ]
    },
    {
     "name": "stderr",
     "output_type": "stream",
     "text": [
      "  2%|█▍                                                                             | 303/16602 [00:31<27:14,  9.97it/s]"
     ]
    },
    {
     "name": "stdout",
     "output_type": "stream",
     "text": [
      "x:torch.Size([128, 32, 512]), self.pe:torch.Size([32, 512])\n",
      "x:torch.Size([128, 32, 512]), self.pe:torch.Size([32, 512])\n",
      "x:torch.Size([128, 32, 512]), self.pe:torch.Size([32, 512])\n"
     ]
    },
    {
     "name": "stderr",
     "output_type": "stream",
     "text": [
      "  2%|█▍                                                                             | 306/16602 [00:31<27:11,  9.99it/s]"
     ]
    },
    {
     "name": "stdout",
     "output_type": "stream",
     "text": [
      "x:torch.Size([128, 32, 512]), self.pe:torch.Size([32, 512])\n",
      "x:torch.Size([128, 32, 512]), self.pe:torch.Size([32, 512])\n",
      "x:torch.Size([128, 32, 512]), self.pe:torch.Size([32, 512])\n"
     ]
    },
    {
     "name": "stderr",
     "output_type": "stream",
     "text": [
      "  2%|█▍                                                                             | 310/16602 [00:31<27:08, 10.01it/s]"
     ]
    },
    {
     "name": "stdout",
     "output_type": "stream",
     "text": [
      "x:torch.Size([128, 32, 512]), self.pe:torch.Size([32, 512])\n",
      "x:torch.Size([128, 32, 512]), self.pe:torch.Size([32, 512])\n",
      "x:torch.Size([128, 32, 512]), self.pe:torch.Size([32, 512])\n"
     ]
    },
    {
     "name": "stderr",
     "output_type": "stream",
     "text": [
      "  2%|█▍                                                                             | 313/16602 [00:32<27:14,  9.96it/s]"
     ]
    },
    {
     "name": "stdout",
     "output_type": "stream",
     "text": [
      "x:torch.Size([128, 32, 512]), self.pe:torch.Size([32, 512])\n",
      "x:torch.Size([128, 32, 512]), self.pe:torch.Size([32, 512])\n"
     ]
    },
    {
     "name": "stderr",
     "output_type": "stream",
     "text": [
      "  2%|█▍                                                                             | 315/16602 [00:32<27:13,  9.97it/s]"
     ]
    },
    {
     "name": "stdout",
     "output_type": "stream",
     "text": [
      "x:torch.Size([128, 32, 512]), self.pe:torch.Size([32, 512])\n",
      "x:torch.Size([128, 32, 512]), self.pe:torch.Size([32, 512])\n",
      "x:torch.Size([128, 32, 512]), self.pe:torch.Size([32, 512])\n"
     ]
    },
    {
     "name": "stderr",
     "output_type": "stream",
     "text": [
      "  2%|█▌                                                                             | 318/16602 [00:32<27:13,  9.97it/s]"
     ]
    },
    {
     "name": "stdout",
     "output_type": "stream",
     "text": [
      "x:torch.Size([128, 32, 512]), self.pe:torch.Size([32, 512])\n",
      "x:torch.Size([128, 32, 512]), self.pe:torch.Size([32, 512])\n",
      "x:torch.Size([128, 32, 512]), self.pe:torch.Size([32, 512])\n"
     ]
    },
    {
     "name": "stderr",
     "output_type": "stream",
     "text": [
      "  2%|█▌                                                                             | 321/16602 [00:32<27:13,  9.97it/s]"
     ]
    },
    {
     "name": "stdout",
     "output_type": "stream",
     "text": [
      "x:torch.Size([128, 32, 512]), self.pe:torch.Size([32, 512])\n",
      "x:torch.Size([128, 32, 512]), self.pe:torch.Size([32, 512])\n"
     ]
    },
    {
     "name": "stderr",
     "output_type": "stream",
     "text": [
      "  2%|█▌                                                                             | 323/16602 [00:33<27:12,  9.97it/s]"
     ]
    },
    {
     "name": "stdout",
     "output_type": "stream",
     "text": [
      "x:torch.Size([128, 32, 512]), self.pe:torch.Size([32, 512])\n",
      "x:torch.Size([128, 32, 512]), self.pe:torch.Size([32, 512])\n",
      "x:torch.Size([128, 32, 512]), self.pe:torch.Size([32, 512])\n"
     ]
    },
    {
     "name": "stderr",
     "output_type": "stream",
     "text": [
      "  2%|█▌                                                                             | 326/16602 [00:33<26:58, 10.06it/s]"
     ]
    },
    {
     "name": "stdout",
     "output_type": "stream",
     "text": [
      "x:torch.Size([128, 32, 512]), self.pe:torch.Size([32, 512])\n",
      "x:torch.Size([128, 32, 512]), self.pe:torch.Size([32, 512])\n",
      "x:torch.Size([128, 32, 512]), self.pe:torch.Size([32, 512])\n"
     ]
    },
    {
     "name": "stderr",
     "output_type": "stream",
     "text": [
      "  2%|█▌                                                                             | 328/16602 [00:33<26:53, 10.09it/s]"
     ]
    },
    {
     "name": "stdout",
     "output_type": "stream",
     "text": [
      "x:torch.Size([128, 32, 512]), self.pe:torch.Size([32, 512])\n",
      "x:torch.Size([128, 32, 512]), self.pe:torch.Size([32, 512])\n",
      "x:torch.Size([128, 32, 512]), self.pe:torch.Size([32, 512])\n"
     ]
    },
    {
     "name": "stderr",
     "output_type": "stream",
     "text": [
      "  2%|█▌                                                                             | 332/16602 [00:34<26:40, 10.16it/s]"
     ]
    },
    {
     "name": "stdout",
     "output_type": "stream",
     "text": [
      "x:torch.Size([128, 32, 512]), self.pe:torch.Size([32, 512])\n",
      "x:torch.Size([128, 32, 512]), self.pe:torch.Size([32, 512])\n",
      "x:torch.Size([128, 32, 512]), self.pe:torch.Size([32, 512])\n"
     ]
    },
    {
     "name": "stderr",
     "output_type": "stream",
     "text": [
      "  2%|█▌                                                                             | 334/16602 [00:34<26:34, 10.20it/s]"
     ]
    },
    {
     "name": "stdout",
     "output_type": "stream",
     "text": [
      "x:torch.Size([128, 32, 512]), self.pe:torch.Size([32, 512])\n",
      "x:torch.Size([128, 32, 512]), self.pe:torch.Size([32, 512])\n",
      "x:torch.Size([128, 32, 512]), self.pe:torch.Size([32, 512])\n"
     ]
    },
    {
     "name": "stderr",
     "output_type": "stream",
     "text": [
      "  2%|█▌                                                                             | 338/16602 [00:34<26:28, 10.24it/s]"
     ]
    },
    {
     "name": "stdout",
     "output_type": "stream",
     "text": [
      "x:torch.Size([128, 32, 512]), self.pe:torch.Size([32, 512])\n",
      "x:torch.Size([128, 32, 512]), self.pe:torch.Size([32, 512])\n",
      "x:torch.Size([128, 32, 512]), self.pe:torch.Size([32, 512])\n"
     ]
    },
    {
     "name": "stderr",
     "output_type": "stream",
     "text": [
      "  2%|█▌                                                                             | 340/16602 [00:34<26:27, 10.25it/s]"
     ]
    },
    {
     "name": "stdout",
     "output_type": "stream",
     "text": [
      "x:torch.Size([128, 32, 512]), self.pe:torch.Size([32, 512])\n",
      "x:torch.Size([128, 32, 512]), self.pe:torch.Size([32, 512])\n",
      "x:torch.Size([128, 32, 512]), self.pe:torch.Size([32, 512])\n"
     ]
    },
    {
     "name": "stderr",
     "output_type": "stream",
     "text": [
      "  2%|█▋                                                                             | 344/16602 [00:35<26:28, 10.24it/s]"
     ]
    },
    {
     "name": "stdout",
     "output_type": "stream",
     "text": [
      "x:torch.Size([128, 32, 512]), self.pe:torch.Size([32, 512])\n",
      "x:torch.Size([128, 32, 512]), self.pe:torch.Size([32, 512])\n",
      "x:torch.Size([128, 32, 512]), self.pe:torch.Size([32, 512])\n"
     ]
    },
    {
     "name": "stderr",
     "output_type": "stream",
     "text": [
      "  2%|█▋                                                                             | 346/16602 [00:35<26:41, 10.15it/s]"
     ]
    },
    {
     "name": "stdout",
     "output_type": "stream",
     "text": [
      "x:torch.Size([128, 32, 512]), self.pe:torch.Size([32, 512])\n",
      "x:torch.Size([128, 32, 512]), self.pe:torch.Size([32, 512])\n",
      "x:torch.Size([128, 32, 512]), self.pe:torch.Size([32, 512])\n"
     ]
    },
    {
     "name": "stderr",
     "output_type": "stream",
     "text": [
      "  2%|█▋                                                                             | 350/16602 [00:35<26:55, 10.06it/s]"
     ]
    },
    {
     "name": "stdout",
     "output_type": "stream",
     "text": [
      "x:torch.Size([128, 32, 512]), self.pe:torch.Size([32, 512])\n",
      "x:torch.Size([128, 32, 512]), self.pe:torch.Size([32, 512])\n",
      "x:torch.Size([128, 32, 512]), self.pe:torch.Size([32, 512])\n"
     ]
    },
    {
     "name": "stderr",
     "output_type": "stream",
     "text": [
      "  2%|█▋                                                                             | 352/16602 [00:35<27:03, 10.01it/s]"
     ]
    },
    {
     "name": "stdout",
     "output_type": "stream",
     "text": [
      "x:torch.Size([128, 32, 512]), self.pe:torch.Size([32, 512])\n",
      "x:torch.Size([128, 32, 512]), self.pe:torch.Size([32, 512])\n",
      "x:torch.Size([128, 32, 512]), self.pe:torch.Size([32, 512])\n"
     ]
    },
    {
     "name": "stderr",
     "output_type": "stream",
     "text": [
      "  2%|█▋                                                                             | 356/16602 [00:36<27:06,  9.99it/s]"
     ]
    },
    {
     "name": "stdout",
     "output_type": "stream",
     "text": [
      "x:torch.Size([128, 32, 512]), self.pe:torch.Size([32, 512])\n",
      "x:torch.Size([128, 32, 512]), self.pe:torch.Size([32, 512])\n",
      "x:torch.Size([128, 32, 512]), self.pe:torch.Size([32, 512])\n"
     ]
    },
    {
     "name": "stderr",
     "output_type": "stream",
     "text": [
      "  2%|█▋                                                                             | 358/16602 [00:36<27:07,  9.98it/s]"
     ]
    },
    {
     "name": "stdout",
     "output_type": "stream",
     "text": [
      "x:torch.Size([128, 32, 512]), self.pe:torch.Size([32, 512])\n",
      "x:torch.Size([128, 32, 512]), self.pe:torch.Size([32, 512])\n",
      "x:torch.Size([128, 32, 512]), self.pe:torch.Size([32, 512])\n"
     ]
    },
    {
     "name": "stderr",
     "output_type": "stream",
     "text": [
      "  2%|█▋                                                                             | 362/16602 [00:36<26:58, 10.04it/s]"
     ]
    },
    {
     "name": "stdout",
     "output_type": "stream",
     "text": [
      "x:torch.Size([128, 32, 512]), self.pe:torch.Size([32, 512])\n",
      "x:torch.Size([128, 32, 512]), self.pe:torch.Size([32, 512])\n",
      "x:torch.Size([128, 32, 512]), self.pe:torch.Size([32, 512])\n"
     ]
    },
    {
     "name": "stderr",
     "output_type": "stream",
     "text": [
      "  2%|█▋                                                                             | 364/16602 [00:37<27:00, 10.02it/s]"
     ]
    },
    {
     "name": "stdout",
     "output_type": "stream",
     "text": [
      "x:torch.Size([128, 32, 512]), self.pe:torch.Size([32, 512])\n",
      "x:torch.Size([128, 32, 512]), self.pe:torch.Size([32, 512])\n",
      "x:torch.Size([128, 32, 512]), self.pe:torch.Size([32, 512])\n"
     ]
    },
    {
     "name": "stderr",
     "output_type": "stream",
     "text": [
      "  2%|█▊                                                                             | 368/16602 [00:37<27:05,  9.99it/s]"
     ]
    },
    {
     "name": "stdout",
     "output_type": "stream",
     "text": [
      "x:torch.Size([128, 32, 512]), self.pe:torch.Size([32, 512])\n",
      "x:torch.Size([128, 32, 512]), self.pe:torch.Size([32, 512])\n",
      "x:torch.Size([128, 32, 512]), self.pe:torch.Size([32, 512])\n"
     ]
    },
    {
     "name": "stderr",
     "output_type": "stream",
     "text": [
      "  2%|█▊                                                                             | 371/16602 [00:37<26:59, 10.02it/s]"
     ]
    },
    {
     "name": "stdout",
     "output_type": "stream",
     "text": [
      "x:torch.Size([128, 32, 512]), self.pe:torch.Size([32, 512])\n",
      "x:torch.Size([128, 32, 512]), self.pe:torch.Size([32, 512])\n",
      "x:torch.Size([128, 32, 512]), self.pe:torch.Size([32, 512])\n"
     ]
    },
    {
     "name": "stderr",
     "output_type": "stream",
     "text": [
      "  2%|█▊                                                                             | 374/16602 [00:38<27:05,  9.98it/s]"
     ]
    },
    {
     "name": "stdout",
     "output_type": "stream",
     "text": [
      "x:torch.Size([128, 32, 512]), self.pe:torch.Size([32, 512])\n",
      "x:torch.Size([128, 32, 512]), self.pe:torch.Size([32, 512])\n"
     ]
    },
    {
     "name": "stderr",
     "output_type": "stream",
     "text": [
      "  2%|█▊                                                                             | 376/16602 [00:38<27:09,  9.96it/s]"
     ]
    },
    {
     "name": "stdout",
     "output_type": "stream",
     "text": [
      "x:torch.Size([128, 32, 512]), self.pe:torch.Size([32, 512])\n",
      "x:torch.Size([128, 32, 512]), self.pe:torch.Size([32, 512])\n",
      "x:torch.Size([128, 32, 512]), self.pe:torch.Size([32, 512])\n"
     ]
    },
    {
     "name": "stderr",
     "output_type": "stream",
     "text": [
      "  2%|█▊                                                                             | 379/16602 [00:38<27:10,  9.95it/s]"
     ]
    },
    {
     "name": "stdout",
     "output_type": "stream",
     "text": [
      "x:torch.Size([128, 32, 512]), self.pe:torch.Size([32, 512])\n",
      "x:torch.Size([128, 32, 512]), self.pe:torch.Size([32, 512])\n"
     ]
    },
    {
     "name": "stderr",
     "output_type": "stream",
     "text": [
      "  2%|█▊                                                                             | 381/16602 [00:38<27:11,  9.94it/s]"
     ]
    },
    {
     "name": "stdout",
     "output_type": "stream",
     "text": [
      "x:torch.Size([128, 32, 512]), self.pe:torch.Size([32, 512])\n",
      "x:torch.Size([128, 32, 512]), self.pe:torch.Size([32, 512])\n",
      "x:torch.Size([128, 32, 512]), self.pe:torch.Size([32, 512])\n"
     ]
    },
    {
     "name": "stderr",
     "output_type": "stream",
     "text": [
      "  2%|█▊                                                                             | 383/16602 [00:39<27:08,  9.96it/s]"
     ]
    },
    {
     "name": "stdout",
     "output_type": "stream",
     "text": [
      "x:torch.Size([128, 32, 512]), self.pe:torch.Size([32, 512])\n",
      "x:torch.Size([128, 32, 512]), self.pe:torch.Size([32, 512])\n",
      "x:torch.Size([128, 32, 512]), self.pe:torch.Size([32, 512])\n"
     ]
    },
    {
     "name": "stderr",
     "output_type": "stream",
     "text": [
      "  2%|█▊                                                                             | 386/16602 [00:39<27:06,  9.97it/s]"
     ]
    },
    {
     "name": "stdout",
     "output_type": "stream",
     "text": [
      "x:torch.Size([128, 32, 512]), self.pe:torch.Size([32, 512])\n",
      "x:torch.Size([128, 32, 512]), self.pe:torch.Size([32, 512])\n",
      "x:torch.Size([128, 32, 512]), self.pe:torch.Size([32, 512])\n"
     ]
    },
    {
     "name": "stderr",
     "output_type": "stream",
     "text": [
      "  2%|█▊                                                                             | 390/16602 [00:39<27:11,  9.94it/s]"
     ]
    },
    {
     "name": "stdout",
     "output_type": "stream",
     "text": [
      "x:torch.Size([128, 32, 512]), self.pe:torch.Size([32, 512])\n",
      "x:torch.Size([128, 32, 512]), self.pe:torch.Size([32, 512])\n"
     ]
    },
    {
     "name": "stderr",
     "output_type": "stream",
     "text": [
      "  2%|█▊                                                                             | 392/16602 [00:39<27:01, 10.00it/s]"
     ]
    },
    {
     "name": "stdout",
     "output_type": "stream",
     "text": [
      "x:torch.Size([128, 32, 512]), self.pe:torch.Size([32, 512])\n",
      "x:torch.Size([128, 32, 512]), self.pe:torch.Size([32, 512])\n",
      "x:torch.Size([128, 32, 512]), self.pe:torch.Size([32, 512])\n"
     ]
    },
    {
     "name": "stderr",
     "output_type": "stream",
     "text": [
      "  2%|█▊                                                                             | 394/16602 [00:40<26:55, 10.03it/s]"
     ]
    },
    {
     "name": "stdout",
     "output_type": "stream",
     "text": [
      "x:torch.Size([128, 32, 512]), self.pe:torch.Size([32, 512])\n",
      "x:torch.Size([128, 32, 512]), self.pe:torch.Size([32, 512])\n",
      "x:torch.Size([128, 32, 512]), self.pe:torch.Size([32, 512])\n"
     ]
    },
    {
     "name": "stderr",
     "output_type": "stream",
     "text": [
      "  2%|█▉                                                                             | 398/16602 [00:40<26:51, 10.05it/s]"
     ]
    },
    {
     "name": "stdout",
     "output_type": "stream",
     "text": [
      "x:torch.Size([128, 32, 512]), self.pe:torch.Size([32, 512])\n",
      "x:torch.Size([128, 32, 512]), self.pe:torch.Size([32, 512])\n",
      "x:torch.Size([128, 32, 512]), self.pe:torch.Size([32, 512])\n"
     ]
    },
    {
     "name": "stderr",
     "output_type": "stream",
     "text": [
      "  2%|█▉                                                                             | 400/16602 [00:40<26:51, 10.05it/s]"
     ]
    },
    {
     "name": "stdout",
     "output_type": "stream",
     "text": [
      "x:torch.Size([128, 32, 512]), self.pe:torch.Size([32, 512])\n",
      "x:torch.Size([128, 32, 512]), self.pe:torch.Size([32, 512])\n",
      "x:torch.Size([128, 32, 512]), self.pe:torch.Size([32, 512])\n"
     ]
    },
    {
     "name": "stderr",
     "output_type": "stream",
     "text": [
      "  2%|█▉                                                                             | 404/16602 [00:41<26:49, 10.06it/s]"
     ]
    },
    {
     "name": "stdout",
     "output_type": "stream",
     "text": [
      "x:torch.Size([128, 32, 512]), self.pe:torch.Size([32, 512])\n",
      "x:torch.Size([128, 32, 512]), self.pe:torch.Size([32, 512])\n",
      "x:torch.Size([128, 32, 512]), self.pe:torch.Size([32, 512])\n"
     ]
    },
    {
     "name": "stderr",
     "output_type": "stream",
     "text": [
      "  2%|█▉                                                                             | 406/16602 [00:41<26:50, 10.05it/s]"
     ]
    },
    {
     "name": "stdout",
     "output_type": "stream",
     "text": [
      "x:torch.Size([128, 32, 512]), self.pe:torch.Size([32, 512])\n",
      "x:torch.Size([128, 32, 512]), self.pe:torch.Size([32, 512])\n",
      "x:torch.Size([128, 32, 512]), self.pe:torch.Size([32, 512])\n"
     ]
    },
    {
     "name": "stderr",
     "output_type": "stream",
     "text": [
      "  2%|█▉                                                                             | 410/16602 [00:41<26:50, 10.06it/s]"
     ]
    },
    {
     "name": "stdout",
     "output_type": "stream",
     "text": [
      "x:torch.Size([128, 32, 512]), self.pe:torch.Size([32, 512])\n",
      "x:torch.Size([128, 32, 512]), self.pe:torch.Size([32, 512])\n",
      "x:torch.Size([128, 32, 512]), self.pe:torch.Size([32, 512])\n"
     ]
    },
    {
     "name": "stderr",
     "output_type": "stream",
     "text": [
      "  2%|█▉                                                                             | 412/16602 [00:41<26:50, 10.05it/s]"
     ]
    },
    {
     "name": "stdout",
     "output_type": "stream",
     "text": [
      "x:torch.Size([128, 32, 512]), self.pe:torch.Size([32, 512])\n",
      "x:torch.Size([128, 32, 512]), self.pe:torch.Size([32, 512])\n",
      "x:torch.Size([128, 32, 512]), self.pe:torch.Size([32, 512])\n"
     ]
    },
    {
     "name": "stderr",
     "output_type": "stream",
     "text": [
      "  3%|█▉                                                                             | 416/16602 [00:42<26:52, 10.04it/s]"
     ]
    },
    {
     "name": "stdout",
     "output_type": "stream",
     "text": [
      "x:torch.Size([128, 32, 512]), self.pe:torch.Size([32, 512])\n",
      "x:torch.Size([128, 32, 512]), self.pe:torch.Size([32, 512])\n",
      "x:torch.Size([128, 32, 512]), self.pe:torch.Size([32, 512])\n"
     ]
    },
    {
     "name": "stderr",
     "output_type": "stream",
     "text": [
      "  3%|█▉                                                                             | 418/16602 [00:42<26:54, 10.03it/s]"
     ]
    },
    {
     "name": "stdout",
     "output_type": "stream",
     "text": [
      "x:torch.Size([128, 32, 512]), self.pe:torch.Size([32, 512])\n",
      "x:torch.Size([128, 32, 512]), self.pe:torch.Size([32, 512])\n",
      "x:torch.Size([128, 32, 512]), self.pe:torch.Size([32, 512])\n"
     ]
    },
    {
     "name": "stderr",
     "output_type": "stream",
     "text": [
      "  3%|██                                                                             | 422/16602 [00:42<26:50, 10.04it/s]"
     ]
    },
    {
     "name": "stdout",
     "output_type": "stream",
     "text": [
      "x:torch.Size([128, 32, 512]), self.pe:torch.Size([32, 512])\n",
      "x:torch.Size([128, 32, 512]), self.pe:torch.Size([32, 512])\n",
      "x:torch.Size([128, 32, 512]), self.pe:torch.Size([32, 512])\n"
     ]
    },
    {
     "name": "stderr",
     "output_type": "stream",
     "text": [
      "  3%|██                                                                             | 424/16602 [00:43<26:50, 10.05it/s]"
     ]
    },
    {
     "name": "stdout",
     "output_type": "stream",
     "text": [
      "x:torch.Size([128, 32, 512]), self.pe:torch.Size([32, 512])\n",
      "x:torch.Size([128, 32, 512]), self.pe:torch.Size([32, 512])\n",
      "x:torch.Size([128, 32, 512]), self.pe:torch.Size([32, 512])\n"
     ]
    },
    {
     "name": "stderr",
     "output_type": "stream",
     "text": [
      "  3%|██                                                                             | 428/16602 [00:43<26:37, 10.13it/s]"
     ]
    },
    {
     "name": "stdout",
     "output_type": "stream",
     "text": [
      "x:torch.Size([128, 32, 512]), self.pe:torch.Size([32, 512])\n",
      "x:torch.Size([128, 32, 512]), self.pe:torch.Size([32, 512])\n",
      "x:torch.Size([128, 32, 512]), self.pe:torch.Size([32, 512])\n"
     ]
    },
    {
     "name": "stderr",
     "output_type": "stream",
     "text": [
      "  3%|██                                                                             | 430/16602 [00:43<26:29, 10.17it/s]"
     ]
    },
    {
     "name": "stdout",
     "output_type": "stream",
     "text": [
      "x:torch.Size([128, 32, 512]), self.pe:torch.Size([32, 512])\n",
      "x:torch.Size([128, 32, 512]), self.pe:torch.Size([32, 512])\n",
      "x:torch.Size([128, 32, 512]), self.pe:torch.Size([32, 512])\n"
     ]
    },
    {
     "name": "stderr",
     "output_type": "stream",
     "text": [
      "  3%|██                                                                             | 434/16602 [00:44<26:18, 10.24it/s]"
     ]
    },
    {
     "name": "stdout",
     "output_type": "stream",
     "text": [
      "x:torch.Size([128, 32, 512]), self.pe:torch.Size([32, 512])\n",
      "x:torch.Size([128, 32, 512]), self.pe:torch.Size([32, 512])\n",
      "x:torch.Size([128, 32, 512]), self.pe:torch.Size([32, 512])\n"
     ]
    },
    {
     "name": "stderr",
     "output_type": "stream",
     "text": [
      "  3%|██                                                                             | 436/16602 [00:44<26:17, 10.25it/s]"
     ]
    },
    {
     "name": "stdout",
     "output_type": "stream",
     "text": [
      "x:torch.Size([128, 32, 512]), self.pe:torch.Size([32, 512])\n",
      "x:torch.Size([128, 32, 512]), self.pe:torch.Size([32, 512])\n",
      "x:torch.Size([128, 32, 512]), self.pe:torch.Size([32, 512])\n"
     ]
    },
    {
     "name": "stderr",
     "output_type": "stream",
     "text": [
      "  3%|██                                                                             | 440/16602 [00:44<26:13, 10.27it/s]"
     ]
    },
    {
     "name": "stdout",
     "output_type": "stream",
     "text": [
      "x:torch.Size([128, 32, 512]), self.pe:torch.Size([32, 512])\n",
      "x:torch.Size([128, 32, 512]), self.pe:torch.Size([32, 512])\n",
      "x:torch.Size([128, 32, 512]), self.pe:torch.Size([32, 512])\n"
     ]
    },
    {
     "name": "stderr",
     "output_type": "stream",
     "text": [
      "  3%|██                                                                             | 442/16602 [00:44<26:18, 10.24it/s]"
     ]
    },
    {
     "name": "stdout",
     "output_type": "stream",
     "text": [
      "x:torch.Size([128, 32, 512]), self.pe:torch.Size([32, 512])\n",
      "x:torch.Size([128, 32, 512]), self.pe:torch.Size([32, 512])\n",
      "x:torch.Size([128, 32, 512]), self.pe:torch.Size([32, 512])\n"
     ]
    },
    {
     "name": "stderr",
     "output_type": "stream",
     "text": [
      "  3%|██                                                                             | 446/16602 [00:45<26:34, 10.13it/s]"
     ]
    },
    {
     "name": "stdout",
     "output_type": "stream",
     "text": [
      "x:torch.Size([128, 32, 512]), self.pe:torch.Size([32, 512])\n",
      "x:torch.Size([128, 32, 512]), self.pe:torch.Size([32, 512])\n",
      "x:torch.Size([128, 32, 512]), self.pe:torch.Size([32, 512])\n"
     ]
    },
    {
     "name": "stderr",
     "output_type": "stream",
     "text": [
      "  3%|██▏                                                                            | 448/16602 [00:45<26:28, 10.17it/s]"
     ]
    },
    {
     "name": "stdout",
     "output_type": "stream",
     "text": [
      "x:torch.Size([128, 32, 512]), self.pe:torch.Size([32, 512])\n",
      "x:torch.Size([128, 32, 512]), self.pe:torch.Size([32, 512])\n",
      "x:torch.Size([128, 32, 512]), self.pe:torch.Size([32, 512])\n"
     ]
    },
    {
     "name": "stderr",
     "output_type": "stream",
     "text": [
      "  3%|██▏                                                                            | 452/16602 [00:45<26:17, 10.24it/s]"
     ]
    },
    {
     "name": "stdout",
     "output_type": "stream",
     "text": [
      "x:torch.Size([128, 32, 512]), self.pe:torch.Size([32, 512])\n",
      "x:torch.Size([128, 32, 512]), self.pe:torch.Size([32, 512])\n",
      "x:torch.Size([128, 32, 512]), self.pe:torch.Size([32, 512])\n"
     ]
    },
    {
     "name": "stderr",
     "output_type": "stream",
     "text": [
      "  3%|██▏                                                                            | 454/16602 [00:46<26:14, 10.25it/s]"
     ]
    },
    {
     "name": "stdout",
     "output_type": "stream",
     "text": [
      "x:torch.Size([128, 32, 512]), self.pe:torch.Size([32, 512])\n",
      "x:torch.Size([128, 32, 512]), self.pe:torch.Size([32, 512])\n",
      "x:torch.Size([128, 32, 512]), self.pe:torch.Size([32, 512])\n"
     ]
    },
    {
     "name": "stderr",
     "output_type": "stream",
     "text": [
      "  3%|██▏                                                                            | 458/16602 [00:46<26:11, 10.27it/s]"
     ]
    },
    {
     "name": "stdout",
     "output_type": "stream",
     "text": [
      "x:torch.Size([128, 32, 512]), self.pe:torch.Size([32, 512])\n",
      "x:torch.Size([128, 32, 512]), self.pe:torch.Size([32, 512])\n",
      "x:torch.Size([128, 32, 512]), self.pe:torch.Size([32, 512])\n"
     ]
    },
    {
     "name": "stderr",
     "output_type": "stream",
     "text": [
      "  3%|██▏                                                                            | 460/16602 [00:46<26:12, 10.27it/s]"
     ]
    },
    {
     "name": "stdout",
     "output_type": "stream",
     "text": [
      "x:torch.Size([128, 32, 512]), self.pe:torch.Size([32, 512])\n",
      "x:torch.Size([128, 32, 512]), self.pe:torch.Size([32, 512])\n",
      "x:torch.Size([128, 32, 512]), self.pe:torch.Size([32, 512])\n"
     ]
    },
    {
     "name": "stderr",
     "output_type": "stream",
     "text": [
      "  3%|██▏                                                                            | 464/16602 [00:47<26:22, 10.20it/s]"
     ]
    },
    {
     "name": "stdout",
     "output_type": "stream",
     "text": [
      "x:torch.Size([128, 32, 512]), self.pe:torch.Size([32, 512])\n",
      "x:torch.Size([128, 32, 512]), self.pe:torch.Size([32, 512])\n",
      "x:torch.Size([128, 32, 512]), self.pe:torch.Size([32, 512])\n"
     ]
    },
    {
     "name": "stderr",
     "output_type": "stream",
     "text": [
      "  3%|██▏                                                                            | 466/16602 [00:47<26:29, 10.15it/s]"
     ]
    },
    {
     "name": "stdout",
     "output_type": "stream",
     "text": [
      "x:torch.Size([128, 32, 512]), self.pe:torch.Size([32, 512])\n",
      "x:torch.Size([128, 32, 512]), self.pe:torch.Size([32, 512])\n",
      "x:torch.Size([128, 32, 512]), self.pe:torch.Size([32, 512])\n"
     ]
    },
    {
     "name": "stderr",
     "output_type": "stream",
     "text": [
      "  3%|██▏                                                                            | 470/16602 [00:47<26:39, 10.09it/s]"
     ]
    },
    {
     "name": "stdout",
     "output_type": "stream",
     "text": [
      "x:torch.Size([128, 32, 512]), self.pe:torch.Size([32, 512])\n",
      "x:torch.Size([128, 32, 512]), self.pe:torch.Size([32, 512])\n",
      "x:torch.Size([128, 32, 512]), self.pe:torch.Size([32, 512])\n"
     ]
    },
    {
     "name": "stderr",
     "output_type": "stream",
     "text": [
      "  3%|██▏                                                                            | 472/16602 [00:47<26:44, 10.05it/s]"
     ]
    },
    {
     "name": "stdout",
     "output_type": "stream",
     "text": [
      "x:torch.Size([128, 32, 512]), self.pe:torch.Size([32, 512])\n",
      "x:torch.Size([128, 32, 512]), self.pe:torch.Size([32, 512])\n",
      "x:torch.Size([128, 32, 512]), self.pe:torch.Size([32, 512])\n"
     ]
    },
    {
     "name": "stderr",
     "output_type": "stream",
     "text": [
      "  3%|██▎                                                                            | 476/16602 [00:48<26:55,  9.98it/s]"
     ]
    },
    {
     "name": "stdout",
     "output_type": "stream",
     "text": [
      "x:torch.Size([128, 32, 512]), self.pe:torch.Size([32, 512])\n",
      "x:torch.Size([128, 32, 512]), self.pe:torch.Size([32, 512])\n"
     ]
    },
    {
     "name": "stderr",
     "output_type": "stream",
     "text": [
      "  3%|██▎                                                                            | 477/16602 [00:48<26:58,  9.96it/s]"
     ]
    },
    {
     "name": "stdout",
     "output_type": "stream",
     "text": [
      "x:torch.Size([128, 32, 512]), self.pe:torch.Size([32, 512])\n",
      "x:torch.Size([128, 32, 512]), self.pe:torch.Size([32, 512])\n",
      "x:torch.Size([128, 32, 512]), self.pe:torch.Size([32, 512])\n"
     ]
    },
    {
     "name": "stderr",
     "output_type": "stream",
     "text": [
      "  3%|██▎                                                                            | 481/16602 [00:48<26:35, 10.11it/s]"
     ]
    },
    {
     "name": "stdout",
     "output_type": "stream",
     "text": [
      "x:torch.Size([128, 32, 512]), self.pe:torch.Size([32, 512])\n",
      "x:torch.Size([128, 32, 512]), self.pe:torch.Size([32, 512])\n",
      "x:torch.Size([128, 32, 512]), self.pe:torch.Size([32, 512])\n"
     ]
    },
    {
     "name": "stderr",
     "output_type": "stream",
     "text": [
      "  3%|██▎                                                                            | 483/16602 [00:48<26:29, 10.14it/s]"
     ]
    },
    {
     "name": "stdout",
     "output_type": "stream",
     "text": [
      "x:torch.Size([128, 32, 512]), self.pe:torch.Size([32, 512])\n",
      "x:torch.Size([128, 32, 512]), self.pe:torch.Size([32, 512])\n",
      "x:torch.Size([128, 32, 512]), self.pe:torch.Size([32, 512])\n"
     ]
    },
    {
     "name": "stderr",
     "output_type": "stream",
     "text": [
      "  3%|██▎                                                                            | 487/16602 [00:49<26:21, 10.19it/s]"
     ]
    },
    {
     "name": "stdout",
     "output_type": "stream",
     "text": [
      "x:torch.Size([128, 32, 512]), self.pe:torch.Size([32, 512])\n",
      "x:torch.Size([128, 32, 512]), self.pe:torch.Size([32, 512])\n",
      "x:torch.Size([128, 32, 512]), self.pe:torch.Size([32, 512])\n"
     ]
    },
    {
     "name": "stderr",
     "output_type": "stream",
     "text": [
      "  3%|██▎                                                                            | 489/16602 [00:49<26:20, 10.20it/s]"
     ]
    },
    {
     "name": "stdout",
     "output_type": "stream",
     "text": [
      "x:torch.Size([128, 32, 512]), self.pe:torch.Size([32, 512])\n",
      "x:torch.Size([128, 32, 512]), self.pe:torch.Size([32, 512])\n",
      "x:torch.Size([128, 32, 512]), self.pe:torch.Size([32, 512])\n"
     ]
    },
    {
     "name": "stderr",
     "output_type": "stream",
     "text": [
      "  3%|██▎                                                                            | 493/16602 [00:49<26:21, 10.19it/s]"
     ]
    },
    {
     "name": "stdout",
     "output_type": "stream",
     "text": [
      "x:torch.Size([128, 32, 512]), self.pe:torch.Size([32, 512])\n",
      "x:torch.Size([128, 32, 512]), self.pe:torch.Size([32, 512])\n",
      "x:torch.Size([128, 32, 512]), self.pe:torch.Size([32, 512])\n"
     ]
    },
    {
     "name": "stderr",
     "output_type": "stream",
     "text": [
      "  3%|██▎                                                                            | 495/16602 [00:50<26:18, 10.20it/s]"
     ]
    },
    {
     "name": "stdout",
     "output_type": "stream",
     "text": [
      "x:torch.Size([128, 32, 512]), self.pe:torch.Size([32, 512])\n",
      "x:torch.Size([128, 32, 512]), self.pe:torch.Size([32, 512])\n",
      "x:torch.Size([128, 32, 512]), self.pe:torch.Size([32, 512])\n"
     ]
    },
    {
     "name": "stderr",
     "output_type": "stream",
     "text": [
      "  3%|██▎                                                                            | 499/16602 [00:50<26:19, 10.19it/s]"
     ]
    },
    {
     "name": "stdout",
     "output_type": "stream",
     "text": [
      "x:torch.Size([128, 32, 512]), self.pe:torch.Size([32, 512])\n",
      "x:torch.Size([128, 32, 512]), self.pe:torch.Size([32, 512])\n",
      "x:torch.Size([128, 32, 512]), self.pe:torch.Size([32, 512])\n"
     ]
    },
    {
     "name": "stderr",
     "output_type": "stream",
     "text": [
      "  3%|██▍                                                                            | 501/16602 [00:50<26:23, 10.17it/s]"
     ]
    },
    {
     "name": "stdout",
     "output_type": "stream",
     "text": [
      "x:torch.Size([128, 32, 512]), self.pe:torch.Size([32, 512])\n",
      "x:torch.Size([128, 32, 512]), self.pe:torch.Size([32, 512])\n",
      "x:torch.Size([128, 32, 512]), self.pe:torch.Size([32, 512])\n"
     ]
    },
    {
     "name": "stderr",
     "output_type": "stream",
     "text": [
      "  3%|██▍                                                                            | 505/16602 [00:51<26:35, 10.09it/s]"
     ]
    },
    {
     "name": "stdout",
     "output_type": "stream",
     "text": [
      "x:torch.Size([128, 32, 512]), self.pe:torch.Size([32, 512])\n",
      "x:torch.Size([128, 32, 512]), self.pe:torch.Size([32, 512])\n",
      "x:torch.Size([128, 32, 512]), self.pe:torch.Size([32, 512])\n"
     ]
    },
    {
     "name": "stderr",
     "output_type": "stream",
     "text": [
      "  3%|██▍                                                                            | 507/16602 [00:51<26:41, 10.05it/s]"
     ]
    },
    {
     "name": "stdout",
     "output_type": "stream",
     "text": [
      "x:torch.Size([128, 32, 512]), self.pe:torch.Size([32, 512])\n",
      "x:torch.Size([128, 32, 512]), self.pe:torch.Size([32, 512])\n",
      "x:torch.Size([128, 32, 512]), self.pe:torch.Size([32, 512])\n"
     ]
    },
    {
     "name": "stderr",
     "output_type": "stream",
     "text": [
      "  3%|██▍                                                                            | 511/16602 [00:51<26:47, 10.01it/s]"
     ]
    },
    {
     "name": "stdout",
     "output_type": "stream",
     "text": [
      "x:torch.Size([128, 32, 512]), self.pe:torch.Size([32, 512])\n",
      "x:torch.Size([128, 32, 512]), self.pe:torch.Size([32, 512])\n",
      "x:torch.Size([128, 32, 512]), self.pe:torch.Size([32, 512])\n"
     ]
    },
    {
     "name": "stderr",
     "output_type": "stream",
     "text": [
      "  3%|██▍                                                                            | 514/16602 [00:52<26:53,  9.97it/s]"
     ]
    },
    {
     "name": "stdout",
     "output_type": "stream",
     "text": [
      "x:torch.Size([128, 32, 512]), self.pe:torch.Size([32, 512])\n",
      "x:torch.Size([128, 32, 512]), self.pe:torch.Size([32, 512])\n"
     ]
    },
    {
     "name": "stderr",
     "output_type": "stream",
     "text": [
      "  3%|██▍                                                                            | 516/16602 [00:52<27:00,  9.93it/s]"
     ]
    },
    {
     "name": "stdout",
     "output_type": "stream",
     "text": [
      "x:torch.Size([128, 32, 512]), self.pe:torch.Size([32, 512])\n",
      "x:torch.Size([128, 32, 512]), self.pe:torch.Size([32, 512])\n"
     ]
    },
    {
     "name": "stderr",
     "output_type": "stream",
     "text": [
      "  3%|██▍                                                                            | 518/16602 [00:52<26:55,  9.96it/s]"
     ]
    },
    {
     "name": "stdout",
     "output_type": "stream",
     "text": [
      "x:torch.Size([128, 32, 512]), self.pe:torch.Size([32, 512])\n",
      "x:torch.Size([128, 32, 512]), self.pe:torch.Size([32, 512])\n",
      "x:torch.Size([128, 32, 512]), self.pe:torch.Size([32, 512])\n"
     ]
    },
    {
     "name": "stderr",
     "output_type": "stream",
     "text": [
      "  3%|██▍                                                                            | 521/16602 [00:52<26:56,  9.95it/s]"
     ]
    },
    {
     "name": "stdout",
     "output_type": "stream",
     "text": [
      "x:torch.Size([128, 32, 512]), self.pe:torch.Size([32, 512])\n",
      "x:torch.Size([128, 32, 512]), self.pe:torch.Size([32, 512])\n"
     ]
    },
    {
     "name": "stderr",
     "output_type": "stream",
     "text": [
      "  3%|██▍                                                                            | 523/16602 [00:52<26:55,  9.95it/s]"
     ]
    },
    {
     "name": "stdout",
     "output_type": "stream",
     "text": [
      "x:torch.Size([128, 32, 512]), self.pe:torch.Size([32, 512])\n",
      "x:torch.Size([128, 32, 512]), self.pe:torch.Size([32, 512])\n",
      "x:torch.Size([128, 32, 512]), self.pe:torch.Size([32, 512])\n"
     ]
    },
    {
     "name": "stderr",
     "output_type": "stream",
     "text": [
      "  3%|██▌                                                                            | 526/16602 [00:53<26:52,  9.97it/s]"
     ]
    },
    {
     "name": "stdout",
     "output_type": "stream",
     "text": [
      "x:torch.Size([128, 32, 512]), self.pe:torch.Size([32, 512])\n",
      "x:torch.Size([128, 32, 512]), self.pe:torch.Size([32, 512])\n",
      "x:torch.Size([128, 32, 512]), self.pe:torch.Size([32, 512])\n"
     ]
    },
    {
     "name": "stderr",
     "output_type": "stream",
     "text": [
      "  3%|██▌                                                                            | 529/16602 [00:53<26:38, 10.06it/s]"
     ]
    },
    {
     "name": "stdout",
     "output_type": "stream",
     "text": [
      "x:torch.Size([128, 32, 512]), self.pe:torch.Size([32, 512])\n",
      "x:torch.Size([128, 32, 512]), self.pe:torch.Size([32, 512])\n",
      "x:torch.Size([128, 32, 512]), self.pe:torch.Size([32, 512])\n"
     ]
    },
    {
     "name": "stderr",
     "output_type": "stream",
     "text": [
      "  3%|██▌                                                                            | 531/16602 [00:53<26:24, 10.14it/s]"
     ]
    },
    {
     "name": "stdout",
     "output_type": "stream",
     "text": [
      "x:torch.Size([128, 32, 512]), self.pe:torch.Size([32, 512])\n",
      "x:torch.Size([128, 32, 512]), self.pe:torch.Size([32, 512])\n",
      "x:torch.Size([128, 32, 512]), self.pe:torch.Size([32, 512])\n"
     ]
    },
    {
     "name": "stderr",
     "output_type": "stream",
     "text": [
      "  3%|██▌                                                                            | 535/16602 [00:54<26:16, 10.19it/s]"
     ]
    },
    {
     "name": "stdout",
     "output_type": "stream",
     "text": [
      "x:torch.Size([128, 32, 512]), self.pe:torch.Size([32, 512])\n",
      "x:torch.Size([128, 32, 512]), self.pe:torch.Size([32, 512])\n",
      "x:torch.Size([128, 32, 512]), self.pe:torch.Size([32, 512])\n"
     ]
    },
    {
     "name": "stderr",
     "output_type": "stream",
     "text": [
      "  3%|██▌                                                                            | 537/16602 [00:54<26:15, 10.20it/s]"
     ]
    },
    {
     "name": "stdout",
     "output_type": "stream",
     "text": [
      "x:torch.Size([128, 32, 512]), self.pe:torch.Size([32, 512])\n",
      "x:torch.Size([128, 32, 512]), self.pe:torch.Size([32, 512])\n",
      "x:torch.Size([128, 32, 512]), self.pe:torch.Size([32, 512])\n"
     ]
    },
    {
     "name": "stderr",
     "output_type": "stream",
     "text": [
      "  3%|██▌                                                                            | 541/16602 [00:54<26:10, 10.23it/s]"
     ]
    },
    {
     "name": "stdout",
     "output_type": "stream",
     "text": [
      "x:torch.Size([128, 32, 512]), self.pe:torch.Size([32, 512])\n",
      "x:torch.Size([128, 32, 512]), self.pe:torch.Size([32, 512])\n",
      "x:torch.Size([128, 32, 512]), self.pe:torch.Size([32, 512])\n"
     ]
    },
    {
     "name": "stderr",
     "output_type": "stream",
     "text": [
      "  3%|██▌                                                                            | 543/16602 [00:54<26:12, 10.21it/s]"
     ]
    },
    {
     "name": "stdout",
     "output_type": "stream",
     "text": [
      "x:torch.Size([128, 32, 512]), self.pe:torch.Size([32, 512])\n",
      "x:torch.Size([128, 32, 512]), self.pe:torch.Size([32, 512])\n",
      "x:torch.Size([128, 32, 512]), self.pe:torch.Size([32, 512])\n"
     ]
    },
    {
     "name": "stderr",
     "output_type": "stream",
     "text": [
      "  3%|██▌                                                                            | 547/16602 [00:55<26:28, 10.11it/s]"
     ]
    },
    {
     "name": "stdout",
     "output_type": "stream",
     "text": [
      "x:torch.Size([128, 32, 512]), self.pe:torch.Size([32, 512])\n",
      "x:torch.Size([128, 32, 512]), self.pe:torch.Size([32, 512])\n",
      "x:torch.Size([128, 32, 512]), self.pe:torch.Size([32, 512])\n"
     ]
    },
    {
     "name": "stderr",
     "output_type": "stream",
     "text": [
      "  3%|██▌                                                                            | 549/16602 [00:55<26:35, 10.06it/s]"
     ]
    },
    {
     "name": "stdout",
     "output_type": "stream",
     "text": [
      "x:torch.Size([128, 32, 512]), self.pe:torch.Size([32, 512])\n",
      "x:torch.Size([128, 32, 512]), self.pe:torch.Size([32, 512])\n"
     ]
    },
    {
     "name": "stderr",
     "output_type": "stream",
     "text": [
      "  3%|██▌                                                                            | 551/16602 [00:55<26:36, 10.05it/s]"
     ]
    },
    {
     "name": "stdout",
     "output_type": "stream",
     "text": [
      "x:torch.Size([128, 32, 512]), self.pe:torch.Size([32, 512])\n",
      "x:torch.Size([128, 32, 512]), self.pe:torch.Size([32, 512])\n",
      "x:torch.Size([128, 32, 512]), self.pe:torch.Size([32, 512])\n"
     ]
    },
    {
     "name": "stderr",
     "output_type": "stream",
     "text": [
      "  3%|██▋                                                                            | 555/16602 [00:56<26:44, 10.00it/s]"
     ]
    },
    {
     "name": "stdout",
     "output_type": "stream",
     "text": [
      "x:torch.Size([128, 32, 512]), self.pe:torch.Size([32, 512])\n",
      "x:torch.Size([128, 32, 512]), self.pe:torch.Size([32, 512])\n"
     ]
    },
    {
     "name": "stderr",
     "output_type": "stream",
     "text": [
      "  3%|██▋                                                                            | 557/16602 [00:56<26:43, 10.01it/s]"
     ]
    },
    {
     "name": "stdout",
     "output_type": "stream",
     "text": [
      "x:torch.Size([128, 32, 512]), self.pe:torch.Size([32, 512])\n",
      "x:torch.Size([128, 32, 512]), self.pe:torch.Size([32, 512])\n",
      "x:torch.Size([128, 32, 512]), self.pe:torch.Size([32, 512])\n"
     ]
    },
    {
     "name": "stderr",
     "output_type": "stream",
     "text": [
      "  3%|██▋                                                                            | 559/16602 [00:56<26:42, 10.01it/s]"
     ]
    },
    {
     "name": "stdout",
     "output_type": "stream",
     "text": [
      "x:torch.Size([128, 32, 512]), self.pe:torch.Size([32, 512])\n",
      "x:torch.Size([128, 32, 512]), self.pe:torch.Size([32, 512])\n",
      "x:torch.Size([128, 32, 512]), self.pe:torch.Size([32, 512])\n"
     ]
    },
    {
     "name": "stderr",
     "output_type": "stream",
     "text": [
      "  3%|██▋                                                                            | 560/16602 [00:56<27:03,  9.88it/s]\n"
     ]
    },
    {
     "ename": "KeyboardInterrupt",
     "evalue": "",
     "output_type": "error",
     "traceback": [
      "\u001b[0;31m---------------------------------------------------------------------------\u001b[0m",
      "\u001b[0;31mKeyboardInterrupt\u001b[0m                         Traceback (most recent call last)",
      "Cell \u001b[0;32mIn[51], line 7\u001b[0m\n\u001b[1;32m      4\u001b[0m \u001b[38;5;28;01mfor\u001b[39;00m X, y \u001b[38;5;129;01min\u001b[39;00m tqdm(data_loader):\n\u001b[1;32m      5\u001b[0m     X, y \u001b[38;5;241m=\u001b[39m X\u001b[38;5;241m.\u001b[39mto(device), y\u001b[38;5;241m.\u001b[39mto(device)\n\u001b[0;32m----> 7\u001b[0m     output \u001b[38;5;241m=\u001b[39m \u001b[43mmodel\u001b[49m\u001b[43m(\u001b[49m\u001b[43mX\u001b[49m\u001b[43m)\u001b[49m\n\u001b[1;32m      8\u001b[0m     l \u001b[38;5;241m=\u001b[39m loss(output, y)\n\u001b[1;32m     10\u001b[0m     optimizer\u001b[38;5;241m.\u001b[39mzero_grad()\n",
      "File \u001b[0;32m~/anaconda3/envs/py3.11/lib/python3.11/site-packages/torch/nn/modules/module.py:1518\u001b[0m, in \u001b[0;36mModule._wrapped_call_impl\u001b[0;34m(self, *args, **kwargs)\u001b[0m\n\u001b[1;32m   1516\u001b[0m     \u001b[38;5;28;01mreturn\u001b[39;00m \u001b[38;5;28mself\u001b[39m\u001b[38;5;241m.\u001b[39m_compiled_call_impl(\u001b[38;5;241m*\u001b[39margs, \u001b[38;5;241m*\u001b[39m\u001b[38;5;241m*\u001b[39mkwargs)  \u001b[38;5;66;03m# type: ignore[misc]\u001b[39;00m\n\u001b[1;32m   1517\u001b[0m \u001b[38;5;28;01melse\u001b[39;00m:\n\u001b[0;32m-> 1518\u001b[0m     \u001b[38;5;28;01mreturn\u001b[39;00m \u001b[38;5;28;43mself\u001b[39;49m\u001b[38;5;241;43m.\u001b[39;49m\u001b[43m_call_impl\u001b[49m\u001b[43m(\u001b[49m\u001b[38;5;241;43m*\u001b[39;49m\u001b[43margs\u001b[49m\u001b[43m,\u001b[49m\u001b[43m \u001b[49m\u001b[38;5;241;43m*\u001b[39;49m\u001b[38;5;241;43m*\u001b[39;49m\u001b[43mkwargs\u001b[49m\u001b[43m)\u001b[49m\n",
      "File \u001b[0;32m~/anaconda3/envs/py3.11/lib/python3.11/site-packages/torch/nn/modules/module.py:1527\u001b[0m, in \u001b[0;36mModule._call_impl\u001b[0;34m(self, *args, **kwargs)\u001b[0m\n\u001b[1;32m   1522\u001b[0m \u001b[38;5;66;03m# If we don't have any hooks, we want to skip the rest of the logic in\u001b[39;00m\n\u001b[1;32m   1523\u001b[0m \u001b[38;5;66;03m# this function, and just call forward.\u001b[39;00m\n\u001b[1;32m   1524\u001b[0m \u001b[38;5;28;01mif\u001b[39;00m \u001b[38;5;129;01mnot\u001b[39;00m (\u001b[38;5;28mself\u001b[39m\u001b[38;5;241m.\u001b[39m_backward_hooks \u001b[38;5;129;01mor\u001b[39;00m \u001b[38;5;28mself\u001b[39m\u001b[38;5;241m.\u001b[39m_backward_pre_hooks \u001b[38;5;129;01mor\u001b[39;00m \u001b[38;5;28mself\u001b[39m\u001b[38;5;241m.\u001b[39m_forward_hooks \u001b[38;5;129;01mor\u001b[39;00m \u001b[38;5;28mself\u001b[39m\u001b[38;5;241m.\u001b[39m_forward_pre_hooks\n\u001b[1;32m   1525\u001b[0m         \u001b[38;5;129;01mor\u001b[39;00m _global_backward_pre_hooks \u001b[38;5;129;01mor\u001b[39;00m _global_backward_hooks\n\u001b[1;32m   1526\u001b[0m         \u001b[38;5;129;01mor\u001b[39;00m _global_forward_hooks \u001b[38;5;129;01mor\u001b[39;00m _global_forward_pre_hooks):\n\u001b[0;32m-> 1527\u001b[0m     \u001b[38;5;28;01mreturn\u001b[39;00m \u001b[43mforward_call\u001b[49m\u001b[43m(\u001b[49m\u001b[38;5;241;43m*\u001b[39;49m\u001b[43margs\u001b[49m\u001b[43m,\u001b[49m\u001b[43m \u001b[49m\u001b[38;5;241;43m*\u001b[39;49m\u001b[38;5;241;43m*\u001b[39;49m\u001b[43mkwargs\u001b[49m\u001b[43m)\u001b[49m\n\u001b[1;32m   1529\u001b[0m \u001b[38;5;28;01mtry\u001b[39;00m:\n\u001b[1;32m   1530\u001b[0m     result \u001b[38;5;241m=\u001b[39m \u001b[38;5;28;01mNone\u001b[39;00m\n",
      "Cell \u001b[0;32mIn[49], line 12\u001b[0m, in \u001b[0;36mTransformerForSentimentAnalysis.forward\u001b[0;34m(self, src)\u001b[0m\n\u001b[1;32m     10\u001b[0m \u001b[38;5;28;01mdef\u001b[39;00m \u001b[38;5;21mforward\u001b[39m(\u001b[38;5;28mself\u001b[39m, src) \u001b[38;5;241m-\u001b[39m\u001b[38;5;241m>\u001b[39m torch\u001b[38;5;241m.\u001b[39mTensor:\n\u001b[1;32m     11\u001b[0m     \u001b[38;5;66;03m# 通过编码器获取编码序列\u001b[39;00m\n\u001b[0;32m---> 12\u001b[0m     enc_outputs, _ \u001b[38;5;241m=\u001b[39m \u001b[38;5;28;43mself\u001b[39;49m\u001b[38;5;241;43m.\u001b[39;49m\u001b[43mencoder\u001b[49m\u001b[43m(\u001b[49m\u001b[43msrc\u001b[49m\u001b[43m)\u001b[49m\n\u001b[1;32m     14\u001b[0m     \u001b[38;5;66;03m# 使用编码序列的第一个元素（对应于起始标记）来进行分类\u001b[39;00m\n\u001b[1;32m     15\u001b[0m     \u001b[38;5;66;03m# 从编码器输出的每个批次中提取全局表示，通常是序列的第一个元素\u001b[39;00m\n\u001b[1;32m     16\u001b[0m     \u001b[38;5;66;03m# out维度为[batch_size, num_classes]\u001b[39;00m\n\u001b[1;32m     17\u001b[0m     out \u001b[38;5;241m=\u001b[39m \u001b[38;5;28mself\u001b[39m\u001b[38;5;241m.\u001b[39mfc(enc_outputs[:, \u001b[38;5;241m0\u001b[39m, :])\n",
      "File \u001b[0;32m~/anaconda3/envs/py3.11/lib/python3.11/site-packages/torch/nn/modules/module.py:1518\u001b[0m, in \u001b[0;36mModule._wrapped_call_impl\u001b[0;34m(self, *args, **kwargs)\u001b[0m\n\u001b[1;32m   1516\u001b[0m     \u001b[38;5;28;01mreturn\u001b[39;00m \u001b[38;5;28mself\u001b[39m\u001b[38;5;241m.\u001b[39m_compiled_call_impl(\u001b[38;5;241m*\u001b[39margs, \u001b[38;5;241m*\u001b[39m\u001b[38;5;241m*\u001b[39mkwargs)  \u001b[38;5;66;03m# type: ignore[misc]\u001b[39;00m\n\u001b[1;32m   1517\u001b[0m \u001b[38;5;28;01melse\u001b[39;00m:\n\u001b[0;32m-> 1518\u001b[0m     \u001b[38;5;28;01mreturn\u001b[39;00m \u001b[38;5;28;43mself\u001b[39;49m\u001b[38;5;241;43m.\u001b[39;49m\u001b[43m_call_impl\u001b[49m\u001b[43m(\u001b[49m\u001b[38;5;241;43m*\u001b[39;49m\u001b[43margs\u001b[49m\u001b[43m,\u001b[49m\u001b[43m \u001b[49m\u001b[38;5;241;43m*\u001b[39;49m\u001b[38;5;241;43m*\u001b[39;49m\u001b[43mkwargs\u001b[49m\u001b[43m)\u001b[49m\n",
      "File \u001b[0;32m~/anaconda3/envs/py3.11/lib/python3.11/site-packages/torch/nn/modules/module.py:1527\u001b[0m, in \u001b[0;36mModule._call_impl\u001b[0;34m(self, *args, **kwargs)\u001b[0m\n\u001b[1;32m   1522\u001b[0m \u001b[38;5;66;03m# If we don't have any hooks, we want to skip the rest of the logic in\u001b[39;00m\n\u001b[1;32m   1523\u001b[0m \u001b[38;5;66;03m# this function, and just call forward.\u001b[39;00m\n\u001b[1;32m   1524\u001b[0m \u001b[38;5;28;01mif\u001b[39;00m \u001b[38;5;129;01mnot\u001b[39;00m (\u001b[38;5;28mself\u001b[39m\u001b[38;5;241m.\u001b[39m_backward_hooks \u001b[38;5;129;01mor\u001b[39;00m \u001b[38;5;28mself\u001b[39m\u001b[38;5;241m.\u001b[39m_backward_pre_hooks \u001b[38;5;129;01mor\u001b[39;00m \u001b[38;5;28mself\u001b[39m\u001b[38;5;241m.\u001b[39m_forward_hooks \u001b[38;5;129;01mor\u001b[39;00m \u001b[38;5;28mself\u001b[39m\u001b[38;5;241m.\u001b[39m_forward_pre_hooks\n\u001b[1;32m   1525\u001b[0m         \u001b[38;5;129;01mor\u001b[39;00m _global_backward_pre_hooks \u001b[38;5;129;01mor\u001b[39;00m _global_backward_hooks\n\u001b[1;32m   1526\u001b[0m         \u001b[38;5;129;01mor\u001b[39;00m _global_forward_hooks \u001b[38;5;129;01mor\u001b[39;00m _global_forward_pre_hooks):\n\u001b[0;32m-> 1527\u001b[0m     \u001b[38;5;28;01mreturn\u001b[39;00m \u001b[43mforward_call\u001b[49m\u001b[43m(\u001b[49m\u001b[38;5;241;43m*\u001b[39;49m\u001b[43margs\u001b[49m\u001b[43m,\u001b[49m\u001b[43m \u001b[49m\u001b[38;5;241;43m*\u001b[39;49m\u001b[38;5;241;43m*\u001b[39;49m\u001b[43mkwargs\u001b[49m\u001b[43m)\u001b[49m\n\u001b[1;32m   1529\u001b[0m \u001b[38;5;28;01mtry\u001b[39;00m:\n\u001b[1;32m   1530\u001b[0m     result \u001b[38;5;241m=\u001b[39m \u001b[38;5;28;01mNone\u001b[39;00m\n",
      "Cell \u001b[0;32mIn[45], line 18\u001b[0m, in \u001b[0;36mEncoder.forward\u001b[0;34m(self, enc_inputs)\u001b[0m\n\u001b[1;32m     16\u001b[0m enc_self_attns \u001b[38;5;241m=\u001b[39m []\n\u001b[1;32m     17\u001b[0m \u001b[38;5;28;01mfor\u001b[39;00m layer \u001b[38;5;129;01min\u001b[39;00m \u001b[38;5;28mself\u001b[39m\u001b[38;5;241m.\u001b[39mlayers:\n\u001b[0;32m---> 18\u001b[0m     enc_outputs, enc_self_attn \u001b[38;5;241m=\u001b[39m \u001b[43mlayer\u001b[49m\u001b[43m(\u001b[49m\u001b[43menc_outputs\u001b[49m\u001b[43m,\u001b[49m\u001b[43m \u001b[49m\u001b[43menc_self_attn_mask\u001b[49m\u001b[43m)\u001b[49m\n\u001b[1;32m     19\u001b[0m     enc_self_attns\u001b[38;5;241m.\u001b[39mappend(enc_self_attn)\n\u001b[1;32m     20\u001b[0m \u001b[38;5;28;01mreturn\u001b[39;00m enc_outputs, enc_self_attns\n",
      "File \u001b[0;32m~/anaconda3/envs/py3.11/lib/python3.11/site-packages/torch/nn/modules/module.py:1518\u001b[0m, in \u001b[0;36mModule._wrapped_call_impl\u001b[0;34m(self, *args, **kwargs)\u001b[0m\n\u001b[1;32m   1516\u001b[0m     \u001b[38;5;28;01mreturn\u001b[39;00m \u001b[38;5;28mself\u001b[39m\u001b[38;5;241m.\u001b[39m_compiled_call_impl(\u001b[38;5;241m*\u001b[39margs, \u001b[38;5;241m*\u001b[39m\u001b[38;5;241m*\u001b[39mkwargs)  \u001b[38;5;66;03m# type: ignore[misc]\u001b[39;00m\n\u001b[1;32m   1517\u001b[0m \u001b[38;5;28;01melse\u001b[39;00m:\n\u001b[0;32m-> 1518\u001b[0m     \u001b[38;5;28;01mreturn\u001b[39;00m \u001b[38;5;28;43mself\u001b[39;49m\u001b[38;5;241;43m.\u001b[39;49m\u001b[43m_call_impl\u001b[49m\u001b[43m(\u001b[49m\u001b[38;5;241;43m*\u001b[39;49m\u001b[43margs\u001b[49m\u001b[43m,\u001b[49m\u001b[43m \u001b[49m\u001b[38;5;241;43m*\u001b[39;49m\u001b[38;5;241;43m*\u001b[39;49m\u001b[43mkwargs\u001b[49m\u001b[43m)\u001b[49m\n",
      "File \u001b[0;32m~/anaconda3/envs/py3.11/lib/python3.11/site-packages/torch/nn/modules/module.py:1527\u001b[0m, in \u001b[0;36mModule._call_impl\u001b[0;34m(self, *args, **kwargs)\u001b[0m\n\u001b[1;32m   1522\u001b[0m \u001b[38;5;66;03m# If we don't have any hooks, we want to skip the rest of the logic in\u001b[39;00m\n\u001b[1;32m   1523\u001b[0m \u001b[38;5;66;03m# this function, and just call forward.\u001b[39;00m\n\u001b[1;32m   1524\u001b[0m \u001b[38;5;28;01mif\u001b[39;00m \u001b[38;5;129;01mnot\u001b[39;00m (\u001b[38;5;28mself\u001b[39m\u001b[38;5;241m.\u001b[39m_backward_hooks \u001b[38;5;129;01mor\u001b[39;00m \u001b[38;5;28mself\u001b[39m\u001b[38;5;241m.\u001b[39m_backward_pre_hooks \u001b[38;5;129;01mor\u001b[39;00m \u001b[38;5;28mself\u001b[39m\u001b[38;5;241m.\u001b[39m_forward_hooks \u001b[38;5;129;01mor\u001b[39;00m \u001b[38;5;28mself\u001b[39m\u001b[38;5;241m.\u001b[39m_forward_pre_hooks\n\u001b[1;32m   1525\u001b[0m         \u001b[38;5;129;01mor\u001b[39;00m _global_backward_pre_hooks \u001b[38;5;129;01mor\u001b[39;00m _global_backward_hooks\n\u001b[1;32m   1526\u001b[0m         \u001b[38;5;129;01mor\u001b[39;00m _global_forward_hooks \u001b[38;5;129;01mor\u001b[39;00m _global_forward_pre_hooks):\n\u001b[0;32m-> 1527\u001b[0m     \u001b[38;5;28;01mreturn\u001b[39;00m \u001b[43mforward_call\u001b[49m\u001b[43m(\u001b[49m\u001b[38;5;241;43m*\u001b[39;49m\u001b[43margs\u001b[49m\u001b[43m,\u001b[49m\u001b[43m \u001b[49m\u001b[38;5;241;43m*\u001b[39;49m\u001b[38;5;241;43m*\u001b[39;49m\u001b[43mkwargs\u001b[49m\u001b[43m)\u001b[49m\n\u001b[1;32m   1529\u001b[0m \u001b[38;5;28;01mtry\u001b[39;00m:\n\u001b[1;32m   1530\u001b[0m     result \u001b[38;5;241m=\u001b[39m \u001b[38;5;28;01mNone\u001b[39;00m\n",
      "Cell \u001b[0;32mIn[44], line 21\u001b[0m, in \u001b[0;36mEncoderLayer.forward\u001b[0;34m(self, encoder_inputs, encoder_attention_mask)\u001b[0m\n\u001b[1;32m     19\u001b[0m residual \u001b[38;5;241m=\u001b[39m encoder_inputs\n\u001b[1;32m     20\u001b[0m \u001b[38;5;66;03m# print(f'residual:{residual.shape}')\u001b[39;00m\n\u001b[0;32m---> 21\u001b[0m enc_outputs, attn \u001b[38;5;241m=\u001b[39m \u001b[38;5;28;43mself\u001b[39;49m\u001b[38;5;241;43m.\u001b[39;49m\u001b[43mattention\u001b[49m\u001b[43m(\u001b[49m\u001b[43mencoder_inputs\u001b[49m\u001b[43m,\u001b[49m\u001b[43m \u001b[49m\u001b[43mencoder_inputs\u001b[49m\u001b[43m,\u001b[49m\u001b[43m \u001b[49m\u001b[43mencoder_inputs\u001b[49m\u001b[43m,\u001b[49m\u001b[43m \u001b[49m\u001b[43mencoder_attention_mask\u001b[49m\u001b[43m)\u001b[49m\n\u001b[1;32m     22\u001b[0m \u001b[38;5;66;03m# print(f'enc_outputs:{enc_outputs.shape}, residual:{residual.shape}')\u001b[39;00m\n\u001b[1;32m     23\u001b[0m enc_outputs \u001b[38;5;241m=\u001b[39m \u001b[38;5;28mself\u001b[39m\u001b[38;5;241m.\u001b[39madd_norm1(enc_outputs, residual)\n",
      "File \u001b[0;32m~/anaconda3/envs/py3.11/lib/python3.11/site-packages/torch/nn/modules/module.py:1518\u001b[0m, in \u001b[0;36mModule._wrapped_call_impl\u001b[0;34m(self, *args, **kwargs)\u001b[0m\n\u001b[1;32m   1516\u001b[0m     \u001b[38;5;28;01mreturn\u001b[39;00m \u001b[38;5;28mself\u001b[39m\u001b[38;5;241m.\u001b[39m_compiled_call_impl(\u001b[38;5;241m*\u001b[39margs, \u001b[38;5;241m*\u001b[39m\u001b[38;5;241m*\u001b[39mkwargs)  \u001b[38;5;66;03m# type: ignore[misc]\u001b[39;00m\n\u001b[1;32m   1517\u001b[0m \u001b[38;5;28;01melse\u001b[39;00m:\n\u001b[0;32m-> 1518\u001b[0m     \u001b[38;5;28;01mreturn\u001b[39;00m \u001b[38;5;28;43mself\u001b[39;49m\u001b[38;5;241;43m.\u001b[39;49m\u001b[43m_call_impl\u001b[49m\u001b[43m(\u001b[49m\u001b[38;5;241;43m*\u001b[39;49m\u001b[43margs\u001b[49m\u001b[43m,\u001b[49m\u001b[43m \u001b[49m\u001b[38;5;241;43m*\u001b[39;49m\u001b[38;5;241;43m*\u001b[39;49m\u001b[43mkwargs\u001b[49m\u001b[43m)\u001b[49m\n",
      "File \u001b[0;32m~/anaconda3/envs/py3.11/lib/python3.11/site-packages/torch/nn/modules/module.py:1527\u001b[0m, in \u001b[0;36mModule._call_impl\u001b[0;34m(self, *args, **kwargs)\u001b[0m\n\u001b[1;32m   1522\u001b[0m \u001b[38;5;66;03m# If we don't have any hooks, we want to skip the rest of the logic in\u001b[39;00m\n\u001b[1;32m   1523\u001b[0m \u001b[38;5;66;03m# this function, and just call forward.\u001b[39;00m\n\u001b[1;32m   1524\u001b[0m \u001b[38;5;28;01mif\u001b[39;00m \u001b[38;5;129;01mnot\u001b[39;00m (\u001b[38;5;28mself\u001b[39m\u001b[38;5;241m.\u001b[39m_backward_hooks \u001b[38;5;129;01mor\u001b[39;00m \u001b[38;5;28mself\u001b[39m\u001b[38;5;241m.\u001b[39m_backward_pre_hooks \u001b[38;5;129;01mor\u001b[39;00m \u001b[38;5;28mself\u001b[39m\u001b[38;5;241m.\u001b[39m_forward_hooks \u001b[38;5;129;01mor\u001b[39;00m \u001b[38;5;28mself\u001b[39m\u001b[38;5;241m.\u001b[39m_forward_pre_hooks\n\u001b[1;32m   1525\u001b[0m         \u001b[38;5;129;01mor\u001b[39;00m _global_backward_pre_hooks \u001b[38;5;129;01mor\u001b[39;00m _global_backward_hooks\n\u001b[1;32m   1526\u001b[0m         \u001b[38;5;129;01mor\u001b[39;00m _global_forward_hooks \u001b[38;5;129;01mor\u001b[39;00m _global_forward_pre_hooks):\n\u001b[0;32m-> 1527\u001b[0m     \u001b[38;5;28;01mreturn\u001b[39;00m \u001b[43mforward_call\u001b[49m\u001b[43m(\u001b[49m\u001b[38;5;241;43m*\u001b[39;49m\u001b[43margs\u001b[49m\u001b[43m,\u001b[49m\u001b[43m \u001b[49m\u001b[38;5;241;43m*\u001b[39;49m\u001b[38;5;241;43m*\u001b[39;49m\u001b[43mkwargs\u001b[49m\u001b[43m)\u001b[49m\n\u001b[1;32m   1529\u001b[0m \u001b[38;5;28;01mtry\u001b[39;00m:\n\u001b[1;32m   1530\u001b[0m     result \u001b[38;5;241m=\u001b[39m \u001b[38;5;28;01mNone\u001b[39;00m\n",
      "Cell \u001b[0;32mIn[41], line 28\u001b[0m, in \u001b[0;36mMultiHeadAttention.forward\u001b[0;34m(self, query, key, value, mask)\u001b[0m\n\u001b[1;32m     26\u001b[0m mask \u001b[38;5;241m=\u001b[39m mask\u001b[38;5;241m.\u001b[39munsqueeze(\u001b[38;5;241m1\u001b[39m)  \u001b[38;5;66;03m# 添加一个维度\u001b[39;00m\n\u001b[1;32m     27\u001b[0m mask \u001b[38;5;241m=\u001b[39m mask\u001b[38;5;241m.\u001b[39mexpand(batch_size, num_heads, seq_len, seq_len)  \u001b[38;5;66;03m# 扩展mask以匹配多头注意力\u001b[39;00m\n\u001b[0;32m---> 28\u001b[0m output, attention \u001b[38;5;241m=\u001b[39m \u001b[38;5;28;43mself\u001b[39;49m\u001b[38;5;241;43m.\u001b[39;49m\u001b[43mattention\u001b[49m\u001b[43m(\u001b[49m\u001b[43mquery\u001b[49m\u001b[43m,\u001b[49m\u001b[43m \u001b[49m\u001b[43mkey\u001b[49m\u001b[43m,\u001b[49m\u001b[43m \u001b[49m\u001b[43mvalue\u001b[49m\u001b[43m,\u001b[49m\u001b[43m \u001b[49m\u001b[43mmask\u001b[49m\u001b[43m)\u001b[49m\n\u001b[1;32m     30\u001b[0m \u001b[38;5;66;03m# 拼接头部并应用最终线性层\u001b[39;00m\n\u001b[1;32m     31\u001b[0m \u001b[38;5;66;03m# contiguous()类似深拷贝，transpose并不会生成新的张量，修改会修改到原变量\u001b[39;00m\n\u001b[1;32m     32\u001b[0m output \u001b[38;5;241m=\u001b[39m output\u001b[38;5;241m.\u001b[39mtranspose(\u001b[38;5;241m1\u001b[39m, \u001b[38;5;241m2\u001b[39m)\u001b[38;5;241m.\u001b[39mcontiguous()\u001b[38;5;241m.\u001b[39mview(batch_size, \u001b[38;5;241m-\u001b[39m\u001b[38;5;241m1\u001b[39m, \u001b[38;5;28mself\u001b[39m\u001b[38;5;241m.\u001b[39md_model)\n",
      "File \u001b[0;32m~/anaconda3/envs/py3.11/lib/python3.11/site-packages/torch/nn/modules/module.py:1518\u001b[0m, in \u001b[0;36mModule._wrapped_call_impl\u001b[0;34m(self, *args, **kwargs)\u001b[0m\n\u001b[1;32m   1516\u001b[0m     \u001b[38;5;28;01mreturn\u001b[39;00m \u001b[38;5;28mself\u001b[39m\u001b[38;5;241m.\u001b[39m_compiled_call_impl(\u001b[38;5;241m*\u001b[39margs, \u001b[38;5;241m*\u001b[39m\u001b[38;5;241m*\u001b[39mkwargs)  \u001b[38;5;66;03m# type: ignore[misc]\u001b[39;00m\n\u001b[1;32m   1517\u001b[0m \u001b[38;5;28;01melse\u001b[39;00m:\n\u001b[0;32m-> 1518\u001b[0m     \u001b[38;5;28;01mreturn\u001b[39;00m \u001b[38;5;28;43mself\u001b[39;49m\u001b[38;5;241;43m.\u001b[39;49m\u001b[43m_call_impl\u001b[49m\u001b[43m(\u001b[49m\u001b[38;5;241;43m*\u001b[39;49m\u001b[43margs\u001b[49m\u001b[43m,\u001b[49m\u001b[43m \u001b[49m\u001b[38;5;241;43m*\u001b[39;49m\u001b[38;5;241;43m*\u001b[39;49m\u001b[43mkwargs\u001b[49m\u001b[43m)\u001b[49m\n",
      "File \u001b[0;32m~/anaconda3/envs/py3.11/lib/python3.11/site-packages/torch/nn/modules/module.py:1527\u001b[0m, in \u001b[0;36mModule._call_impl\u001b[0;34m(self, *args, **kwargs)\u001b[0m\n\u001b[1;32m   1522\u001b[0m \u001b[38;5;66;03m# If we don't have any hooks, we want to skip the rest of the logic in\u001b[39;00m\n\u001b[1;32m   1523\u001b[0m \u001b[38;5;66;03m# this function, and just call forward.\u001b[39;00m\n\u001b[1;32m   1524\u001b[0m \u001b[38;5;28;01mif\u001b[39;00m \u001b[38;5;129;01mnot\u001b[39;00m (\u001b[38;5;28mself\u001b[39m\u001b[38;5;241m.\u001b[39m_backward_hooks \u001b[38;5;129;01mor\u001b[39;00m \u001b[38;5;28mself\u001b[39m\u001b[38;5;241m.\u001b[39m_backward_pre_hooks \u001b[38;5;129;01mor\u001b[39;00m \u001b[38;5;28mself\u001b[39m\u001b[38;5;241m.\u001b[39m_forward_hooks \u001b[38;5;129;01mor\u001b[39;00m \u001b[38;5;28mself\u001b[39m\u001b[38;5;241m.\u001b[39m_forward_pre_hooks\n\u001b[1;32m   1525\u001b[0m         \u001b[38;5;129;01mor\u001b[39;00m _global_backward_pre_hooks \u001b[38;5;129;01mor\u001b[39;00m _global_backward_hooks\n\u001b[1;32m   1526\u001b[0m         \u001b[38;5;129;01mor\u001b[39;00m _global_forward_hooks \u001b[38;5;129;01mor\u001b[39;00m _global_forward_pre_hooks):\n\u001b[0;32m-> 1527\u001b[0m     \u001b[38;5;28;01mreturn\u001b[39;00m \u001b[43mforward_call\u001b[49m\u001b[43m(\u001b[49m\u001b[38;5;241;43m*\u001b[39;49m\u001b[43margs\u001b[49m\u001b[43m,\u001b[49m\u001b[43m \u001b[49m\u001b[38;5;241;43m*\u001b[39;49m\u001b[38;5;241;43m*\u001b[39;49m\u001b[43mkwargs\u001b[49m\u001b[43m)\u001b[49m\n\u001b[1;32m   1529\u001b[0m \u001b[38;5;28;01mtry\u001b[39;00m:\n\u001b[1;32m   1530\u001b[0m     result \u001b[38;5;241m=\u001b[39m \u001b[38;5;28;01mNone\u001b[39;00m\n",
      "Cell \u001b[0;32mIn[39], line 14\u001b[0m, in \u001b[0;36mScaledDotProductAttention.forward\u001b[0;34m(self, query, key, value, mask)\u001b[0m\n\u001b[1;32m     11\u001b[0m scores \u001b[38;5;241m=\u001b[39m torch\u001b[38;5;241m.\u001b[39mmatmul(query, key\u001b[38;5;241m.\u001b[39mtranspose(\u001b[38;5;241m-\u001b[39m\u001b[38;5;241m2\u001b[39m, \u001b[38;5;241m-\u001b[39m\u001b[38;5;241m1\u001b[39m)) \u001b[38;5;241m/\u001b[39m \u001b[38;5;28mself\u001b[39m\u001b[38;5;241m.\u001b[39msqrt_dk\n\u001b[1;32m     13\u001b[0m \u001b[38;5;28;01mif\u001b[39;00m mask \u001b[38;5;129;01mis\u001b[39;00m \u001b[38;5;129;01mnot\u001b[39;00m \u001b[38;5;28;01mNone\u001b[39;00m: \u001b[38;5;66;03m# 不直接if mask是为了避免张量全为0而跳过掩码处理的可能\u001b[39;00m\n\u001b[0;32m---> 14\u001b[0m     scores \u001b[38;5;241m=\u001b[39m \u001b[43mscores\u001b[49m\u001b[38;5;241;43m.\u001b[39;49m\u001b[43mmasked_fill\u001b[49m\u001b[43m(\u001b[49m\u001b[43mmask\u001b[49m\u001b[43m \u001b[49m\u001b[38;5;241;43m==\u001b[39;49m\u001b[43m \u001b[49m\u001b[38;5;241;43m0\u001b[39;49m\u001b[43m,\u001b[49m\u001b[43m \u001b[49m\u001b[43mtorch\u001b[49m\u001b[38;5;241;43m.\u001b[39;49m\u001b[43mfinfo\u001b[49m\u001b[43m(\u001b[49m\u001b[43mscores\u001b[49m\u001b[38;5;241;43m.\u001b[39;49m\u001b[43mdtype\u001b[49m\u001b[43m)\u001b[49m\u001b[38;5;241;43m.\u001b[39;49m\u001b[43mmin\u001b[49m\u001b[43m)\u001b[49m \u001b[38;5;66;03m# torch.finfo(scores.dtype).min是dtype类型的最小值\u001b[39;00m\n\u001b[1;32m     16\u001b[0m \u001b[38;5;66;03m# 计算 softmax 得到注意力权重\u001b[39;00m\n\u001b[1;32m     17\u001b[0m attention \u001b[38;5;241m=\u001b[39m \u001b[38;5;28mself\u001b[39m\u001b[38;5;241m.\u001b[39msoftmax(scores)\n",
      "\u001b[0;31mKeyboardInterrupt\u001b[0m: "
     ]
    }
   ],
   "source": [
    "for epoch in range(num_epochs):\n",
    "    model.train()\n",
    "    total_loss = 0\n",
    "    for X, y in tqdm(data_loader):\n",
    "        X, y = X.to(device), y.to(device)\n",
    "        \n",
    "        output = model(X)\n",
    "        l = loss(output, y)\n",
    "        \n",
    "        optimizer.zero_grad()\n",
    "        l.backward()\n",
    "        optimizer.step()\n",
    "        \n",
    "        total_loss += l.item()\n",
    "        \n",
    "    print(f\"Epoch {epoch+1}/{num_epochs}, Loss: {total_loss/len(data_loader)}\")"
   ]
  },
  {
   "cell_type": "code",
   "execution_count": null,
   "id": "2d2441da-731c-48b8-adfa-35f718368381",
   "metadata": {},
   "outputs": [],
   "source": []
  }
 ],
 "metadata": {
  "kernelspec": {
   "display_name": "py3.11",
   "language": "python",
   "name": "py3.11"
  },
  "language_info": {
   "codemirror_mode": {
    "name": "ipython",
    "version": 3
   },
   "file_extension": ".py",
   "mimetype": "text/x-python",
   "name": "python",
   "nbconvert_exporter": "python",
   "pygments_lexer": "ipython3",
   "version": "3.11.5"
  }
 },
 "nbformat": 4,
 "nbformat_minor": 5
}
