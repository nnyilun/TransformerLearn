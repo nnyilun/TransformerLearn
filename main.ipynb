{
 "cells": [
  {
   "cell_type": "markdown",
   "id": "2212765c-7813-40ea-aef3-224e348ec92e",
   "metadata": {
    "tags": []
   },
   "source": [
    "# Transformer学习\n",
    "\n",
    "## 1. 理解Transformer模型\n",
    "\n",
    "Transformer模型主要由以下几个部分组成：\n",
    "\n",
    "- **输入嵌入（Input Embedding）**：将输入文本转换成固定大小的向量。\n",
    "- **位置编码（Positional Encoding）**：为模型添加关于单词在句子中位置的信息。\n",
    "- **多头自注意力机制（Multi-Head Self-Attention）**：允许模型同时关注句子中的不同部分。\n",
    "- **前馈神经网络（Feed Forward Neural Network）**：在每个Transformer层中应用。\n",
    "- **标准化层（Normalization Layer）**：用于稳定训练过程。\n",
    "- **输出层（Output Layer）**：将Transformer层的输出转换为最终的输出格式。\n",
    "\n",
    "## 2. 实现多头自注意力\n",
    "\n",
    "多头自注意力是Transformer模型的核心。这个部分包括：\n",
    "\n",
    "- **缩放点积注意力（Scaled Dot-Product Attention）**：计算键（K）、查询（Q）和值（V）之间的注意力。\n",
    "- **多头机制**：将注意力分割成多个头，独立计算后再合并。\n",
    "\n",
    "## 3. 构建Transformer层\n",
    "\n",
    "每个Transformer层都包含一个多头自注意力子层和一个简单的前馈神经网络。这两个子层都有残差连接和标准化层。\n",
    "\n",
    "## 4. 构建位置编码\n",
    "\n",
    "位置编码是Transformer的一个关键部分，因为它给出了序列中每个元素的位置信息。通常，位置编码是通过正弦和余弦函数的组合来实现的。\n",
    "\n",
    "## 5. 构建编码器和解码器\n",
    "\n",
    "- **编码器**：包含N个相同的层，每层都有多头自注意力和前馈神经网络。\n",
    "- **解码器**：也包含N个层，但每层有两个多头自注意力机制，一个是自注意力，另一个是编码器-解码器注意力，以及一个前馈神经网络。\n",
    "\n",
    "## 6. 定义输出层\n",
    "\n",
    "输出层通常是一个线性层，用于将解码器的输出转换为所需的格式，例如，用于文本生成或分类。"
   ]
  },
  {
   "cell_type": "markdown",
   "id": "0660bbcf-20da-4b4b-8adc-a88fa1648307",
   "metadata": {},
   "source": [
    "## 代码开始\n",
    "\n",
    "（这里是否需要固定种子呢？）"
   ]
  },
  {
   "cell_type": "code",
   "execution_count": 1,
   "id": "73650114-ebe7-4e70-95f6-4583aa9664aa",
   "metadata": {
    "tags": []
   },
   "outputs": [
    {
     "name": "stdout",
     "output_type": "stream",
     "text": [
      "cpu thread num: 6\n",
      "device is cuda, cuda_device_0:NVIDIA GeForce RTX 4060 Ti\n",
      "INFO: Pandarallel will run on 6 workers.\n",
      "INFO: Pandarallel will use Memory file system to transfer data between the main process and workers.\n"
     ]
    }
   ],
   "source": [
    "import math\n",
    "import os\n",
    "import json\n",
    "import pickle\n",
    "import random\n",
    "import time\n",
    "from functools import partial\n",
    "import torch\n",
    "from torch import nn\n",
    "import torch.nn.functional as F\n",
    "from torch.utils.data import Dataset, DataLoader, random_split\n",
    "from torch.nn.utils.rnn import pad_sequence\n",
    "import torchtext\n",
    "from torchtext.data.utils import get_tokenizer\n",
    "from torchtext.vocab import build_vocab_from_iterator\n",
    "import pandas as pd\n",
    "import numpy as np\n",
    "from matplotlib import pyplot as plt\n",
    "import jieba\n",
    "from tqdm import tqdm\n",
    "from pandarallel import pandarallel\n",
    "\n",
    "cpu_threads = torch.get_num_threads()\n",
    "device = 'cuda' if torch.cuda.is_available() else 'cpu'\n",
    "print(f'cpu thread num: {cpu_threads}')\n",
    "print(f'device is {device}, cuda_device_0:{torch.cuda.get_device_name(0)}')\n",
    "\n",
    "# tqdm.pandas()\n",
    "pandarallel.initialize(progress_bar=True, nb_workers=cpu_threads)"
   ]
  },
  {
   "cell_type": "markdown",
   "id": "4e8a03dd-f053-4edb-a633-bd50a64ecf6e",
   "metadata": {
    "tags": []
   },
   "source": [
    "## 数据预处理\n",
    "\n",
    "使用pandas读取数据集，并输出基本情况"
   ]
  },
  {
   "cell_type": "code",
   "execution_count": 8,
   "id": "53846568-1a7a-4a1a-98cc-68bc892e5546",
   "metadata": {
    "tags": []
   },
   "outputs": [],
   "source": [
    "nrows = 300000 # 仅读取300k数据进行模型评估\n",
    "DATA_PATH = \"./dataset/DMSC_2M.csv\"\n",
    "df1 = pd.read_csv(DATA_PATH, nrows=nrows)"
   ]
  },
  {
   "cell_type": "code",
   "execution_count": 9,
   "id": "e08f9c8b-fc29-4717-9476-a782b981f9ce",
   "metadata": {
    "tags": []
   },
   "outputs": [
    {
     "name": "stdout",
     "output_type": "stream",
     "text": [
      "总数: 300000\n",
      "每列包含的内容: ['ID', 'Movie_Name_EN', 'Movie_Name_CN', 'Crawl_Date', 'Number', 'Username', 'Date', 'Star', 'Comment', 'Like']\n",
      "缺失元素: {'ID': 0, 'Movie_Name_EN': 0, 'Movie_Name_CN': 0, 'Crawl_Date': 0, 'Number': 0, 'Username': 19, 'Date': 0, 'Star': 0, 'Comment': 0, 'Like': 0}\n"
     ]
    },
    {
     "data": {
      "text/html": [
       "<div>\n",
       "<style scoped>\n",
       "    .dataframe tbody tr th:only-of-type {\n",
       "        vertical-align: middle;\n",
       "    }\n",
       "\n",
       "    .dataframe tbody tr th {\n",
       "        vertical-align: top;\n",
       "    }\n",
       "\n",
       "    .dataframe thead th {\n",
       "        text-align: right;\n",
       "    }\n",
       "</style>\n",
       "<table border=\"1\" class=\"dataframe\">\n",
       "  <thead>\n",
       "    <tr style=\"text-align: right;\">\n",
       "      <th></th>\n",
       "      <th>ID</th>\n",
       "      <th>Movie_Name_EN</th>\n",
       "      <th>Movie_Name_CN</th>\n",
       "      <th>Crawl_Date</th>\n",
       "      <th>Number</th>\n",
       "      <th>Username</th>\n",
       "      <th>Date</th>\n",
       "      <th>Star</th>\n",
       "      <th>Comment</th>\n",
       "      <th>Like</th>\n",
       "    </tr>\n",
       "  </thead>\n",
       "  <tbody>\n",
       "    <tr>\n",
       "      <th>0</th>\n",
       "      <td>0</td>\n",
       "      <td>Avengers Age of Ultron</td>\n",
       "      <td>复仇者联盟2</td>\n",
       "      <td>2017-01-22</td>\n",
       "      <td>1</td>\n",
       "      <td>然潘</td>\n",
       "      <td>2015-05-13</td>\n",
       "      <td>3</td>\n",
       "      <td>连奥创都知道整容要去韩国。</td>\n",
       "      <td>2404</td>\n",
       "    </tr>\n",
       "    <tr>\n",
       "      <th>1</th>\n",
       "      <td>1</td>\n",
       "      <td>Avengers Age of Ultron</td>\n",
       "      <td>复仇者联盟2</td>\n",
       "      <td>2017-01-22</td>\n",
       "      <td>2</td>\n",
       "      <td>更深的白色</td>\n",
       "      <td>2015-04-24</td>\n",
       "      <td>2</td>\n",
       "      <td>非常失望，剧本完全敷衍了事，主线剧情没突破大家可以理解，可所有的人物都缺乏动机，正邪之间、...</td>\n",
       "      <td>1231</td>\n",
       "    </tr>\n",
       "    <tr>\n",
       "      <th>2</th>\n",
       "      <td>2</td>\n",
       "      <td>Avengers Age of Ultron</td>\n",
       "      <td>复仇者联盟2</td>\n",
       "      <td>2017-01-22</td>\n",
       "      <td>3</td>\n",
       "      <td>有意识的贱民</td>\n",
       "      <td>2015-04-26</td>\n",
       "      <td>2</td>\n",
       "      <td>2015年度最失望作品。以为面面俱到，实则画蛇添足；以为主题深刻，实则老调重弹；以为推陈出...</td>\n",
       "      <td>1052</td>\n",
       "    </tr>\n",
       "    <tr>\n",
       "      <th>3</th>\n",
       "      <td>3</td>\n",
       "      <td>Avengers Age of Ultron</td>\n",
       "      <td>复仇者联盟2</td>\n",
       "      <td>2017-01-22</td>\n",
       "      <td>4</td>\n",
       "      <td>不老的李大爷耶</td>\n",
       "      <td>2015-04-23</td>\n",
       "      <td>4</td>\n",
       "      <td>《铁人2》中勾引钢铁侠，《妇联1》中勾引鹰眼，《美队2》中勾引美国队长，在《妇联2》中终于...</td>\n",
       "      <td>1045</td>\n",
       "    </tr>\n",
       "    <tr>\n",
       "      <th>4</th>\n",
       "      <td>4</td>\n",
       "      <td>Avengers Age of Ultron</td>\n",
       "      <td>复仇者联盟2</td>\n",
       "      <td>2017-01-22</td>\n",
       "      <td>5</td>\n",
       "      <td>ZephyrO</td>\n",
       "      <td>2015-04-22</td>\n",
       "      <td>2</td>\n",
       "      <td>虽然从头打到尾，但是真的很无聊啊。</td>\n",
       "      <td>723</td>\n",
       "    </tr>\n",
       "  </tbody>\n",
       "</table>\n",
       "</div>"
      ],
      "text/plain": [
       "   ID           Movie_Name_EN Movie_Name_CN  Crawl_Date  Number Username  \\\n",
       "0   0  Avengers Age of Ultron        复仇者联盟2  2017-01-22       1       然潘   \n",
       "1   1  Avengers Age of Ultron        复仇者联盟2  2017-01-22       2    更深的白色   \n",
       "2   2  Avengers Age of Ultron        复仇者联盟2  2017-01-22       3   有意识的贱民   \n",
       "3   3  Avengers Age of Ultron        复仇者联盟2  2017-01-22       4  不老的李大爷耶   \n",
       "4   4  Avengers Age of Ultron        复仇者联盟2  2017-01-22       5  ZephyrO   \n",
       "\n",
       "         Date  Star                                            Comment  Like  \n",
       "0  2015-05-13     3                                      连奥创都知道整容要去韩国。  2404  \n",
       "1  2015-04-24     2   非常失望，剧本完全敷衍了事，主线剧情没突破大家可以理解，可所有的人物都缺乏动机，正邪之间、...  1231  \n",
       "2  2015-04-26     2   2015年度最失望作品。以为面面俱到，实则画蛇添足；以为主题深刻，实则老调重弹；以为推陈出...  1052  \n",
       "3  2015-04-23     4   《铁人2》中勾引钢铁侠，《妇联1》中勾引鹰眼，《美队2》中勾引美国队长，在《妇联2》中终于...  1045  \n",
       "4  2015-04-22     2                                  虽然从头打到尾，但是真的很无聊啊。   723  "
      ]
     },
     "execution_count": 9,
     "metadata": {},
     "output_type": "execute_result"
    }
   ],
   "source": [
    "print(\"总数:\", len(df1))\n",
    "print(\"每列包含的内容:\", df1.columns.tolist())\n",
    "print(\"缺失元素:\", df1.isnull().sum().to_dict())\n",
    "df1.head()\n",
    "\n",
    "# 总数: 2125056\n",
    "# 每列包含的内容: ['ID', 'Movie_Name_EN', 'Movie_Name_CN', 'Crawl_Date', 'Number', 'Username', 'Date', 'Star', 'Comment', 'Like']\n",
    "# 缺失元素: {'ID': 0, 'Movie_Name_EN': 0, 'Movie_Name_CN': 0, 'Crawl_Date': 0, 'Number': 0, 'Username': 173, 'Date': 0, 'Star': 0, 'Comment': 0, 'Like': 0}"
   ]
  },
  {
   "cell_type": "code",
   "execution_count": 10,
   "id": "ea86f432-0943-48ae-806b-7a47c2cb74d6",
   "metadata": {
    "tags": []
   },
   "outputs": [],
   "source": [
    "nrows = 1\n",
    "DATA_PATH = \"./dataset/DMSC_10M.csv\"\n",
    "df2 = pd.read_csv(DATA_PATH, nrows=nrows)"
   ]
  },
  {
   "cell_type": "code",
   "execution_count": 11,
   "id": "15370a90-199d-4758-92f0-1ed37e30f1e1",
   "metadata": {
    "tags": []
   },
   "outputs": [
    {
     "name": "stdout",
     "output_type": "stream",
     "text": [
      "总数: 1\n",
      "每列包含的内容: ['ID', 'Movie_Name', 'Score', 'Review_People', 'Star_Distribution', 'Craw_Date', 'Username', 'Date', 'Star', 'Comment', 'Comment_Distribution', 'Like']\n",
      "缺失元素: {'ID': 0, 'Movie_Name': 0, 'Score': 0, 'Review_People': 0, 'Star_Distribution': 0, 'Craw_Date': 0, 'Username': 0, 'Date': 0, 'Star': 0, 'Comment': 0, 'Comment_Distribution': 0, 'Like': 0}\n"
     ]
    },
    {
     "data": {
      "text/html": [
       "<div>\n",
       "<style scoped>\n",
       "    .dataframe tbody tr th:only-of-type {\n",
       "        vertical-align: middle;\n",
       "    }\n",
       "\n",
       "    .dataframe tbody tr th {\n",
       "        vertical-align: top;\n",
       "    }\n",
       "\n",
       "    .dataframe thead th {\n",
       "        text-align: right;\n",
       "    }\n",
       "</style>\n",
       "<table border=\"1\" class=\"dataframe\">\n",
       "  <thead>\n",
       "    <tr style=\"text-align: right;\">\n",
       "      <th></th>\n",
       "      <th>ID</th>\n",
       "      <th>Movie_Name</th>\n",
       "      <th>Score</th>\n",
       "      <th>Review_People</th>\n",
       "      <th>Star_Distribution</th>\n",
       "      <th>Craw_Date</th>\n",
       "      <th>Username</th>\n",
       "      <th>Date</th>\n",
       "      <th>Star</th>\n",
       "      <th>Comment</th>\n",
       "      <th>Comment_Distribution</th>\n",
       "      <th>Like</th>\n",
       "    </tr>\n",
       "  </thead>\n",
       "  <tbody>\n",
       "    <tr>\n",
       "      <th>0</th>\n",
       "      <td>0</td>\n",
       "      <td>1988年的妮可 Nico, 1988</td>\n",
       "      <td>7.5</td>\n",
       "      <td>565</td>\n",
       "      <td>15.2%48.2%32.3%3.4%0.8%</td>\n",
       "      <td>2019-10-05</td>\n",
       "      <td>尾黑</td>\n",
       "      <td>2018-06-23</td>\n",
       "      <td>3</td>\n",
       "      <td>成本低廉的PPT电影，用Nico生命中最后一年发生的事给Nico的歌配上情节，倒不算尴尬。女...</td>\n",
       "      <td>66%31%3%</td>\n",
       "      <td>4</td>\n",
       "    </tr>\n",
       "  </tbody>\n",
       "</table>\n",
       "</div>"
      ],
      "text/plain": [
       "   ID           Movie_Name  Score  Review_People        Star_Distribution  \\\n",
       "0   0  1988年的妮可 Nico, 1988    7.5            565  15.2%48.2%32.3%3.4%0.8%   \n",
       "\n",
       "    Craw_Date Username        Date  Star  \\\n",
       "0  2019-10-05       尾黑  2018-06-23     3   \n",
       "\n",
       "                                             Comment Comment_Distribution  \\\n",
       "0  成本低廉的PPT电影，用Nico生命中最后一年发生的事给Nico的歌配上情节，倒不算尴尬。女...             66%31%3%   \n",
       "\n",
       "   Like  \n",
       "0     4  "
      ]
     },
     "execution_count": 11,
     "metadata": {},
     "output_type": "execute_result"
    }
   ],
   "source": [
    "print(\"总数:\", len(df2))\n",
    "print(\"每列包含的内容:\", df2.columns.tolist())\n",
    "print(\"缺失元素:\", df2.isnull().sum().to_dict())\n",
    "df2.head()\n",
    "\n",
    "# 总数: 10310989\n",
    "# 每列包含的内容: ['ID', 'Movie_Name', 'Score', 'Review_People', 'Star_Distribution', 'Craw_Date', 'Username', 'Date', 'Star', 'Comment', 'Comment_Distribution', 'Like']\n",
    "# 缺失元素: {'ID': 0, 'Movie_Name': 0, 'Score': 0, 'Review_People': 0, 'Star_Distribution': 0, 'Craw_Date': 0, 'Username': 1876, 'Date': 0, 'Star': 0, 'Comment': 7, 'Comment_Distribution': 0, 'Like': 0}"
   ]
  },
  {
   "cell_type": "code",
   "execution_count": 12,
   "id": "10c253ff-395b-4f29-a7ee-3aea1ca13f33",
   "metadata": {
    "tags": []
   },
   "outputs": [
    {
     "name": "stdout",
     "output_type": "stream",
     "text": [
      "总数: 286153\n"
     ]
    },
    {
     "data": {
      "text/html": [
       "<div>\n",
       "<style scoped>\n",
       "    .dataframe tbody tr th:only-of-type {\n",
       "        vertical-align: middle;\n",
       "    }\n",
       "\n",
       "    .dataframe tbody tr th {\n",
       "        vertical-align: top;\n",
       "    }\n",
       "\n",
       "    .dataframe thead th {\n",
       "        text-align: right;\n",
       "    }\n",
       "</style>\n",
       "<table border=\"1\" class=\"dataframe\">\n",
       "  <thead>\n",
       "    <tr style=\"text-align: right;\">\n",
       "      <th></th>\n",
       "      <th>Comment</th>\n",
       "      <th>Star</th>\n",
       "    </tr>\n",
       "  </thead>\n",
       "  <tbody>\n",
       "    <tr>\n",
       "      <th>0</th>\n",
       "      <td>连奥创都知道整容要去韩国。</td>\n",
       "      <td>3</td>\n",
       "    </tr>\n",
       "    <tr>\n",
       "      <th>1</th>\n",
       "      <td>非常失望，剧本完全敷衍了事，主线剧情没突破大家可以理解，可所有的人物都缺乏动机，正邪之间、...</td>\n",
       "      <td>2</td>\n",
       "    </tr>\n",
       "    <tr>\n",
       "      <th>2</th>\n",
       "      <td>2015年度最失望作品。以为面面俱到，实则画蛇添足；以为主题深刻，实则老调重弹；以为推陈出...</td>\n",
       "      <td>2</td>\n",
       "    </tr>\n",
       "    <tr>\n",
       "      <th>3</th>\n",
       "      <td>《铁人2》中勾引钢铁侠，《妇联1》中勾引鹰眼，《美队2》中勾引美国队长，在《妇联2》中终于...</td>\n",
       "      <td>4</td>\n",
       "    </tr>\n",
       "    <tr>\n",
       "      <th>4</th>\n",
       "      <td>虽然从头打到尾，但是真的很无聊啊。</td>\n",
       "      <td>2</td>\n",
       "    </tr>\n",
       "  </tbody>\n",
       "</table>\n",
       "</div>"
      ],
      "text/plain": [
       "                                             Comment  Star\n",
       "0                                      连奥创都知道整容要去韩国。     3\n",
       "1   非常失望，剧本完全敷衍了事，主线剧情没突破大家可以理解，可所有的人物都缺乏动机，正邪之间、...     2\n",
       "2   2015年度最失望作品。以为面面俱到，实则画蛇添足；以为主题深刻，实则老调重弹；以为推陈出...     2\n",
       "3   《铁人2》中勾引钢铁侠，《妇联1》中勾引鹰眼，《美队2》中勾引美国队长，在《妇联2》中终于...     4\n",
       "4                                  虽然从头打到尾，但是真的很无聊啊。     2"
      ]
     },
     "execution_count": 12,
     "metadata": {},
     "output_type": "execute_result"
    }
   ],
   "source": [
    "combined_comment = pd.concat([df1[\"Comment\"], df2[\"Comment\"]])\n",
    "combined_star = pd.concat([df1[\"Star\"], df2[\"Star\"]])\n",
    "\n",
    "combined_df = pd.DataFrame({\"Comment\": combined_comment, \"Star\": combined_star}).dropna()\n",
    "del df1, df2\n",
    "\n",
    "combined_df_unique = combined_df.drop_duplicates().reset_index(drop=True) # 删除重复行，重置索引并覆盖原索引\n",
    "print(\"总数:\", len(combined_df_unique)) # 12M数据集有效评论总数: 11494120\n",
    "combined_df_unique.head()"
   ]
  },
  {
   "cell_type": "markdown",
   "id": "b215e7e6-8b9c-40f0-b4b9-61c660a00adf",
   "metadata": {},
   "source": [
    "### 绘制星级的分布条形图"
   ]
  },
  {
   "cell_type": "code",
   "execution_count": 13,
   "id": "4125082b-392d-4fcb-b98a-d2dd2a9b5da4",
   "metadata": {
    "tags": []
   },
   "outputs": [
    {
     "data": {
      "image/png": "[encoded data removed]",
      "text/plain": [
       "<Figure size 640x480 with 1 Axes>"
      ]
     },
     "metadata": {},
     "output_type": "display_data"
    }
   ],
   "source": [
    "plt.hist(combined_df_unique['Star'], bins=[0.5, 1.5, 2.5, 3.5, 4.5, 5.5], edgecolor='black')\n",
    "plt.xlabel('Star Rating')\n",
    "plt.ylabel('Frequency')\n",
    "plt.xticks([1, 2, 3, 4, 5])\n",
    "plt.show()"
   ]
  },
  {
   "cell_type": "markdown",
   "id": "c3378192-986b-4ab0-838f-cf82774c5603",
   "metadata": {},
   "source": [
    "### 创建词典\n",
    "\n",
    "首先需要使用jieba库进行中文分词，并结合停用词表过滤不需要的词。\n",
    "\n",
    "同时统一句子长度，超过指定值的截断，小于指定值的使用\"\\<pad\\>\"补全。"
   ]
  },
  {
   "cell_type": "code",
   "execution_count": 14,
   "id": "52b900f3-0ad4-4a22-8c75-073abb5d0dc3",
   "metadata": {
    "tags": []
   },
   "outputs": [],
   "source": [
    "# 读取停用词表\n",
    "stopwords_list_path = [\n",
    "    \"./stopwords/baidu_stopwords.txt\",\n",
    "    \"./stopwords/cn_stopwords.txt\",\n",
    "    \"./stopwords/hit_stopwords.txt\",\n",
    "    \"./stopwords/scu_stopwords.txt\",\n",
    "]\n",
    "\n",
    "def load_stopwords(paths:list[str]) -> set[str]:\n",
    "    stopwords = []\n",
    "    for path in paths:\n",
    "        with open(path, \"r\", encoding=\"utf-8\") as f_obj:\n",
    "            stopwords += [line.strip() for line in f_obj]\n",
    "            \n",
    "    return set(stopwords)\n",
    "\n",
    "stopwords = load_stopwords(stopwords_list_path)"
   ]
  },
  {
   "cell_type": "code",
   "execution_count": 15,
   "id": "b628df53-0576-48cf-a245-43305fe22bac",
   "metadata": {
    "tags": []
   },
   "outputs": [
    {
     "data": {
      "application/vnd.jupyter.widget-view+json": {
       "model_id": "cc72aeede32f4d1791c569cacb6a1e42",
       "version_major": 2,
       "version_minor": 0
      },
      "text/plain": [
       "VBox(children=(HBox(children=(IntProgress(value=0, description='0.00%', max=47693), Label(value='0 / 47693')))…"
      ]
     },
     "metadata": {},
     "output_type": "display_data"
    },
    {
     "name": "stderr",
     "output_type": "stream",
     "text": [
      "Building prefix dict from the default dictionary ...\n",
      "Building prefix dict from the default dictionary ...\n",
      "Building prefix dict from the default dictionary ...\n",
      "Building prefix dict from the default dictionary ...\n",
      "Loading model from cache /tmp/jieba.cache\n",
      "Loading model from cache /tmp/jieba.cache\n",
      "Loading model from cache /tmp/jieba.cache\n",
      "Loading model from cache /tmp/jieba.cache\n",
      "Building prefix dict from the default dictionary ...\n",
      "Loading model from cache /tmp/jieba.cache\n",
      "Building prefix dict from the default dictionary ...\n",
      "Loading model from cache /tmp/jieba.cache\n",
      "Loading model cost 0.540 seconds.\n",
      "Prefix dict has been built successfully.\n",
      "Loading model cost 0.544 seconds.\n",
      "Prefix dict has been built successfully.\n",
      "Loading model cost 0.563 seconds.\n",
      "Prefix dict has been built successfully.\n",
      "Loading model cost 0.571 seconds.\n",
      "Prefix dict has been built successfully.\n",
      "Loading model cost 0.587 seconds.\n",
      "Prefix dict has been built successfully.\n",
      "Loading model cost 0.626 seconds.\n",
      "Prefix dict has been built successfully.\n"
     ]
    },
    {
     "name": "stdout",
     "output_type": "stream",
     "text": [
      "finished in 9.365864211998996s!\n"
     ]
    },
    {
     "data": {
      "text/plain": [
       "0                      [连, 奥创, 都, 知道, 整容, 要, 去, 韩国, 。]\n",
       "1    [非常, 失望, ，, 剧本, 完全, 敷衍了事, ，, 主线, 剧情, 没, 突破, 大家...\n",
       "2    [2015, 年度, 最, 失望, 作品, 。, 以为, 面面俱到, ，, 实则, 画蛇添足...\n",
       "3    [《, 铁人, 2, 》, 中, 勾引, 钢铁, 侠, ，, 《, 妇联, 1, 》, 中,...\n",
       "4              [虽然, 从头, 打到, 尾, ，, 但是, 真的, 很, 无聊, 啊, 。]\n",
       "Name: Comment, dtype: object"
      ]
     },
     "execution_count": 15,
     "metadata": {},
     "output_type": "execute_result"
    }
   ],
   "source": [
    "# 使用jieba分词，可选用停用词表进行筛选\n",
    "def tokenize_str(sentence:str, use_stopwords:bool=False) -> list[str]:\n",
    "    seg_list = list(jieba.cut(sentence.strip(), cut_all=False))\n",
    "    if use_stopwords == False:\n",
    "        return seg_list\n",
    "    \n",
    "    filtered_words = [word for word in seg_list if word not in stopwords]\n",
    "    return filtered_words\n",
    "\n",
    "tokenize_str = partial(tokenize_str, use_stopwords=False) # 是否启用停用词表\n",
    "tokenizer = get_tokenizer(tokenize_str)\n",
    "\n",
    "start_time = time.perf_counter()\n",
    "# tokenized = df['Comment'].progress_apply(tokenizer)\n",
    "tokenized = combined_df_unique['Comment'].parallel_apply(tokenizer)\n",
    "print(f\"finished in {time.perf_counter() - start_time}s!\")\n",
    "\n",
    "tokenized.head()"
   ]
  },
  {
   "cell_type": "code",
   "execution_count": 17,
   "id": "f44cf693-e256-47ab-bbe7-3c93fcfcb941",
   "metadata": {
    "tags": []
   },
   "outputs": [
    {
     "name": "stdout",
     "output_type": "stream",
     "text": [
      "vocab len:58370\n"
     ]
    }
   ],
   "source": [
    "# 构建词汇表\n",
    "vocab = build_vocab_from_iterator(tokenized, min_freq=2, specials=('<unk>', '<pad>'))\n",
    "vocab.set_default_index(vocab[\"<unk>\"]) # 将不在词汇表中的词语设置为\"<unk>\"\n",
    "print(f\"vocab len:{len(vocab)}\")"
   ]
  },
  {
   "cell_type": "code",
   "execution_count": 18,
   "id": "d3cb60b7-ed20-4e7b-9214-49b5d757f5ba",
   "metadata": {
    "tags": []
   },
   "outputs": [],
   "source": [
    "with open('./model/12M_vocab_freq4.pkl', 'wb') as f:\n",
    "    pickle.dump(vocab, f)"
   ]
  },
  {
   "cell_type": "code",
   "execution_count": 19,
   "id": "0c416bf8",
   "metadata": {
    "tags": []
   },
   "outputs": [],
   "source": [
    "with open('./model/12M_vocab_freq4.pkl', 'rb') as f:\n",
    "    vocab = pickle.load(f)"
   ]
  },
  {
   "cell_type": "markdown",
   "id": "4b4c413c-ae7c-41c1-a06b-f006b9b42502",
   "metadata": {
    "tags": []
   },
   "source": [
    "### 统一句子长度\n",
    "\n",
    "绘制电影评论长度分布图像，用于之后进行pad_sequence统一句子长度时参考"
   ]
  },
  {
   "cell_type": "code",
   "execution_count": 21,
   "id": "264e3f72-81e3-4fda-8511-de91727050f7",
   "metadata": {
    "tags": []
   },
   "outputs": [
    {
     "data": {
      "image/png": "[encoded data removed]",
      "text/plain": [
       "<Figure size 1000x600 with 1 Axes>"
      ]
     },
     "metadata": {},
     "output_type": "display_data"
    }
   ],
   "source": [
    "df_length = tokenized.apply(len)\n",
    "plt.figure(figsize=(10, 6))\n",
    "plt.hist(df_length, bins=30, edgecolor='black')\n",
    "plt.xlabel('sentence length (number of character)')\n",
    "plt.ylabel('Frequency')\n",
    "plt.show()"
   ]
  },
  {
   "cell_type": "code",
   "execution_count": 23,
   "id": "25ebcb9c-518b-4821-b5c4-9059055cce1f",
   "metadata": {
    "tags": []
   },
   "outputs": [
    {
     "name": "stdout",
     "output_type": "stream",
     "text": [
      "256994 89.80999674999039%\n"
     ]
    }
   ],
   "source": [
    "filtered_df = tokenized[df_length < 64]\n",
    "num_sentences_less_than = filtered_df.shape[0]\n",
    "print(num_sentences_less_than, f'{num_sentences_less_than / len(tokenized) * 100}%')\n",
    "# 长度小于256的评论有82597条，占比82.597%"
   ]
  },
  {
   "cell_type": "code",
   "execution_count": 24,
   "id": "df0298d6-ca01-48bd-bfe4-8252e8e06163",
   "metadata": {
    "tags": []
   },
   "outputs": [
    {
     "name": "stdout",
     "output_type": "stream",
     "text": [
      "0                      [连, 奥创, 都, 知道, 整容, 要, 去, 韩国, 。]\n",
      "1    [非常, 失望, ，, 剧本, 完全, 敷衍了事, ，, 主线, 剧情, 没, 突破, 大家...\n",
      "2    [2015, 年度, 最, 失望, 作品, 。, 以为, 面面俱到, ，, 实则, 画蛇添足...\n",
      "3    [《, 铁人, 2, 》, 中, 勾引, 钢铁, 侠, ，, 《, 妇联, 1, 》, 中,...\n",
      "4              [虽然, 从头, 打到, 尾, ，, 但是, 真的, 很, 无聊, 啊, 。]\n",
      "Name: Comment, dtype: object 286153\n",
      "tensor([[  479,   333,    12,    92,  3354,    64,    50,  1196,     4,     1,\n",
      "             1,     1,     1,     1,     1,     1,     1,     1,     1,     1,\n",
      "             1,     1,     1,     1,     1,     1,     1,     1,     1,     1,\n",
      "             1,     1,     1,     1,     1,     1,     1,     1,     1,     1,\n",
      "             1,     1,     1,     1,     1,     1,     1,     1,     1,     1,\n",
      "             1,     1,     1,     1,     1,     1,     1,     1,     1,     1,\n",
      "             1,     1,     1,     1],\n",
      "        [  195,   164,     2,   339,   147, 10906,     2,   863,    14,    35,\n",
      "          1210,   237,    55,   388,     2,   406,   393,     3,   109,    12,\n",
      "          1230,  1744,     2, 10189,   762,    65,   265,  1509,    12,   324,\n",
      "          5731,     4,  2404,   361,  1960,   361,  2404,     3, 12370,    84,\n",
      "           667,    39,   126,    13,    55,  3162, 16157,   847,     3,   931,\n",
      "          2061,   462,   367,   735,     2,    39,   339,  8807,   195,  1955,\n",
      "            65,  7087,     4,   153],\n",
      "        [ 2081,  2103,   106,   164,   286,     4,   284,  6708,     2,  4512,\n",
      "          6472,   246,   284, 18083,     2,  4512, 17791,   246,   284, 18494,\n",
      "             2,  4512, 14046,   246,   284,   153,    11,  2082,     2,  4512,\n",
      "          2082,  2615,   688,     4,  1714,     8,    74,  1508,     3,  5263,\n",
      "          5620,     2,  2493,     3,   251,   137,   485,  1237,    69, 17489,\n",
      "             4,   623,    29,   710,  1451,    27,     9,    21,  1550,  1108,\n",
      "             3,   114,     2,   716],\n",
      "        [  143,   650,   134,   144,   140,  7316,    95,   107,     2,   143,\n",
      "           265,   170,   144,   140,  7316,   455,     2,   143,    59,   134,\n",
      "           144,   140,  7316,   192,   122,     2,    23,   143,   265,   134,\n",
      "           144,   140,   398,    19,    19,   128,   370,  2001,     5,     2,\n",
      "           363,   219, 15313,   723,     5,   167,    44,   326, 24051,   246,\n",
      "           245,   105, 10925, 12762, 12766,   479,  5373,  4236,    12,   503,\n",
      "             5, 25463, 35881,   548],\n",
      "        [   84,   999,  1600,   961,     2,    45,    47,    11,   299,    30,\n",
      "             4,     1,     1,     1,     1,     1,     1,     1,     1,     1,\n",
      "             1,     1,     1,     1,     1,     1,     1,     1,     1,     1,\n",
      "             1,     1,     1,     1,     1,     1,     1,     1,     1,     1,\n",
      "             1,     1,     1,     1,     1,     1,     1,     1,     1,     1,\n",
      "             1,     1,     1,     1,     1,     1,     1,     1,     1,     1,\n",
      "             1,     1,     1,     1]]) 5\n"
     ]
    }
   ],
   "source": [
    "# 统一句子长度\n",
    "# 在这里仅先处理前五条测试，完整的数据在DataLoader中处理\n",
    "indexed_sequences = [torch.tensor([vocab[token] for token in seq]) for seq in tokenized[:5]]\n",
    "padded_sequences = pad_sequence(indexed_sequences, batch_first=True, padding_value=vocab['<pad>'])\n",
    "target_length = 64\n",
    "padded_sequences = padded_sequences[:, :target_length]\n",
    "\n",
    "print(tokenized[:5], len(tokenized))\n",
    "print(padded_sequences[:5], len(padded_sequences))"
   ]
  },
  {
   "cell_type": "code",
   "execution_count": null,
   "id": "a921887e",
   "metadata": {
    "tags": []
   },
   "outputs": [],
   "source": [
    "# 储存已经分好词的数据\n",
    "tokenized_json = tokenized.apply(json.dumps)\n",
    "dataset = pd.DataFrame({\"Comment\": tokenized_json, \"Star\": combined_df_unique[\"Star\"]})\n",
    "# del tokenized, combined_df_unique\n",
    "\n",
    "# 分区储存，每个区块大小为100000\n",
    "chunk_size = 100000\n",
    "for i in range(0, len(dataset), chunk_size):\n",
    "    chunk = data[i:i + chunk_size]\n",
    "    chunk.to_csv(f'tokenized_12M_dataset_chunk_{i}.csv', index=False)\n",
    "    print(f\"save i={i} success!\")"
   ]
  },
  {
   "cell_type": "markdown",
   "id": "6f960d7a-85cc-47d1-ac57-28424648c7ac",
   "metadata": {},
   "source": [
    "### 创建Dataset和DataLoader\n",
    "\n",
    "将前面的数据预处理部分放入Dataset，1-2星为负面，3星中性，4-5星正面\n",
    "\n",
    "将padding的处理部分也放入DataLoader中"
   ]
  },
  {
   "cell_type": "code",
   "execution_count": 70,
   "id": "e785b29e-18a8-4178-83ad-33cf9c3acc9a",
   "metadata": {
    "tags": []
   },
   "outputs": [],
   "source": [
    "class CommentSet(Dataset):\n",
    "    def __init__(self, Comments:pd.Series, Stars:pd.Series, \n",
    "                 vocab:torchtext.vocab.Vocab, padding_value:int, max_len:int=64) -> None:\n",
    "        assert Stars.min() >= 1 and Stars.max() <= 5, \"Label out of range\"\n",
    "        assert len(Comments) == len(Stars), \"The number of comments and stars is not the same!\"\n",
    "        self.Comments = Comments\n",
    "        self.Stars = torch.tensor(Stars, dtype=torch.long)\n",
    "\n",
    "        self.vocab = vocab\n",
    "        self.padding_value = padding_value\n",
    "        self.max_len = max_len\n",
    "        \n",
    "    def __len__(self):\n",
    "        return len(self.Comments)\n",
    "\n",
    "    def __getitem__(self, idx:int) -> tuple:\n",
    "        star = self.Stars[idx] - 1\n",
    "        # assert 0 <= star < 5, \"The converted label is out of range\"\n",
    "        if star <= 2:  # 1 and 2 stars are considered negative reviews\n",
    "            label = 0\n",
    "        elif star == 3:  # 3 stars are considered neutral reviews\n",
    "            label = 1\n",
    "        else:  # 4 and 5 stars are considered positive reviews\n",
    "            label = 2\n",
    "\n",
    "        indexed_seq = [self.vocab[token] for token in self.Comments[idx]]\n",
    "        indexed_seq = torch.tensor(indexed_seq[:self.max_len] if len(indexed_seq) > self.max_len \n",
    "                                   else indexed_seq + [self.padding_value] * (self.max_len - len(indexed_seq)), dtype=torch.long)\n",
    "        return indexed_seq, label\n",
    "    \n",
    "comment_set = CommentSet(tokenized, combined_df_unique[\"Star\"], vocab=vocab, padding_value=vocab['<pad>'], max_len=64)"
   ]
  },
  {
   "cell_type": "code",
   "execution_count": 71,
   "id": "51170619",
   "metadata": {
    "tags": []
   },
   "outputs": [
    {
     "name": "stdout",
     "output_type": "stream",
     "text": [
      "train dataset size: 228922, validation dataset size: 57231\n"
     ]
    }
   ],
   "source": [
    "# 划分数据集\n",
    "percentage = 0.8\n",
    "train_size = int(len(comment_set) * percentage)\n",
    "validation_size = len(comment_set) - train_size\n",
    "print(f\"train dataset size: {train_size}, validation dataset size: {validation_size}\")\n",
    "\n",
    "train_dataset, valid_dataset = random_split(comment_set, [train_size, validation_size])"
   ]
  },
  {
   "cell_type": "code",
   "execution_count": 72,
   "id": "b94dd3f8-77e4-44c1-8842-e44beb4dd5ed",
   "metadata": {
    "tags": []
   },
   "outputs": [],
   "source": [
    "# 创建DataLoader\n",
    "train_loader = DataLoader(train_dataset, batch_size=32, shuffle=True, num_workers=cpu_threads, pin_memory=True)\n",
    "valid_loader = DataLoader(valid_dataset, batch_size=32, shuffle=True, num_workers=cpu_threads, pin_memory=True)"
   ]
  },
  {
   "cell_type": "code",
   "execution_count": 75,
   "id": "f22d51cc",
   "metadata": {
    "tags": []
   },
   "outputs": [
    {
     "name": "stdout",
     "output_type": "stream",
     "text": [
      "tensor([[  350,   604,     1,  ...,     1,     1,     1],\n",
      "        [  215,     6,   203,  ...,     1,     1,     1],\n",
      "        [ 1320,   229,     2,  ...,     1,     1,     1],\n",
      "        ...,\n",
      "        [  218,  1234,   261,  ...,  1401,  5823,     2],\n",
      "        [  199,   496,   346,  ...,     1,     1,     1],\n",
      "        [  167,    23, 12568,  ...,     1,     1,     1]]) torch.Size([32, 64])\n",
      "tensor([1, 0, 0, 0, 0, 1, 0, 1, 1, 0, 0, 2, 2, 0, 1, 1, 0, 1, 0, 0, 0, 0, 2, 0,\n",
      "        0, 2, 1, 1, 1, 0, 1, 0]) torch.Size([32])\n"
     ]
    }
   ],
   "source": [
    "for X, y in train_loader:\n",
    "    print(X, X.shape)\n",
    "    print(y, y.shape)\n",
    "    break\n",
    "# print(comment, comment.dtype)\n",
    "# print(star, star.dtype)\n",
    "# print(len(comment), len(star))"
   ]
  },
  {
   "cell_type": "markdown",
   "id": "ea02ae08-1ce3-452f-996b-14d5c17b6a26",
   "metadata": {
    "tags": []
   },
   "source": [
    "## 模型构造\n",
    "\n",
    "<img src=\"./images/transformer.png\" title=\"transformer\" width=\"600\" alt=\"transformer基本架构 图片来自论文https://arxiv.org/abs/2106.04554\">\n",
    "<p>transformer基本架构</p>\n",
    "\n",
    "图片来自论文：https://arxiv.org/abs/2106.04554\n",
    "\n",
    "讲解视频：https://www.bilibili.com/video/BV1cP4y1V7GF/\n",
    "\n",
    "大致分为几部分：\n",
    "* 词嵌入\n",
    "* 位置编码\n",
    "* 多头注意力\n",
    "    * 多头机制\n",
    "    * 缩放点积自注意力(Scaled Dot-Product Attention)\n",
    "    * 带掩码的多头注意力(mask)\n",
    "* 编码器和解码器\n",
    "    * 基于位置的前馈神经网络 (Position-Wise Feed-Forward Network)    \n",
    "    * 多头注意力    \n",
    "    * Add & Norm\n",
    "    \n",
    "***注***：在transformer模型中，模型维度d_model一般指的是词嵌入维度"
   ]
  },
  {
   "cell_type": "code",
   "execution_count": 76,
   "id": "cf496d07-9889-431c-9e3a-16430144ff4b",
   "metadata": {
    "tags": []
   },
   "outputs": [],
   "source": [
    "# 模型超参数\n",
    "batch_size = 32\n",
    "max_len = 64\n",
    "d_model = 512\n",
    "num_heads = 8\n",
    "d_ff = 2048\n",
    "n_layers = 6\n",
    "d_k = d_model // num_heads"
   ]
  },
  {
   "cell_type": "markdown",
   "id": "2668cdc7-006f-43c4-a7d7-9f36a997a0ff",
   "metadata": {},
   "source": [
    "### 词嵌入\n",
    "\n",
    "使用pytorch自带的nn.Embedding()层\n",
    "\n",
    "* 官方文档：https://pytorch.org/docs/stable/generated/torch.nn.Embedding.html\n",
    "\n",
    "在 PyTorch 中，`torch.nn.Embedding` 类是一个用于存储固定字典和大小的嵌入（embeddings）的简单查找表。这个模块通常用于存储单词嵌入，并使用索引来检索它们。该模块的输入是索引列表，输出是相应的单词嵌入。\n",
    "\n",
    "| 参数名称 | 类型 | 描述 |\n",
    "|----------|------|------|\n",
    "| num_embeddings | int | 嵌入字典的大小 |\n",
    "| embedding_dim | int | 每个嵌入向量的维度大小 |\n",
    "| padding_idx | int, 可选 | 如果指定，padding_idx 的条目不会对梯度产生影响；因此，训练期间 padding_idx 的嵌入向量不会更新，即它保持为固定的“填充”（默认为全零，但可以更新为其他值） |\n",
    "| max_norm | float, 可选 | 如果给定，每个嵌入向量的范数大于 max_norm 时，会被重新标准化为 max_norm |\n",
    "| norm_type | float, 可选 | 用于 max_norm 选项的 p-范数的 p 值（默认为2） |\n",
    "| scale_grad_by_freq | bool, 可选 | 如果给定，将通过单词在小批量中的频率的逆来缩放梯度（默认为 False） |\n",
    "| sparse | bool, 可选 | 如果为 True，权重矩阵相对的梯度将是一个稀疏张量（参见备注了解有关稀疏梯度的更多细节） |\n",
    "\n",
    "变量：\n",
    "- weight (Tensor)：模块的可学习权重，形状为 (num_embeddings, embedding_dim)，从 N(0,1) 分布初始化。"
   ]
  },
  {
   "cell_type": "code",
   "execution_count": 78,
   "id": "ab7fb944-e7f5-461b-a406-2d85a7124fc1",
   "metadata": {
    "tags": []
   },
   "outputs": [
    {
     "name": "stdout",
     "output_type": "stream",
     "text": [
      "tensor([[  174,     2,    84,  ...,     1,     1,     1],\n",
      "        [  647, 35477,     5,  ...,     1,     1,     1],\n",
      "        [   26,    55,    41,  ...,     1,     1,     1],\n",
      "        ...,\n",
      "        [    0,     6,  1098,  ...,     1,     1,     1],\n",
      "        [  106,   831,     3,  ...,     1,     1,     1],\n",
      "        [ 1312,   325,   121,  ...,     1,     1,     1]]) torch.Size([32, 64])\n",
      "tensor([[[-1.0259,  0.3733,  0.4829,  ..., -0.2115,  2.2187,  0.0670],\n",
      "         [ 1.1310,  0.0096, -0.1892,  ...,  0.0466, -0.0429,  0.5351],\n",
      "         [-1.3117, -1.7394, -1.3943,  ...,  1.3900,  0.5009,  1.6130],\n",
      "         ...,\n",
      "         [-1.3899, -0.6696, -0.3414,  ...,  1.2036, -0.0468,  0.0093],\n",
      "         [-1.3899, -0.6696, -0.3414,  ...,  1.2036, -0.0468,  0.0093],\n",
      "         [-1.3899, -0.6696, -0.3414,  ...,  1.2036, -0.0468,  0.0093]],\n",
      "\n",
      "        [[ 2.0200, -0.9799,  0.4386,  ...,  1.6562, -0.3513, -3.4564],\n",
      "         [-0.9645, -0.0855, -0.4703,  ...,  1.1740, -2.3141, -1.2211],\n",
      "         [ 0.5146,  0.1288,  1.8759,  ...,  0.4281,  1.3544,  0.0224],\n",
      "         ...,\n",
      "         [-1.3899, -0.6696, -0.3414,  ...,  1.2036, -0.0468,  0.0093],\n",
      "         [-1.3899, -0.6696, -0.3414,  ...,  1.2036, -0.0468,  0.0093],\n",
      "         [-1.3899, -0.6696, -0.3414,  ...,  1.2036, -0.0468,  0.0093]],\n",
      "\n",
      "        [[-1.7862,  0.6285, -0.2044,  ..., -0.9004,  0.1174, -1.8458],\n",
      "         [-0.4290,  0.2625, -0.7102,  ...,  1.8213, -1.8101,  0.3534],\n",
      "         [-0.3740, -0.6328,  1.3576,  ..., -0.2292,  0.1326, -0.0844],\n",
      "         ...,\n",
      "         [-1.3899, -0.6696, -0.3414,  ...,  1.2036, -0.0468,  0.0093],\n",
      "         [-1.3899, -0.6696, -0.3414,  ...,  1.2036, -0.0468,  0.0093],\n",
      "         [-1.3899, -0.6696, -0.3414,  ...,  1.2036, -0.0468,  0.0093]],\n",
      "\n",
      "        ...,\n",
      "\n",
      "        [[-1.7459, -0.6512,  0.0594,  ...,  1.3765, -0.8189,  0.6258],\n",
      "         [-2.0702,  0.3529, -0.9207,  ...,  1.8001, -2.2411,  2.0053],\n",
      "         [-0.5121, -0.5933, -1.0343,  ..., -0.8180, -2.3757, -0.7169],\n",
      "         ...,\n",
      "         [-1.3899, -0.6696, -0.3414,  ...,  1.2036, -0.0468,  0.0093],\n",
      "         [-1.3899, -0.6696, -0.3414,  ...,  1.2036, -0.0468,  0.0093],\n",
      "         [-1.3899, -0.6696, -0.3414,  ...,  1.2036, -0.0468,  0.0093]],\n",
      "\n",
      "        [[ 0.7815, -0.4908, -0.5792,  ...,  0.7380, -0.2366, -0.5066],\n",
      "         [ 0.8556,  0.4694, -0.0364,  ...,  1.5632,  1.7820,  1.8272],\n",
      "         [-0.3791,  0.1571, -0.4683,  ..., -1.3174, -0.9711, -1.6853],\n",
      "         ...,\n",
      "         [-1.3899, -0.6696, -0.3414,  ...,  1.2036, -0.0468,  0.0093],\n",
      "         [-1.3899, -0.6696, -0.3414,  ...,  1.2036, -0.0468,  0.0093],\n",
      "         [-1.3899, -0.6696, -0.3414,  ...,  1.2036, -0.0468,  0.0093]],\n",
      "\n",
      "        [[-0.3282,  0.5642,  0.1874,  ...,  0.8425, -0.8680, -0.3584],\n",
      "         [-0.0828,  0.5983, -1.0627,  ...,  0.9184,  0.6285,  0.0523],\n",
      "         [-1.5051,  0.8504, -0.1510,  ...,  0.1725, -0.6697, -0.5588],\n",
      "         ...,\n",
      "         [-1.3899, -0.6696, -0.3414,  ...,  1.2036, -0.0468,  0.0093],\n",
      "         [-1.3899, -0.6696, -0.3414,  ...,  1.2036, -0.0468,  0.0093],\n",
      "         [-1.3899, -0.6696, -0.3414,  ...,  1.2036, -0.0468,  0.0093]]],\n",
      "       grad_fn=<EmbeddingBackward0>) torch.Size([32, 64, 512])\n"
     ]
    }
   ],
   "source": [
    "embedding_dim = d_model\n",
    "embedding = nn.Embedding(len(vocab), embedding_dim)\n",
    "comment, star = next(iter(train_loader))\n",
    "print(comment, comment.shape)\n",
    "\n",
    "em_result = embedding(comment)\n",
    "print(em_result, em_result.shape)"
   ]
  },
  {
   "cell_type": "markdown",
   "id": "78e87ca8-d715-4d35-97d0-fa64790460cb",
   "metadata": {},
   "source": [
    "### 位置编码\n",
    "\n",
    "参考资料：https://blog.csdn.net/m0_37605642/article/details/132866365\n",
    "\n",
    "#### 为什么需要位置编码\n",
    "\n",
    "1. **捕捉序列顺序信息**：Transformer模型本身通过自注意力机制处理输入，但这种机制本质上是顺序不变的（sequence-agnostic）。也就是说，如果没有额外的信息，模型无法区分词序。位置编码的引入就是为了提供这种序列中词的相对或绝对位置信息。\n",
    "\n",
    "2. **区分相同词汇在不同位置的语义**：在语言中，相同的词汇在不同的位置可能具有不同的含义或重要性。位置编码帮助模型理解这种区别。\n",
    "\n",
    "#### 位置编码的原理\n",
    "\n",
    "理想的位置编码应该满足：\n",
    "\n",
    "* 为每个字输出唯一的编码；\n",
    "* 不同长度的句子之间，任何两个字之间的差值应该保持一致；\n",
    "* 编码值应该是有界的。\n",
    "\n",
    "使用正余弦函数这样的周期函数可以很好地满足上面的要求：\n",
    "\n",
    "* 一个词语的位置编码是由不同频率的余弦函数组成的，从低位到高位，余弦函数对应的频率由$1$降低到 $\\frac{1}{10000}$，波长从 $2\\pi$ 增加到 $10000\\cdot2\\pi$\n",
    "\n",
    "$$PE_{(pos,2i)} = \\sin\\Bigg(\\frac{pos}{10000^{2i/d_{\\text{model}}}}\\Bigg)$$\n",
    "\n",
    "$$PE_{(pos,2i+1)} = \\cos\\Bigg(\\frac{pos}{10000^{2i/d_{\\text{model}}}}\\Bigg)$$\n",
    "\n",
    "* 所以需要生成的位置编码的矩阵为$[sentence\\_len, d_{model}]$，第一个维度为最大句子长度，第二个维度为词嵌入模型的维度\n",
    "\n",
    "* $pos = 0, 1, ..., N - 1$，$i = 0, 1, ..., \\frac{d_{model}}{2} - 1$。简单来说就是pos和句子长度相关，每个位置的词都有$d_{model}$个正余弦函数，奇数行为正弦，偶数行为余弦\n",
    "\n",
    "* 输入经过embedding后的结果$X$，输出添加位置信息后的结果$X + PE$。\n",
    "\n",
    "#### 代码说明\n",
    "\n",
    "参考OpenNMT中的代码实现\n",
    "\n",
    "```python\n",
    "class PositionalEncoding(nn.Module):\n",
    "\n",
    "    def __init__(self, d_model, max_len=5000):\n",
    "        super(PositionalEncoding, self).__init__()       \n",
    "        pe = torch.zeros(max_len, d_model)\n",
    "        position = torch.arange(0, max_len, dtype=torch.float).unsqueeze(1)\n",
    "        div_term = torch.exp(torch.arange(0, d_model, 2).float() * (-math.log(10000.0) / d_model))\n",
    "        pe[:, 0::2] = torch.sin(position * div_term)\n",
    "        pe[:, 1::2] = torch.cos(position * div_term)\n",
    "        pe = pe.unsqueeze(0).transpose(0, 1)\n",
    "        #pe.requires_grad = False\n",
    "        self.register_buffer('pe', pe)\n",
    "\n",
    "    def forward(self, x):\n",
    "        return x + self.pe[:x.size(0), :]\n",
    "```\n",
    "\n",
    "`pe`：该矩阵为全为0的，形状为$[max\\_len, d\\_model]$的张量，会在之后进行处理。\n",
    "\n",
    "`position`：生成值为$[0, max\\_len)$的序列，并且添加一个维度，将其从一维$[max\\_len]$的形状变为二维$[1, max\\_len]$。\n",
    "\n",
    "`div_term`：`torch.arange(0, d_model, 2)`先生成值为$[0, d\\_model), step=2$，形状为$[\\frac{d\\_model}{2}]$的张量，然后进行下一步处理。\n",
    "\n",
    "`-math.log(10000.0)`：为了在代码中简化计算，可以只计算 $\\ln{(10000)}$ 的一部分，并且用负号来处理指数的递减特性（原公式中是除以这个指数，而在代码中是乘以它）。因此，$-\\ln{(10000)}$ 就是为了在代码实现中简化和直接应用 $10000^{2i/d\\_model}$ 的计算。由于这个负号，值不相同但性质相同，$div\\_term$也可以实现和$\\frac{1}{10000^{2i/d\\_model}}$一样的效果，随着$2i$增加而递减。"
   ]
  },
  {
   "cell_type": "code",
   "execution_count": 79,
   "id": "ec87d8d6-dc89-4260-9d06-3c74f1792486",
   "metadata": {
    "tags": []
   },
   "outputs": [
    {
     "name": "stdout",
     "output_type": "stream",
     "text": [
      "tensor([[[-1.1399,  0.0000,  0.5366,  ...,  0.8761,  2.4652,  1.1855],\n",
      "         [ 2.1917,  0.6110,  0.7030,  ...,  1.1629, -0.0476,  1.7057],\n",
      "         [-0.4472, -2.3951, -0.5087,  ...,  2.6555,  0.5568,  2.9034],\n",
      "         ...,\n",
      "         [-2.6178, -1.0308,  0.4524,  ...,  2.4484, -0.0450,  1.1214],\n",
      "         [-2.3657,  0.0043, -0.5110,  ...,  2.4484, -0.0449,  0.0000],\n",
      "         [-1.3584,  0.3514, -1.3611,  ...,  2.4484, -0.0448,  1.1214]],\n",
      "\n",
      "        [[ 2.2444,  0.0223,  0.4874,  ...,  2.9514, -0.0000, -2.7293],\n",
      "         [-0.1367,  0.5053,  0.3906,  ...,  2.4156, -2.5711, -0.2457],\n",
      "         [ 1.5821, -0.3192,  3.1248,  ...,  1.5868,  1.5051,  1.1360],\n",
      "         ...,\n",
      "         [-2.6178, -1.0308,  0.4524,  ...,  2.4484, -0.0450,  1.1214],\n",
      "         [-2.3657,  0.0043, -0.5110,  ...,  2.4484, -0.0449,  1.1214],\n",
      "         [-1.3584,  0.3514, -1.3611,  ...,  2.4484, -0.0448,  1.1214]],\n",
      "\n",
      "        [[-1.9847,  1.8095, -0.2271,  ...,  0.1106,  0.1304, -0.9397],\n",
      "         [ 0.4583,  0.8920,  0.1241,  ...,  3.1347, -0.0000,  1.5038],\n",
      "         [ 0.5947, -1.1654,  2.5489,  ...,  0.8564,  0.1476,  1.0173],\n",
      "         ...,\n",
      "         [-2.6178, -1.0308,  0.4524,  ...,  2.4484, -0.0450,  1.1214],\n",
      "         [-2.3657,  0.0043, -0.5110,  ...,  2.4484, -0.0449,  1.1214],\n",
      "         [-1.3584,  0.3514, -1.3611,  ...,  2.4484, -0.0448,  1.1214]],\n",
      "\n",
      "        ...,\n",
      "\n",
      "        [[-1.9399,  0.3875,  0.0660,  ...,  2.6406, -0.9099,  1.8064],\n",
      "         [-1.3652,  0.9924, -0.1098,  ...,  3.1112, -2.4900,  0.0000],\n",
      "         [ 0.4413, -1.1217, -0.1087,  ...,  0.2023, -2.6395,  0.3146],\n",
      "         ...,\n",
      "         [-2.6178, -1.0308,  0.4524,  ...,  2.4484, -0.0450,  1.1214],\n",
      "         [-2.3657,  0.0043, -0.0000,  ...,  2.4484, -0.0449,  1.1214],\n",
      "         [-1.3584,  0.3514, -1.3611,  ...,  2.4484, -0.0448,  1.1214]],\n",
      "\n",
      "        [[ 0.8684,  0.0000, -0.6436,  ...,  1.9312, -0.2629,  0.5482],\n",
      "         [ 1.8856,  1.1219,  0.8727,  ...,  2.8480,  1.9801,  3.1413],\n",
      "         [ 0.5891, -0.2879,  0.5201,  ..., -0.3526, -1.0788, -0.7615],\n",
      "         ...,\n",
      "         [-2.6178, -1.0308,  0.4524,  ...,  2.4484, -0.0450,  0.0000],\n",
      "         [-2.3657,  0.0043, -0.5110,  ...,  2.4484, -0.0449,  1.1214],\n",
      "         [-1.3584,  0.3514, -1.3611,  ...,  0.0000, -0.0448,  1.1214]],\n",
      "\n",
      "        [[-0.0000,  1.7380,  0.2082,  ...,  2.0472, -0.9645,  0.7129],\n",
      "         [ 0.8429,  1.2652, -0.0000,  ...,  2.1315,  0.6985,  0.0000],\n",
      "         [-0.6620,  0.4825,  0.8727,  ...,  0.0000, -0.7439,  0.4903],\n",
      "         ...,\n",
      "         [-2.6178, -1.0308,  0.4524,  ...,  2.4484, -0.0450,  0.0000],\n",
      "         [-2.3657,  0.0043, -0.5110,  ...,  2.4484, -0.0449,  0.0000],\n",
      "         [-1.3584,  0.0000, -1.3611,  ...,  2.4484, -0.0448,  1.1214]]],\n",
      "       grad_fn=<MulBackward0>) torch.Size([32, 64, 512])\n"
     ]
    }
   ],
   "source": [
    "class PositionalEncoding(nn.Module):\n",
    "    def __init__(self, max_len:int, embed_dim:int, dropout:float=0.1) -> None:\n",
    "        super(PositionalEncoding, self).__init__()\n",
    "        self.dropout = nn.Dropout(dropout)\n",
    "        pe = torch.zeros(max_len, embed_dim)\n",
    "        position = torch.arange(0, max_len, dtype=torch.float).unsqueeze(1) # 分子部分，生成[0, max_len)的序列，并且添加一个维度\n",
    "        _2i = torch.arange(0, embed_dim, step=2).float() # 生成_2序列\n",
    "        \n",
    "        # 奇数列为正弦，偶数列为余弦\n",
    "        pe[:, 0::2] = torch.sin(position / (10000 ** (_2i / embed_dim)))\n",
    "        pe[:, 1::2] = torch.cos(position / (10000 ** (_2i / embed_dim)))\n",
    "        \n",
    "        # 将位置编码矩阵 pe 注册为一个 buffer，被认为是持久的值，不会作为模型参数，可添加到gpu中\n",
    "        self.register_buffer('pe', pe)\n",
    "    \n",
    "    def forward(self, x:torch.Tensor) -> torch.Tensor:\n",
    "        # x形状为[btach_size, sentence_len, embed_dim]，x.size(1)为句子长度，即位置编码张量的句子长度应该大于等于输入的句子长度，也是pos的范围\n",
    "        # print(f'x:{x.shape}, self.pe:{self.pe.shape}')\n",
    "        x = x + self.pe[:x.size(1), :]\n",
    "        return self.dropout(x)\n",
    "        \n",
    "\n",
    "pe_layer = PositionalEncoding(max_len, embedding_dim)\n",
    "pe_result = pe_layer(em_result)\n",
    "print(pe_result, pe_result.shape)"
   ]
  },
  {
   "cell_type": "code",
   "execution_count": 80,
   "id": "0ef9f716-a979-488c-b807-1e7c872494f7",
   "metadata": {
    "tags": []
   },
   "outputs": [
    {
     "data": {
      "image/png": "[encoded data removed]",
      "text/plain": [
       "<Figure size 2000x800 with 2 Axes>"
      ]
     },
     "metadata": {},
     "output_type": "display_data"
    }
   ],
   "source": [
    "# 绘制位置编码图像\n",
    "_max_len = 128\n",
    "_embed_dim = 256\n",
    "_pos_encoding = PositionalEncoding(_max_len, _embed_dim, dropout=0)\n",
    "_pe = _pos_encoding.pe.squeeze(0)\n",
    "\n",
    "plt.figure(figsize=(20, 8))\n",
    "plt.imshow(_pe)\n",
    "plt.colorbar()\n",
    "plt.title(\"Positional Encoding\")\n",
    "plt.xlabel(\"Embedding Dimensions\")\n",
    "plt.ylabel(\"Position\")\n",
    "plt.show()"
   ]
  },
  {
   "cell_type": "markdown",
   "id": "ec58f016-a428-45d3-837a-6f628ef3fac9",
   "metadata": {},
   "source": [
    "### 注意力机制\n",
    "\n",
    "<img src=\"./images/Scaled Dot-Product Attention.png\" title=\"Scaled Dot-Product Attention\" width=\"300\" alt=\"Scaled Dot-Product Attention 图片来自论文https://arxiv.org/abs/1706.03762\">\n",
    "<p>Scaled Dot-Product Attention</p>\n",
    "\n",
    "图片来自论文https://arxiv.org/abs/1706.03762\n",
    "\n",
    "参考文章：\n",
    "\n",
    "* https://jalammar.github.io/illustrated-transformer/\n",
    "\n",
    "* https://www.zhihu.com/tardis/zm/art/414084879\n",
    "\n",
    "#### Scaled Dot-Product Attention\n",
    "\n",
    "Scaled Dot-Product Attention 是 Transformer 模型中自注意力机制的核心组成部分。这种注意力机制是通过计算查询（Queries）、键（Keys）和值（Values）之间的关系来实现的。它的基本思想是，对于每个查询，计算它与所有键的点积，然后对这些点积应用一个缩放因子，接着使用 softmax 函数来获取权重分布，最后用这些权重来加权对应的值。\n",
    "\n",
    "#### 自注意力的特点\n",
    "\n",
    "- **同一输入**：在自注意力中，查询（Q）、键（K）和值（V）都来自于同一个输入（例如，同一句话中的不同词汇）。\n",
    "- **序列内关联**：自注意力关注输入序列内部的关联，即一个元素如何与序列中的其他元素相关联。\n",
    "\n",
    "#### 举例\n",
    "\n",
    "假设有一个简单的句子 \"Thinking machines\"。在自注意力机制中，\"Thinking\" 和 \"machines\" 同时作为查询、键和值。模型将计算 \"Thinking\" 与 \"Thinking\" 和 \"machines\" 的关联，以及 \"machines\" 与 \"Thinking\" 和 \"machines\" 的关联。通过这种方式，模型能够捕捉序列中不同元素之间的关系。\n",
    "\n",
    "#### 查询（Queries）、键（Keys）和值（Values）\n",
    "\n",
    "1. **查询（Queries）**：\n",
    "   - 代表当前正在处理的目标元素。\n",
    "   - 在自注意力中，每个序列中的元素都会被当作查询来考察与其他元素的关系。\n",
    "\n",
    "2. **键（Keys）**：\n",
    "   - 与查询配对，用于计算注意力得分。\n",
    "   - 在自注意力中，序列中的每个元素都会被转换成一个键，与每个查询配对，以评估它们之间的关联程度。\n",
    "\n",
    "3. **值（Values）**：\n",
    "   - 与键相关联的实际内容。\n",
    "   - 在自注意力中，序列中的每个元素也会被转换成一个值。注意力得分用于加权这些值，得到加权的输出，这些输出反映了输入序列中元素的聚合信息。\n",
    "\n",
    "#### Scaled Dot-Product Attention 的计算过程\n",
    "\n",
    "**公式表示**：$$\\text{Attention}(Q, K, V) = \\text{softmax}\\left(\\frac{QK^T}{\\sqrt{d_{model}}}\\right)V$$\n",
    "其中，$Q$, $K$, $V$ 分别是查询、键和值的矩阵，$d_{model}$ 是键向量的维度。\n",
    "\n",
    "1. 点积注意力计算\n",
    "\n",
    "- 首先，计算每个查询与所有键的点积。这个操作实际上在评估每个查询与每个键之间的相似度或关联程度。注意力分数的计算公式为：$$\\text{Attention Score}(Q, K)=\\frac{QK^T}{\\sqrt{d_{model}}}$$\n",
    "\n",
    "2. 缩放\n",
    "\n",
    "- 点积通常会随着维度的增加而变大，可能导致 softmax 函数进入梯度较小的区域，从而影响模型学习效率。\n",
    "- 为了缓解这个问题，将点积的结果除以$\\sqrt{d_{model}}$（即键向量维度的平方根）进行缩放。\n",
    "\n",
    "3. 应用 Softmax\n",
    "\n",
    "- 使用 softmax 函数将缩放后的点积转换为概率分布。这一步骤确保了输出的注意力得分总和为 1，即将注意力分布在不同的键上。\n",
    "\n",
    "4. 加权和\n",
    "\n",
    "- 将 softmax 得分应用于值，得到加权和。这样，每个查询的输出都是值的加权组合，其中的权重反映了输入序列中不同元素对当前查询元素的重要性。\n",
    "\n",
    "在 Scaled Dot-Product Attention 中，查询、键和值共同协作，使模型能够专注于输入序列中与当前元素最相关的部分。通过这种方式，模型能够捕捉序列内部的复杂依赖关系，无论这些依赖是长期的还是短期的。这种注意力机制是 Transformer 强大性能的关键，使其在处理各种序列数据（如自然语言、音频信号等）时表现出色。\n",
    "\n",
    "#### 代码说明\n",
    "\n",
    "* $Q$、$K$、$V$的转换通常是在 Transformer 模型的编码器或解码器层中进行的，而不是直接在自注意力机制内部。这是因为自注意力层通常被设计为一个更通用的模块，可以接受已经转换好的$Q$、$K$、$V$作为输入。\n",
    "\n",
    "* 在解码器中，存在mask掩码，是为了控制或限制某些元素在注意力机制计算中的影响。掩码通常用于实现以下目的：\n",
    "    1. **屏蔽无关的或非法的位置**：\n",
    "        - 在处理带有填充（padding）的序列时，掩码用于确保模型在注意力计算中不考虑填充位置（`[PAD]`）。\n",
    "    2. **实现因果关系（Causal）或顺序遮蔽**：\n",
    "        - 在一些任务中，如语言模型训练，当前词汇的预测只应依赖于前面的词汇（而不是后面的），以保持信息流的单向性。只有该位置之前的位置（包括当前位置）被考虑，而之后的位置被掩蔽掉。\n",
    "    3. **掩码的技术实现**\n",
    "        - 掩码一般是一个与注意力得分矩阵形状相同的张量，其中要被忽略的位置上的值设为负无穷（或非常小的值），而其余位置上的值设为 0。\n",
    "        - 当这个掩码加到未经 softmax 的注意力得分上时，被掩蔽的位置上的得分变得非常小（接近于负无穷），因此在经过 softmax 后，这些位置的注意力权重（即概率）变为接近于零，从而在注意力加权和计算中不起作用。\n",
    "\n",
    "* 在多头注意力机制中，$d_{model}$ 会被分割成多个较小的部分，每个部分对应一个“头”。例如，如果 $d_{model} = 512$ 且使用了 8 个头，那么每个头处理的维度就是 64。这些小的头独立工作，最后其输出通常会被连接起来，再通过一个线性层，使其维度恢复为$d_{model}$。\n",
    "\n",
    "* 维度变化：\n",
    "    1. **输入嵌入**\n",
    "        - 形状：`[batch_size, seq_length, d_model]`\n",
    "    2. **通过线性层生成 Q, K, V**\n",
    "        - Q, K, V 形状：`[batch_size, seq_length, d_model]`\n",
    "    3. **应用多头注意力**\n",
    "        - 分割 Q, K, V 为多个头\n",
    "        - 每个头的 Q, K, V 形状：`[batch_size, seq_length, d_k]` \n",
    "         (其中 `d_k = d_model / num_heads`)\n",
    "    4. **计算 Scores**\n",
    "        - 执行 `matmul(Q, K.transpose(-2, -1))`\n",
    "        - Scores 形状：`[batch_size, seq_length, seq_length]`\n",
    "    5. **应用 Scores 到 V**\n",
    "        - 执行 `matmul(Scores, V)`\n",
    "        - 输出形状：`[batch_size, seq_length, d_k]`\n",
    "    6. **合并多头输出并通过线性层**\n",
    "        - 合并后形状：`[batch_size, seq_length, d_model]`\n"
   ]
  },
  {
   "cell_type": "code",
   "execution_count": 81,
   "id": "90f17f14-7f0b-4279-b04f-2462748bfae5",
   "metadata": {
    "tags": []
   },
   "outputs": [
    {
     "name": "stdout",
     "output_type": "stream",
     "text": [
      "Output Shape: torch.Size([32, 64, 512])\n",
      "Attention Shape: torch.Size([32, 64, 64])\n"
     ]
    }
   ],
   "source": [
    "class ScaledDotProductAttention(nn.Module):\n",
    "    def __init__(self, dim_k:int, dropout:float=0.1) -> None:\n",
    "        super(ScaledDotProductAttention, self).__init__()\n",
    "        self.d_k = dim_k\n",
    "        self.sqrt_dk = torch.sqrt(torch.tensor(dim_k, dtype=torch.float32))\n",
    "        self.softmax = nn.Softmax(dim=-1)\n",
    "        self.dropout = nn.Dropout(dropout)\n",
    "        \n",
    "    def forward(self, query:torch.Tensor, key:torch.Tensor, value:torch.Tensor, mask:torch.Tensor=None) -> (torch.Tensor, torch.Tensor):\n",
    "        # q和k维度相同，所以需要将k转置一下\n",
    "        scores = torch.matmul(query, key.transpose(-2, -1)) / self.sqrt_dk\n",
    "        \n",
    "        if mask is not None: # 不直接if mask是为了避免张量全为0而跳过掩码处理的可能\n",
    "            scores = scores.masked_fill(mask == 0, torch.finfo(scores.dtype).min) # torch.finfo(scores.dtype).min是dtype类型的最小值\n",
    "            \n",
    "        # 计算 softmax 得到注意力权重\n",
    "        attention = self.softmax(scores)\n",
    "        attention = self.dropout(attention)\n",
    "        output = torch.matmul(attention, value)\n",
    "        \n",
    "        return output, attention\n",
    "    \n",
    "\n",
    "# 生成随机值进行测试\n",
    "sdpa_layer = ScaledDotProductAttention(d_model)\n",
    "Q = torch.randn(batch_size, max_len, d_model)\n",
    "K = torch.randn(batch_size, max_len, d_model)\n",
    "V = torch.randn(batch_size, max_len, d_model)\n",
    "\n",
    "# 假设全为 1，表示没有掩码\n",
    "mask = torch.ones(batch_size, max_len, max_len)\n",
    "\n",
    "# 测试 ScaledDotProductAttention 层\n",
    "output, attention = sdpa_layer(Q, K, V, mask)\n",
    "\n",
    "print(\"Output Shape:\", output.shape)\n",
    "print(\"Attention Shape:\", attention.shape)"
   ]
  },
  {
   "cell_type": "markdown",
   "id": "a13bfebe-9d83-4745-9b4d-e13e4253bfff",
   "metadata": {},
   "source": [
    "### Mask\n",
    "\n",
    "在Transformer模型中，编码器（Encoder）和解码器（Decoder）使用掩码（mask）的目的和方式有所不同。\n",
    "\n",
    "#### 编码器中的掩码\n",
    "\n",
    "在编码器中，掩码主要用于屏蔽（masking）掉填充（padding）部分的影响。由于在处理自然语言数据时，不同的句子或文本序列往往长度不一，因此常常需要在较短的句子末尾添加填充标记，以使所有输入序列的长度一致。\n",
    "\n",
    "- **目的**：避免模型在自注意力计算中考虑填充的部分，因为这些部分是无意义的，并不属于原始输入序列的一部分。\n",
    "- **实现**：通常，编码器的掩码是一个二维的布尔张量（或等效的实现），其中填充位置被标记为`True`（或一个非常大的负数，以便在应用softmax时接近于零）。这个掩码被用于修改自注意力层的注意力分数，使得模型不会将注意力放在填充的词上。\n",
    "\n",
    "#### 解码器中的掩码\n",
    "\n",
    "解码器中的掩码有两种：一种是类似于编码器中的填充掩码，另一种是查找掩码（look-ahead mask，也称为因果掩码或解码器自注意力掩码）。\n",
    "\n",
    "1. **填充掩码**：\n",
    "   - 与编码器中的填充掩码类似，用于屏蔽掉填充部分的影响。\n",
    "\n",
    "2. **查找掩码**：\n",
    "   - **目的**：在训练阶段，防止解码器的自注意力层“偷看”未来的词。在自然语言处理的序列生成任务中，模型在生成当前词时应该只能依赖于之前的词。\n",
    "   - **实现**：通过一个三角形的掩码（上三角为`True`或一个非常大的负数），确保在计算自注意力时，每个词只能与它之前的词（包括自己）进行交互，而不能与之后的词进行交互。\n",
    "\n",
    "#### 情感分析任务的mask\n",
    "\n",
    "* 情感分析任务为分类任务，输出为1-5的评分，所以仅仅需要encoder的mask"
   ]
  },
  {
   "cell_type": "code",
   "execution_count": 82,
   "id": "0c84174f-7a55-4e06-ad28-504c49e5665e",
   "metadata": {
    "tags": []
   },
   "outputs": [
    {
     "name": "stdout",
     "output_type": "stream",
     "text": [
      "tensor([[  174,     2,    84,    57,    25,   497,   508,     2,   718,     7,\n",
      "           252,  4637,     4, 20642,   429,     4,   173,  2173,   530,     7,\n",
      "           323,   375,     1,     1,     1,     1,     1,     1,     1,     1,\n",
      "             1,     1,     1,     1,     1,     1,     1,     1,     1,     1,\n",
      "             1,     1,     1,     1,     1,     1,     1,     1,     1,     1,\n",
      "             1,     1,     1,     1,     1,     1,     1,     1,     1,     1,\n",
      "             1,     1,     1,     1]]) torch.Size([1, 64])\n",
      "tensor([[[ True,  True,  True,  ..., False, False, False],\n",
      "         [ True,  True,  True,  ..., False, False, False],\n",
      "         [ True,  True,  True,  ..., False, False, False],\n",
      "         ...,\n",
      "         [ True,  True,  True,  ..., False, False, False],\n",
      "         [ True,  True,  True,  ..., False, False, False],\n",
      "         [ True,  True,  True,  ..., False, False, False]]]) torch.Size([1, 64, 64])\n",
      "tensor([ True,  True,  True,  True,  True,  True,  True,  True,  True,  True,\n",
      "         True,  True,  True,  True,  True,  True,  True,  True,  True,  True,\n",
      "         True,  True, False, False, False, False, False, False, False, False,\n",
      "        False, False, False, False, False, False, False, False, False, False,\n",
      "        False, False, False, False, False, False, False, False, False, False,\n",
      "        False, False, False, False, False, False, False, False, False, False,\n",
      "        False, False, False, False])\n"
     ]
    }
   ],
   "source": [
    "def create_padding_mask(seq_q:torch.Tensor, seq_k:torch.Tensor, pad_idx:int) -> torch.Tensor:\n",
    "    \"\"\" 创建注意力掩码以识别序列中的<pad>占位符\n",
    "    Args:\n",
    "        seq_q (Tensor): query序列，shape = [batch size, query len]\n",
    "        seq_k (Tensor): key序列，shape = [batch size, key len]\n",
    "        pad_idx (int): key序列<pad>占位符对应的数字索引\n",
    "    \"\"\"\n",
    "    # 创建一个掩码，其中seq_k等于pad_idx的位置为True\n",
    "    pad_attn_mask = (seq_k == pad_idx)\n",
    "\n",
    "    # 调整掩码的形状以匹配注意力权重矩阵的形状\n",
    "    pad_attn_mask = pad_attn_mask.unsqueeze(1).expand(-1, seq_q.size(1), -1)\n",
    "\n",
    "    return pad_attn_mask == False\n",
    "\n",
    "temp = comment[0].unsqueeze(0)\n",
    "print(temp, temp.shape)\n",
    "temp_mask_result = create_padding_mask(temp, temp, pad_idx=vocab['<pad>'])\n",
    "print(temp_mask_result, temp_mask_result.shape)\n",
    "print(temp_mask_result[0][0])"
   ]
  },
  {
   "cell_type": "markdown",
   "id": "2899e8b5-0791-4ba3-9aad-0067298100f2",
   "metadata": {},
   "source": [
    "### 多头注意力(Multi-Head Attention)\n",
    "\n",
    "多头注意力（Multi-Head Attention）是 Transformer 模型中的一个核心组件，它允许模型在不同的表示子空间中并行地关注输入序列的不同部分。这种机制提高了模型捕获各种不同特征的能力，从而增强了整体性能。\n",
    "\n",
    "#### 多头注意力的工作原理\n",
    "\n",
    "多头注意力的关键在于将原始的注意力机制（如缩放点积注意力）分割成多个头部（head），每个头部独立地进行注意力计算。这样做的优势在于：\n",
    "\n",
    "1. **多角度学习**：每个头部可以从不同的角度学习输入数据的特征，捕捉不同层次的信息。\n",
    "2. **并行处理**：所有的头部可以并行地执行，提高计算效率。\n",
    "3. **增强表达能力**：通过将多个头部的结果组合起来，模型可以获得更丰富、更综合的信息表示。\n",
    "\n",
    "#### 多头注意力的实现\n",
    "\n",
    "每个头部独立执行以下操作：\n",
    "\n",
    "1. **线性映射**：输入的 Q（查询），K（键）和 V（值）通过不同的线性层（权重矩阵 $W^Q_i$、$W^K_i$ 和 $W^V_i$）映射到不同的子空间。\n",
    "   \n",
    "   $$\n",
    "   \\text{head}_i = \\text{Attention}(QW^Q_i, KW^K_i, VW^V_i) = \\text{softmax}\\left(\\frac{QW^Q_i (KW^K_i)^T}{\\sqrt{d_{k}}}\\right)VW^V_i\n",
    "   $$\n",
    "   \n",
    "   其中，$W^Q_i \\in \\mathbb{R}^{d_{model}\\times d_{k}}$、$W^K_i \\in \\mathbb{R}^{d_{model}\\times d_{k}}$ 和 $W^V_i \\in \\mathbb{R}^{d_{model}\\times d_{v}}$ 是可学习的权重参数。一般来说，$d_k = d_v = d_{model} / n_{head}$。\n",
    "\n",
    "2. **计算自注意力**：在每个子空间内，独立计算自注意力分数和输出。\n",
    "\n",
    "3. **合并头部输出**：将所有头部的输出拼接到一起，并通过另一个线性层 $W^O$ 映射回原始维度。\n",
    "   \n",
    "   $$\n",
    "   \\text{MultiHead}(Q, K, V) = \\text{Concat}(\\text{head}_1, ..., \\text{head}_h)W^O\n",
    "   $$\n",
    "   \n",
    "#### 代码说明\n",
    "\n",
    "- `batch_size`: 批次大小\n",
    "- `max_len`: 序列长度\n",
    "- `d_model`: 模型维度\n",
    "- `num_heads`: 注意力头数\n",
    "- `d_k`: 每个头的维度，这里是 `d_model / num_heads`\n",
    "\n",
    "1. **输入嵌入 (Embedding Input):**\n",
    "    - 形状：`[batch_size, max_len, d_model]`\n",
    "2. **通过线性层生成 Q, K, V (Linear Transformation for Q, K, V):**\n",
    "    - 对于Q, K, V，每个的形状在通过`W_q`, `W_k`, `W_v`后保持不变：`[batch_size, max_len, d_model]`\n",
    "3. **应用多头注意力 (Applying Multi-Head Attention):**\n",
    "    - 分割Q, K, V为多个头，每个头的维度为`d_k`，`[batch_size, max_len, num_heads, d_k]`\n",
    "    - transpose后每个头的Q, K, V形状：`[batch_size, num_heads, max_len, d_k]`\n",
    "    - mask维度为`[batch_size, max_len, max_len]`，经过unsqueeze后变为`[batch_size, 1, max_len, max_len]`，expand后变为`[batch_size, num_heads, max_len, max_len]`\n",
    "    - 返回的矩阵形状为`[batch_size, num_heads, max_len, d_k]`\n",
    "4. **合并多头输出并通过线性层 (Concatenating and Linear Transformation):**\n",
    "    - transpose后的维度为`[batch_size, max_len, num_heads, d_k]`\n",
    "    - contiguous()类似深拷贝，transpose并不会生成新的张量，修改会修改到原变量\n",
    "    - 经过view(batch_size, -1, self.d_model)后： 维度变为`[batch_size, seq_length, d_model]`\n",
    "    - 合并后的形状：`[batch_size, max_len, num_heads * d_k]`，然后通过`W_o`恢复到`[batch_size, max_len, d_model]`"
   ]
  },
  {
   "cell_type": "code",
   "execution_count": 83,
   "id": "bd331f80-f9ee-4356-b266-fd3536b89a36",
   "metadata": {
    "tags": []
   },
   "outputs": [
    {
     "name": "stdout",
     "output_type": "stream",
     "text": [
      "Output Shape: torch.Size([32, 64, 512])\n",
      "Attention Shape: torch.Size([32, 8, 64, 64])\n"
     ]
    }
   ],
   "source": [
    "class MultiHeadAttention(nn.Module):\n",
    "    def __init__(self, d_model:int, num_heads:int, dropout:float=0.1):\n",
    "        super(MultiHeadAttention, self).__init__()\n",
    "        self.d_model = d_model\n",
    "        self.num_heads = num_heads\n",
    "        self.d_k = d_model // num_heads\n",
    "        self.attention = ScaledDotProductAttention(self.d_k, dropout=dropout)\n",
    "\n",
    "        # 定义线性层\n",
    "        self.W_q = nn.Linear(d_model, d_model)\n",
    "        self.W_k = nn.Linear(d_model, d_model)\n",
    "        self.W_v = nn.Linear(d_model, d_model)\n",
    "        self.W_o = nn.Linear(d_model, d_model)\n",
    "\n",
    "\n",
    "    def forward(self, query:torch.Tensor, key:torch.Tensor, value:torch.Tensor, mask:torch.Tensor) -> (torch.Tensor, torch.Tensor):\n",
    "        # Q K V的形状为[batch_size, seq_len, d_model]\n",
    "        batch_size = query.size(0)\n",
    "        seq_len = query.size(1)\n",
    "\n",
    "        query = self.W_q(query).view(batch_size, -1, self.num_heads, self.d_k).transpose(1, 2)\n",
    "        key = self.W_k(key).view(batch_size, -1, self.num_heads, self.d_k).transpose(1, 2)\n",
    "        value = self.W_v(value).view(batch_size, -1, self.num_heads, self.d_k).transpose(1, 2)\n",
    "\n",
    "        # 计算多头注意力\n",
    "        mask = mask.unsqueeze(1)  # 添加一个维度\n",
    "        mask = mask.expand(batch_size, self.num_heads, seq_len, seq_len)  # 扩展mask以匹配多头注意力\n",
    "        output, attention = self.attention(query, key, value, mask)\n",
    "\n",
    "        # 拼接头部并应用最终线性层\n",
    "        # contiguous()类似深拷贝，transpose并不会生成新的张量，修改会修改到原变量\n",
    "        output = output.transpose(1, 2).contiguous().view(batch_size, -1, self.d_model)\n",
    "        output = self.W_o(output)\n",
    "\n",
    "        return output, attention\n",
    "    \n",
    "\n",
    "ma_layer = MultiHeadAttention(d_model, num_heads)\n",
    "output, attention = ma_layer(Q, K, V, mask)\n",
    "print(\"Output Shape:\", output.shape)\n",
    "print(\"Attention Shape:\", attention.shape)"
   ]
  },
  {
   "cell_type": "markdown",
   "id": "3a64a17c-6241-477a-a010-92b29c7039a6",
   "metadata": {},
   "source": [
    "### 基于位置的前馈神经网络（Position-Wise Feed-Forward Network）\n",
    "\n",
    "PFF网络包含以下主要组成部分：\n",
    "\n",
    "$$\\mathrm{FFN}(x) = \\mathrm{ReLU}(xW_1 + b_1)W_2 + b_2$$\n",
    "\n",
    "1. **两个线性层**：它们是全连接层，作用是对输入数据进行线性变换。\n",
    "2. **激活函数**：通常在这两个线性层之间。常用的激活函数是ReLU（Rectified Linear Unit）或GELU（Gaussian Error Linear Unit）。激活函数的作用是引入非线性，使模型能够学习到更复杂的特征。\n",
    "3. **Dropout**：可选的，用于减少过拟合。\n",
    "\n",
    "#### PFF网络的作用\n",
    "\n",
    "1. **非线性变换**：虽然Transformer的注意力机制非常强大，但它本质上是一种线性操作。PFF网络通过引入非线性激活函数，使模型能够学习更复杂的特征表示。\n",
    "2. **增加模型容量**：PFF网络通过增加参数数量，增加了模型的容量。这使得模型能够学习更多的特征，并提高了其在复杂任务上的性能。\n",
    "3. **独立处理每个位置**：PFF网络对序列中的每个位置独立地应用相同的操作，这有助于保持模型对输入顺序的敏感度。\n",
    "\n",
    "#### 代码说明\n",
    "\n",
    "- `d_model` 是输入和输出的维度，通常与Transformer模型中的嵌入维度相同。\n",
    "- `d_ff` 是内部层的维度，它通常大于`d_model`，以便在网络中引入更多的参数和非线性。\n",
    "- 使用ReLU作为激活函数。\n",
    "- 在两个线性层之间应用了激活函数和dropout。"
   ]
  },
  {
   "cell_type": "code",
   "execution_count": 84,
   "id": "a619f90d-aa50-4dca-b44c-81644626df39",
   "metadata": {
    "tags": []
   },
   "outputs": [
    {
     "name": "stdout",
     "output_type": "stream",
     "text": [
      "torch.Size([32, 64, 512])\n"
     ]
    }
   ],
   "source": [
    "class PositionWiseFeedForward(nn.Module):\n",
    "    def __init__(self, d_model:int, d_ff:int, dropout:float=0.1) -> None:\n",
    "        super(PositionWiseFeedForward, self).__init__()\n",
    "        self.FFN = nn.Sequential(\n",
    "            nn.Linear(d_model, d_ff),\n",
    "            nn.ReLU(),\n",
    "            nn.Dropout(dropout),\n",
    "            nn.Linear(d_ff, d_model),\n",
    "        )\n",
    "        \n",
    "    def forward(self, X:torch.Tensor) -> torch.Tensor:\n",
    "        return self.FFN(X)\n",
    "    \n",
    "    \n",
    "pwff_layer = PositionWiseFeedForward(d_model, 2048)\n",
    "pwff_result = pwff_layer(pe_result)\n",
    "print(pwff_result.shape)"
   ]
  },
  {
   "cell_type": "markdown",
   "id": "99eeee5c-6dc8-4c55-845d-ea41239d60ec",
   "metadata": {},
   "source": [
    "### Add & Norm\n",
    "\n",
    "包含两个主要部分：残差连接（Add）和层归一化（Norm）。这一步骤出现在自注意力（Self-Attention）和前馈全连接网络（Pointwise Feedforward Network）的每一个模块之后。\n",
    "\n",
    "1. **残差连接（Add）**\n",
    "   - **快速训练**：残差连接帮助解决了深度网络中的梯度消失问题，使得更深的网络能够更有效地训练。\n",
    "   - **信息保持**：它允许模型在每一层中保持输入信息的一部分，从而提高了信息流动和网络的学习能力。\n",
    "\n",
    "2. **层归一化（Norm）**\n",
    "   - **稳定训练**：归一化过程可以稳定训练过程，使得各层的学习速率相近，避免某些层过快或过慢地学习。\n",
    "   - **加快收敛**：通过规范化输入，层归一化有助于加快模型的收敛速度。\n",
    "\n",
    "#### 处理过程\n",
    "\n",
    "在每个自注意力和前馈全连接网络模块后，都会有一个Add & Norm步骤。处理过程可以描述如下：\n",
    "\n",
    "1. **残差连接（Add）**：\n",
    "   - 输入通过自注意力或前馈全连接网络得到输出。\n",
    "   - 将此输出与相应模块的原始输入相加（残差连接）。\n",
    "   - 公式：$\\text{Output}_{\\text{residual}} = \\text{Input} + \\text{Sublayer}(\\text{Input})$\n",
    "     其中，Sublayer表示自注意力或前馈全连接网络。\n",
    "2. **层归一化（Norm）**：\n",
    "   - 对残差连接的结果进行层归一化。\n",
    "   - 公式：$\\text{Output}_{\\text{norm}} = \\text{LayerNorm}(\\text{Output}_{\\text{residual}})$\n",
    "     层归一化公式是：$\\text{LayerNorm}(x) = \\gamma \\frac{x - \\mu}{\\sqrt{\\sigma^2 + \\epsilon}} + \\beta$\n",
    "     其中，$\\mu$和$\\sigma^2$分别是输入x的均值和方差，$\\gamma$和$\\beta$是可学习的参数，$\\epsilon$是一个很小的数，防止除以0。\n",
    "     \n",
    "####  代码说明\n",
    "\n",
    "* 通过transformer encoder的流程图可以看到，第一个Add&Norm部分的子层即为嵌入后的输入，第二个Add&Norm部分的子层为第一个Add&Norm的输出。`MultiHeadAttention`和`PoswiseFeedForward`是专门为Transformer设计的复杂子层。"
   ]
  },
  {
   "cell_type": "code",
   "execution_count": 85,
   "id": "a6182fb4-0f98-4d74-bf4c-d168b3c3d1bd",
   "metadata": {
    "tags": []
   },
   "outputs": [],
   "source": [
    "class AddNorm(nn.Module):\n",
    "    def __init__(self, size:int, dropout:float=0.1) -> None:\n",
    "        super(AddNorm, self).__init__()\n",
    "        self.norm = nn.LayerNorm(size)\n",
    "        self.dropout = nn.Dropout(dropout)\n",
    "        \n",
    "    def forward(self, x:torch.Tensor, sublayer:torch.Tensor) -> torch.Tensor:\n",
    "        # print(f'x:{x.shape}, sublayer:{sublayer.shape}')\n",
    "        return self.norm(self.dropout(x) + sublayer)"
   ]
  },
  {
   "cell_type": "markdown",
   "id": "3d69d55b-75d5-48f0-a5ab-139bc2d8d371",
   "metadata": {},
   "source": [
    "### Encoder Layer\n",
    "\n",
    "通过以上的组件，已经可以实现编码器的一个层了"
   ]
  },
  {
   "cell_type": "code",
   "execution_count": 86,
   "id": "639738a8-e0e2-4bec-a106-44433a62b5ca",
   "metadata": {
    "tags": []
   },
   "outputs": [
    {
     "name": "stdout",
     "output_type": "stream",
     "text": [
      "torch.Size([128, 32, 512]) torch.Size([128, 8, 32, 32])\n"
     ]
    }
   ],
   "source": [
    "class EncoderLayer(nn.Module):\n",
    "    def __init__(self, d_model:int, n_heads:int, d_ff:int, dropout:float=0.1) -> None:\n",
    "        super(EncoderLayer, self).__init__()\n",
    "        self.d_k = d_model // n_heads\n",
    "        \n",
    "        if self.d_k * n_heads != d_model:\n",
    "            raise ValueError(f\"`d_model` {d_model} can not be divisible by `num_heads` {n_heads}!\")\n",
    "            \n",
    "        self.attention = MultiHeadAttention(d_model, n_heads, dropout)\n",
    "        self.pos_ffn = PositionWiseFeedForward(d_model, d_ff, dropout)\n",
    "        self.add_norm1 = AddNorm(d_model, dropout)\n",
    "        self.add_norm2 = AddNorm(d_model, dropout)\n",
    "        \n",
    "    def forward(self, encoder_inputs:torch.Tensor, encoder_attention_mask:torch.Tensor) -> (torch.Tensor, torch.Tensor):\n",
    "        \"\"\"\n",
    "        encoder_inputs: [batch_size, src_len, d_model]\n",
    "        encoder_attention_mask: [batch_size, src_len, src_len]\n",
    "        \"\"\"\n",
    "        residual = encoder_inputs\n",
    "        # print(f'residual:{residual.shape}')\n",
    "        enc_outputs, attn = self.attention(encoder_inputs, encoder_inputs, encoder_inputs, encoder_attention_mask)\n",
    "        # print(f'enc_outputs:{enc_outputs.shape}, residual:{residual.shape}')\n",
    "        enc_outputs = self.add_norm1(enc_outputs, residual)\n",
    "        \n",
    "        residual = enc_outputs\n",
    "        enc_outputs = self.pos_ffn(enc_outputs)\n",
    "        enc_outputs = self.add_norm2(enc_outputs, residual)\n",
    "\n",
    "        return enc_outputs, attn\n",
    "    \n",
    "    \n",
    "x = torch.ones((128, 32, 512), dtype=torch.float32)\n",
    "mask = torch.tensor([False]).expand((128, 32, 32))\n",
    "encoder_layer = EncoderLayer(512, 8, 2048)\n",
    "output, attn = encoder_layer(x, mask)\n",
    "print(output.shape, attn.shape)"
   ]
  },
  {
   "cell_type": "markdown",
   "id": "15bcbb8b-382c-4e2e-ad43-744d90873f49",
   "metadata": {},
   "source": [
    "### 编码器\n",
    "\n",
    "将上面实现的EncoderLayer堆叠n次，即可实现编码器\n",
    "\n",
    "#### 代码说明\n",
    "\n",
    "* `nn.ModuleList`和`nn.Sequential`的区别\n",
    "\n",
    "    * `nn.ModuleList`\n",
    "        - **功能**: `nn.ModuleList` 是一个包含任意数量的 `nn.Module` 子模块的列表。它主要用于存储模块的列表，但不会自动处理前向传播。\n",
    "        - **使用方式**: 当需要一个模块的列表，而这些模块可能会在不同的上下文或以不规则的方式被调用时，可以使用 `nn.ModuleList`。\n",
    "        - **访问和使用**: 子模块可以通过索引访问，但每个模块的应用（例如在前向传播中）需要明确编写。\n",
    "    * `nn.Sequential`\n",
    "        - **功能**: `nn.Sequential` 是一个按顺序执行包含的每个模块的容器。它自动处理前向传播，按照它们被添加的顺序逐个调用每个模块。\n",
    "        - **使用方式**: 当你有一系列需要按顺序执行的模块时，使用 `nn.Sequential` 是非常方便的。这简化了前向传播的实现，因为不需要显式地编写数据通过每个模块的流程。\n",
    "        - **访问和使用**: 子模块将按照它们被添加的顺序自动执行，但不容易进行条件执行或访问中间层的输出。"
   ]
  },
  {
   "cell_type": "code",
   "execution_count": 87,
   "id": "6fd37b10-bc60-4a1b-a417-e9db1ed1a6c1",
   "metadata": {
    "tags": []
   },
   "outputs": [
    {
     "name": "stdout",
     "output_type": "stream",
     "text": [
      "torch.Size([32, 64, 512])\n",
      "6\n"
     ]
    }
   ],
   "source": [
    "class Encoder(nn.Module):\n",
    "    def __init__(self, src_vocab_size:int, max_len:int, d_model:int, n_heads:int, d_ff:int, n_layers:int, src_pad_idx:int, dropout_p:float=0.1):\n",
    "        super(Encoder, self).__init__()\n",
    "        self.src_pad_idx = src_pad_idx\n",
    "        self.src_emb = nn.Embedding(src_vocab_size, d_model)\n",
    "        self.pos_ffn = PositionalEncoding(max_len, d_model, dropout_p)\n",
    "        self.layers = nn.ModuleList([EncoderLayer(d_model, n_heads, d_ff, dropout_p) for _ in range(n_layers)])\n",
    "        self.scaling_factor = math.sqrt(d_model)\n",
    "\n",
    "    def forward(self, enc_inputs:torch.Tensor) -> torch.Tensor:\n",
    "        enc_outputs = self.src_emb(enc_inputs)\n",
    "        enc_outputs = self.pos_ffn(enc_outputs * self.scaling_factor)\n",
    "\n",
    "        enc_self_attn_mask = create_padding_mask(enc_inputs, enc_inputs, self.src_pad_idx)\n",
    "\n",
    "        enc_self_attns = []\n",
    "        for layer in self.layers:\n",
    "            enc_outputs, enc_self_attn = layer(enc_outputs, enc_self_attn_mask)\n",
    "            enc_self_attns.append(enc_self_attn)\n",
    "        return enc_outputs, enc_self_attns \n",
    "    \n",
    "\n",
    "encoder = Encoder(len(vocab), max_len, d_model, num_heads, d_ff, n_layers, vocab['<pad>'])\n",
    "enc_outputs, enc_self_attns = encoder(comment)\n",
    "print(enc_outputs.shape)\n",
    "print(len(enc_self_attns))"
   ]
  },
  {
   "cell_type": "markdown",
   "id": "b6731bc9-c511-46f6-841d-ba3d67f91013",
   "metadata": {},
   "source": [
    "### 解码器\n",
    "\n",
    "对于翻译等文本生成任务，还需要解码器，以及解码器对应的根据时间序列生成的掩码"
   ]
  },
  {
   "cell_type": "code",
   "execution_count": 88,
   "id": "e81df03d-5a2c-4aa0-afd6-4efc76476639",
   "metadata": {
    "tags": []
   },
   "outputs": [],
   "source": [
    "def create_subsequent_mask(seq_q:torch.Tensor, seq_k:torch.Tensor) -> torch.Tensor:\n",
    "    pass\n"
   ]
  },
  {
   "cell_type": "code",
   "execution_count": 89,
   "id": "389ec191-d0a5-4436-9d7b-af00667f2a60",
   "metadata": {
    "tags": []
   },
   "outputs": [],
   "source": [
    "class DecoderLayer(nn.Module):\n",
    "    def __init__(self):\n",
    "        pass"
   ]
  },
  {
   "cell_type": "markdown",
   "id": "6467a255-de34-4812-abdd-215bc879475f",
   "metadata": {},
   "source": [
    "### Transformer\n",
    "\n",
    "将编码器和解码器组合起来"
   ]
  },
  {
   "cell_type": "code",
   "execution_count": 90,
   "id": "eeb37d70-3b05-4452-9f53-40decd402cf8",
   "metadata": {
    "tags": []
   },
   "outputs": [],
   "source": [
    "class Transformer(nn.Module):\n",
    "    def __init__(self):\n",
    "        pass"
   ]
  },
  {
   "cell_type": "markdown",
   "id": "3602157c-3006-4646-8532-644127505977",
   "metadata": {},
   "source": [
    "### 情感分析任务\n",
    "\n",
    "对于情感分析任务（分类任务），仅仅使用encoder即可，将encoder的输出经过线性层得到1-5的评分预测"
   ]
  },
  {
   "cell_type": "code",
   "execution_count": 91,
   "id": "3afb89f4-02cd-446a-9ccb-2535d62668be",
   "metadata": {
    "tags": []
   },
   "outputs": [],
   "source": [
    "class TransformerForSentimentAnalysis(nn.Module):\n",
    "    def __init__(self, \n",
    "                 src_vocab_size:int, max_len:int, d_model:int, \n",
    "                 n_heads:int, d_ff:int, n_layers:int, \n",
    "                 src_pad_idx:int, num_classes:int, dropout_p=0.1) -> None:\n",
    "        super(TransformerForSentimentAnalysis, self).__init__()\n",
    "        self.encoder = Encoder(src_vocab_size, max_len, d_model, n_heads, d_ff, n_layers, src_pad_idx, dropout_p)\n",
    "        self.fc = nn.Linear(d_model, num_classes)\n",
    "\n",
    "    def forward(self, src) -> torch.Tensor:\n",
    "        # 通过编码器获取编码序列\n",
    "        enc_outputs, _ = self.encoder(src)\n",
    "\n",
    "        # 使用编码序列的第一个元素（对应于起始标记）来进行分类\n",
    "        # 从编码器输出的每个批次中提取全局表示，通常是序列的第一个元素\n",
    "        # out维度为[batch_size, num_classes]\n",
    "        out = self.fc(enc_outputs[:, 0, :])\n",
    "\n",
    "        return out"
   ]
  },
  {
   "cell_type": "markdown",
   "id": "2c45cbdc-0f52-41ff-86ff-264e11e963ae",
   "metadata": {},
   "source": [
    "## 训练过程\n",
    "\n",
    "定义超参数和优化器，开始训练迭代"
   ]
  },
  {
   "cell_type": "code",
   "execution_count": 103,
   "id": "242fc002-0a9e-49d7-8561-08e8cf3a1ce0",
   "metadata": {
    "tags": []
   },
   "outputs": [],
   "source": [
    "num_epochs = 30\n",
    "num_classes = 3\n",
    "learning_rate = 0.01\n",
    "batch_size = 32\n",
    "vocab_len = len(vocab)\n",
    "src_pad_idx = vocab['<pad>']\n",
    "max_len = 64\n",
    "d_model = 512\n",
    "num_heads = 8\n",
    "d_ff = 2048\n",
    "n_layers = 6\n",
    "d_k = d_model // num_heads\n",
    "\n",
    "model = TransformerForSentimentAnalysis(vocab_len, max_len, d_model, num_heads, d_ff, n_layers, src_pad_idx, num_classes).to(device)\n",
    "\n",
    "loss = nn.CrossEntropyLoss()\n",
    "optimizer = torch.optim.Adam(model.parameters(), lr=learning_rate)\n",
    "\n",
    "from torch.cuda.amp import GradScaler, autocast\n",
    "scaler = GradScaler()"
   ]
  },
  {
   "cell_type": "code",
   "execution_count": 104,
   "id": "1f09c2cf-1e4a-49e9-9112-2c6fbe21495a",
   "metadata": {
    "tags": []
   },
   "outputs": [],
   "source": [
    "def evaluate(model:torch.nn.Module, valid_data:torch.utils.data.dataloader.DataLoader) -> float:\n",
    "    model.eval()\n",
    "    total_correct = 0\n",
    "    total_samples = 0\n",
    "    with torch.no_grad():\n",
    "        for X, y in valid_data:\n",
    "            X, y = X.to(device), y.to(device)\n",
    "            \n",
    "            with autocast():\n",
    "                output = model(X)\n",
    "            \n",
    "            predictions = torch.argmax(output, dim=1)\n",
    "            total_correct += (predictions == y).sum().item()\n",
    "            total_samples += y.size(0)\n",
    "\n",
    "    # 计算准确率\n",
    "    accuracy = total_correct / total_samples\n",
    "    return accuracy"
   ]
  },
  {
   "cell_type": "code",
   "execution_count": null,
   "id": "c89f7097-97b7-4b73-8f35-99159600dbbf",
   "metadata": {
    "tags": []
   },
   "outputs": [
    {
     "name": "stderr",
     "output_type": "stream",
     "text": [
      "100%|███████████████████████████████████████████████████████████████████████████████| 7154/7154 [02:23<00:00, 49.94it/s]\n"
     ]
    },
    {
     "name": "stdout",
     "output_type": "stream",
     "text": [
      "Epoch 1/30, Loss: nan, Validation Accuracy: 0.5257\n"
     ]
    },
    {
     "name": "stderr",
     "output_type": "stream",
     "text": [
      " 38%|█████████████████████████████▉                                                 | 2706/7154 [00:52<01:25, 52.00it/s]"
     ]
    }
   ],
   "source": [
    "for epoch in range(num_epochs):\n",
    "    model.train()\n",
    "    total_loss = 0\n",
    "    for X, y in tqdm(train_loader):\n",
    "        X, y = X.to(device), y.to(device)\n",
    "        \n",
    "        with autocast():\n",
    "            output = model(X)\n",
    "            l = loss(output, y)\n",
    "        \n",
    "        optimizer.zero_grad()\n",
    "        scaler.scale(l).backward()\n",
    "        scaler.step(optimizer)\n",
    "        scaler.update()\n",
    "        # optimizer.step()\n",
    "        \n",
    "        total_loss += l.item()\n",
    "    \n",
    "    accuracy = evaluate(model, valid_loader)\n",
    "    print(f\"Epoch {epoch+1}/{num_epochs}, Loss: {total_loss/len(train_loader)}, Validation Accuracy: {accuracy:.4f}\")"
   ]
  },
  {
   "cell_type": "code",
   "execution_count": null,
   "id": "2d2441da-731c-48b8-adfa-35f718368381",
   "metadata": {},
   "outputs": [],
   "source": []
  }
 ],
 "metadata": {
  "kernelspec": {
   "display_name": "py3.11",
   "language": "python",
   "name": "python3"
  },
  "language_info": {
   "codemirror_mode": {
    "name": "ipython",
    "version": 3
   },
   "file_extension": ".py",
   "mimetype": "text/x-python",
   "name": "python",
   "nbconvert_exporter": "python",
   "pygments_lexer": "ipython3",
   "version": "3.11.5"
  }
 },
 "nbformat": 4,
 "nbformat_minor": 5
}
